{
 "cells": [
  {
   "cell_type": "markdown",
   "metadata": {},
   "source": [
    "<div style=\"border:solid green 2px; padding: 20px\"> <h1 style=\"color:green; margin-bottom:20px\">Reviewer's comment v1</h1>\n",
    "\n",
    "Hello Joshua!\n",
    "\n",
    "I'm happy to review your project today.  🙌\n",
    "\n",
    "You can find my comments under the heading **«Review»**. I will categorize my comments in green, blue or red boxes like this:\n",
    "\n",
    "<div class=\"alert alert-success\">\n",
    "    <b>Success:</b> if everything is done successfully\n",
    "</div>\n",
    "<div class=\"alert alert-warning\">\n",
    "    <b>Remarks:</b> if I can give some recommendations or ways to improve the project\n",
    "</div>\n",
    "<div class=\"alert alert-danger\">\n",
    "    <b>Needs fixing:</b> if the block requires some corrections. Work can't be accepted with the red comments\n",
    "</div>\n",
    "\n",
    "Please don't remove my comments :) If you have any questions don't hesitate to respond to my comments in a different section. \n",
    "<div class=\"alert alert-info\"> <b>Student comments: </div>    \n"
   ]
  },
  {
   "cell_type": "markdown",
   "metadata": {},
   "source": [
    "<div style=\"border:solid green 2px; padding: 20px\">\n",
    "<b>Reviewer's comment v1</b>\n",
    "    \n",
    "<b>Overall Feedback</b> \n",
    "    \n",
    "    \n",
    "Hello Joshua,\n",
    "\n",
    "Another project successfully completed - well done! 🏆 Your consistent effort and progress are truly commendable.\n",
    "\n",
    "Our team is here to help you keep pushing forward and honing your skills as you advance through the program.\n",
    "    \n",
    "You’ll find specific feedback in the notebook in the ‘Comments’ (`Reviewer's comment v1`) sections.\n",
    "    \n",
    "**What Was Great:**\n",
    "\n",
    "- You demonstrated a thorough approach to data loading, preparation, and cleaning, ensuring the data was in optimal shape for analysis.\n",
    "\n",
    "Congratulations again on your accomplishment! Each project you complete adds to your growing expertise, and it’s exciting to see you make such great strides. Keep up the great work! 🎯\n",
    "    \n",
    "PS: As a final note, I can recommend cool lectures on stat analysis here: https://www.youtube.com/playlist?list=PL2SOU6wwxB0uwwH80KTQ6ht66KWxbzTIo\n",
    "\n",
    "Another great self-paced course that covers basic concepts in probability and statistics - Probability and Statistics by Stanford Online or you could check this one An Introduction to Statistical Learning with Applications in R 🙌\n",
    "</div>"
   ]
  },
  {
   "cell_type": "markdown",
   "metadata": {},
   "source": [
    "# Which one is a better plan?\n",
    "\n",
    "You work as an analyst for the telecom operator Megaline. The company offers its clients two prepaid plans, Surf and Ultimate. The commercial department wants to know which of the plans brings in more revenue in order to adjust the advertising budget.\n",
    "\n",
    "You are going to carry out a preliminary analysis of the plans based on a relatively small client selection. You'll have the data on 500 Megaline clients: who the clients are, where they're from, which plan they use, and the number of calls they made and text messages they sent in 2018. Your job is to analyze the clients' behavior and determine which prepaid plan brings in more revenue."
   ]
  },
  {
   "cell_type": "markdown",
   "metadata": {},
   "source": [
    "[We've provided you with some commentary to guide your thinking as you complete this project. However, make sure to remove all the bracketed comments before submitting your project.]\n",
    "\n",
    "[Before you dive into analyzing your data, explain for yourself the purpose of the project and actions you plan to take.]\n",
    "\n",
    "[Please bear in mind that studying, amending, and analyzing data is an iterative process. It is normal to return to previous steps and correct/expand them to allow for further steps.]"
   ]
  },
  {
   "cell_type": "markdown",
   "metadata": {},
   "source": [
    "<div class=\"alert alert-info\">\n",
    "<h2> Introduction </h2>\n",
    "\n",
    "This data analysis project is based on data from a telecom operator company, Megaline. Megaline offers two distinct plans: Surf and Ultimate. Surf being the cheaper package at 20 USD monthly while the Ultimate plan costs 70 USD. Ultimate offers a significant increase in calling, texting and internet limits. The goal of this project is to analyze the behaviors of the customers to determine which plan brings Megaline more revenue so that they can adjust the advertising budget to focus more on the plan that brings in more revenue.\n",
    "    \n",
    "There are 2 hypotheses that will be tested in the analysis:\n",
    "1. Null Hypothesis (H0): The average revenue from users of the Ultimate and Surf plans is the same.\n",
    "    \n",
    "   Alternative Hypothesis (H1): The average revenue from users of the Ultimate and Surf plans differs.\n",
    "    \n",
    "    \n",
    "2. Null Hypothesis (H0): There is no difference in average revenue between users in the New York-Newark-Jersey City area and users from other regions.\n",
    "    \n",
    "   Alternative Hypothesis (H1): There is a difference in average revenue between users in the New York-    Newark-Jersey City area and users from other regions.\n",
    "\n",
    "\n",
    "   \n",
    "    \n",
    "</div>\n"
   ]
  },
  {
   "cell_type": "markdown",
   "metadata": {},
   "source": [
    "<div class=\"alert alert-block alert-success\">\n",
    "<b>Reviewer's comment v1</b>\n",
    " \n",
    "Great job keeping the additional information about the project goal! Additionally, you could add a short description of the tasks you plan to perform and the available data. This information could be helpful for the notebook reader.\n",
    "\n"
   ]
  },
  {
   "cell_type": "markdown",
   "metadata": {},
   "source": [
    "## Initialization"
   ]
  },
  {
   "cell_type": "code",
   "execution_count": 1,
   "metadata": {},
   "outputs": [],
   "source": [
    "# Loading all the libraries\n",
    "import pandas as pd\n",
    "import matplotlib.pyplot as plt\n",
    "import numpy as np\n",
    "import seaborn as sns\n",
    "from scipy import stats"
   ]
  },
  {
   "cell_type": "markdown",
   "metadata": {},
   "source": [
    "## Load data"
   ]
  },
  {
   "cell_type": "markdown",
   "metadata": {},
   "source": []
  },
  {
   "cell_type": "code",
   "execution_count": 2,
   "metadata": {},
   "outputs": [],
   "source": [
    "# Load the data files into different DataFrames\n",
    "df_calls = pd.read_csv('/datasets/megaline_calls.csv')\n",
    "df_internet = pd.read_csv('/datasets/megaline_internet.csv')\n",
    "df_messages = pd.read_csv('/datasets/megaline_messages.csv')\n",
    "df_plans = pd.read_csv('/datasets/megaline_plans.csv')\n",
    "df_users = pd.read_csv('/datasets/megaline_users.csv')"
   ]
  },
  {
   "cell_type": "markdown",
   "metadata": {},
   "source": [
    "## Prepare the data"
   ]
  },
  {
   "cell_type": "markdown",
   "metadata": {},
   "source": [
    "[The data for this project is split into several tables. Explore each one to get an initial understanding of the data. Do necessary corrections to each table if necessary.]"
   ]
  },
  {
   "cell_type": "code",
   "execution_count": 3,
   "metadata": {
    "scrolled": false
   },
   "outputs": [
    {
     "data": {
      "text/html": [
       "<div>\n",
       "<style scoped>\n",
       "    .dataframe tbody tr th:only-of-type {\n",
       "        vertical-align: middle;\n",
       "    }\n",
       "\n",
       "    .dataframe tbody tr th {\n",
       "        vertical-align: top;\n",
       "    }\n",
       "\n",
       "    .dataframe thead th {\n",
       "        text-align: right;\n",
       "    }\n",
       "</style>\n",
       "<table border=\"1\" class=\"dataframe\">\n",
       "  <thead>\n",
       "    <tr style=\"text-align: right;\">\n",
       "      <th></th>\n",
       "      <th>id</th>\n",
       "      <th>user_id</th>\n",
       "      <th>call_date</th>\n",
       "      <th>duration</th>\n",
       "    </tr>\n",
       "  </thead>\n",
       "  <tbody>\n",
       "    <tr>\n",
       "      <th>0</th>\n",
       "      <td>1000_93</td>\n",
       "      <td>1000</td>\n",
       "      <td>2018-12-27</td>\n",
       "      <td>8.52</td>\n",
       "    </tr>\n",
       "    <tr>\n",
       "      <th>1</th>\n",
       "      <td>1000_145</td>\n",
       "      <td>1000</td>\n",
       "      <td>2018-12-27</td>\n",
       "      <td>13.66</td>\n",
       "    </tr>\n",
       "    <tr>\n",
       "      <th>2</th>\n",
       "      <td>1000_247</td>\n",
       "      <td>1000</td>\n",
       "      <td>2018-12-27</td>\n",
       "      <td>14.48</td>\n",
       "    </tr>\n",
       "    <tr>\n",
       "      <th>3</th>\n",
       "      <td>1000_309</td>\n",
       "      <td>1000</td>\n",
       "      <td>2018-12-28</td>\n",
       "      <td>5.76</td>\n",
       "    </tr>\n",
       "    <tr>\n",
       "      <th>4</th>\n",
       "      <td>1000_380</td>\n",
       "      <td>1000</td>\n",
       "      <td>2018-12-30</td>\n",
       "      <td>4.22</td>\n",
       "    </tr>\n",
       "  </tbody>\n",
       "</table>\n",
       "</div>"
      ],
      "text/plain": [
       "         id  user_id   call_date  duration\n",
       "0   1000_93     1000  2018-12-27      8.52\n",
       "1  1000_145     1000  2018-12-27     13.66\n",
       "2  1000_247     1000  2018-12-27     14.48\n",
       "3  1000_309     1000  2018-12-28      5.76\n",
       "4  1000_380     1000  2018-12-30      4.22"
      ]
     },
     "metadata": {},
     "output_type": "display_data"
    },
    {
     "data": {
      "text/html": [
       "<div>\n",
       "<style scoped>\n",
       "    .dataframe tbody tr th:only-of-type {\n",
       "        vertical-align: middle;\n",
       "    }\n",
       "\n",
       "    .dataframe tbody tr th {\n",
       "        vertical-align: top;\n",
       "    }\n",
       "\n",
       "    .dataframe thead th {\n",
       "        text-align: right;\n",
       "    }\n",
       "</style>\n",
       "<table border=\"1\" class=\"dataframe\">\n",
       "  <thead>\n",
       "    <tr style=\"text-align: right;\">\n",
       "      <th></th>\n",
       "      <th>id</th>\n",
       "      <th>user_id</th>\n",
       "      <th>session_date</th>\n",
       "      <th>mb_used</th>\n",
       "    </tr>\n",
       "  </thead>\n",
       "  <tbody>\n",
       "    <tr>\n",
       "      <th>0</th>\n",
       "      <td>1000_13</td>\n",
       "      <td>1000</td>\n",
       "      <td>2018-12-29</td>\n",
       "      <td>89.86</td>\n",
       "    </tr>\n",
       "    <tr>\n",
       "      <th>1</th>\n",
       "      <td>1000_204</td>\n",
       "      <td>1000</td>\n",
       "      <td>2018-12-31</td>\n",
       "      <td>0.00</td>\n",
       "    </tr>\n",
       "    <tr>\n",
       "      <th>2</th>\n",
       "      <td>1000_379</td>\n",
       "      <td>1000</td>\n",
       "      <td>2018-12-28</td>\n",
       "      <td>660.40</td>\n",
       "    </tr>\n",
       "    <tr>\n",
       "      <th>3</th>\n",
       "      <td>1000_413</td>\n",
       "      <td>1000</td>\n",
       "      <td>2018-12-26</td>\n",
       "      <td>270.99</td>\n",
       "    </tr>\n",
       "    <tr>\n",
       "      <th>4</th>\n",
       "      <td>1000_442</td>\n",
       "      <td>1000</td>\n",
       "      <td>2018-12-27</td>\n",
       "      <td>880.22</td>\n",
       "    </tr>\n",
       "  </tbody>\n",
       "</table>\n",
       "</div>"
      ],
      "text/plain": [
       "         id  user_id session_date  mb_used\n",
       "0   1000_13     1000   2018-12-29    89.86\n",
       "1  1000_204     1000   2018-12-31     0.00\n",
       "2  1000_379     1000   2018-12-28   660.40\n",
       "3  1000_413     1000   2018-12-26   270.99\n",
       "4  1000_442     1000   2018-12-27   880.22"
      ]
     },
     "metadata": {},
     "output_type": "display_data"
    },
    {
     "data": {
      "text/html": [
       "<div>\n",
       "<style scoped>\n",
       "    .dataframe tbody tr th:only-of-type {\n",
       "        vertical-align: middle;\n",
       "    }\n",
       "\n",
       "    .dataframe tbody tr th {\n",
       "        vertical-align: top;\n",
       "    }\n",
       "\n",
       "    .dataframe thead th {\n",
       "        text-align: right;\n",
       "    }\n",
       "</style>\n",
       "<table border=\"1\" class=\"dataframe\">\n",
       "  <thead>\n",
       "    <tr style=\"text-align: right;\">\n",
       "      <th></th>\n",
       "      <th>id</th>\n",
       "      <th>user_id</th>\n",
       "      <th>message_date</th>\n",
       "    </tr>\n",
       "  </thead>\n",
       "  <tbody>\n",
       "    <tr>\n",
       "      <th>0</th>\n",
       "      <td>1000_125</td>\n",
       "      <td>1000</td>\n",
       "      <td>2018-12-27</td>\n",
       "    </tr>\n",
       "    <tr>\n",
       "      <th>1</th>\n",
       "      <td>1000_160</td>\n",
       "      <td>1000</td>\n",
       "      <td>2018-12-31</td>\n",
       "    </tr>\n",
       "    <tr>\n",
       "      <th>2</th>\n",
       "      <td>1000_223</td>\n",
       "      <td>1000</td>\n",
       "      <td>2018-12-31</td>\n",
       "    </tr>\n",
       "    <tr>\n",
       "      <th>3</th>\n",
       "      <td>1000_251</td>\n",
       "      <td>1000</td>\n",
       "      <td>2018-12-27</td>\n",
       "    </tr>\n",
       "    <tr>\n",
       "      <th>4</th>\n",
       "      <td>1000_255</td>\n",
       "      <td>1000</td>\n",
       "      <td>2018-12-26</td>\n",
       "    </tr>\n",
       "  </tbody>\n",
       "</table>\n",
       "</div>"
      ],
      "text/plain": [
       "         id  user_id message_date\n",
       "0  1000_125     1000   2018-12-27\n",
       "1  1000_160     1000   2018-12-31\n",
       "2  1000_223     1000   2018-12-31\n",
       "3  1000_251     1000   2018-12-27\n",
       "4  1000_255     1000   2018-12-26"
      ]
     },
     "metadata": {},
     "output_type": "display_data"
    },
    {
     "data": {
      "text/html": [
       "<div>\n",
       "<style scoped>\n",
       "    .dataframe tbody tr th:only-of-type {\n",
       "        vertical-align: middle;\n",
       "    }\n",
       "\n",
       "    .dataframe tbody tr th {\n",
       "        vertical-align: top;\n",
       "    }\n",
       "\n",
       "    .dataframe thead th {\n",
       "        text-align: right;\n",
       "    }\n",
       "</style>\n",
       "<table border=\"1\" class=\"dataframe\">\n",
       "  <thead>\n",
       "    <tr style=\"text-align: right;\">\n",
       "      <th></th>\n",
       "      <th>messages_included</th>\n",
       "      <th>mb_per_month_included</th>\n",
       "      <th>minutes_included</th>\n",
       "      <th>usd_monthly_pay</th>\n",
       "      <th>usd_per_gb</th>\n",
       "      <th>usd_per_message</th>\n",
       "      <th>usd_per_minute</th>\n",
       "      <th>plan_name</th>\n",
       "    </tr>\n",
       "  </thead>\n",
       "  <tbody>\n",
       "    <tr>\n",
       "      <th>0</th>\n",
       "      <td>50</td>\n",
       "      <td>15360</td>\n",
       "      <td>500</td>\n",
       "      <td>20</td>\n",
       "      <td>10</td>\n",
       "      <td>0.03</td>\n",
       "      <td>0.03</td>\n",
       "      <td>surf</td>\n",
       "    </tr>\n",
       "    <tr>\n",
       "      <th>1</th>\n",
       "      <td>1000</td>\n",
       "      <td>30720</td>\n",
       "      <td>3000</td>\n",
       "      <td>70</td>\n",
       "      <td>7</td>\n",
       "      <td>0.01</td>\n",
       "      <td>0.01</td>\n",
       "      <td>ultimate</td>\n",
       "    </tr>\n",
       "  </tbody>\n",
       "</table>\n",
       "</div>"
      ],
      "text/plain": [
       "   messages_included  mb_per_month_included  minutes_included  \\\n",
       "0                 50                  15360               500   \n",
       "1               1000                  30720              3000   \n",
       "\n",
       "   usd_monthly_pay  usd_per_gb  usd_per_message  usd_per_minute plan_name  \n",
       "0               20          10             0.03            0.03      surf  \n",
       "1               70           7             0.01            0.01  ultimate  "
      ]
     },
     "metadata": {},
     "output_type": "display_data"
    },
    {
     "data": {
      "text/html": [
       "<div>\n",
       "<style scoped>\n",
       "    .dataframe tbody tr th:only-of-type {\n",
       "        vertical-align: middle;\n",
       "    }\n",
       "\n",
       "    .dataframe tbody tr th {\n",
       "        vertical-align: top;\n",
       "    }\n",
       "\n",
       "    .dataframe thead th {\n",
       "        text-align: right;\n",
       "    }\n",
       "</style>\n",
       "<table border=\"1\" class=\"dataframe\">\n",
       "  <thead>\n",
       "    <tr style=\"text-align: right;\">\n",
       "      <th></th>\n",
       "      <th>user_id</th>\n",
       "      <th>first_name</th>\n",
       "      <th>last_name</th>\n",
       "      <th>age</th>\n",
       "      <th>city</th>\n",
       "      <th>reg_date</th>\n",
       "      <th>plan</th>\n",
       "      <th>churn_date</th>\n",
       "    </tr>\n",
       "  </thead>\n",
       "  <tbody>\n",
       "    <tr>\n",
       "      <th>0</th>\n",
       "      <td>1000</td>\n",
       "      <td>Anamaria</td>\n",
       "      <td>Bauer</td>\n",
       "      <td>45</td>\n",
       "      <td>Atlanta-Sandy Springs-Roswell, GA MSA</td>\n",
       "      <td>2018-12-24</td>\n",
       "      <td>ultimate</td>\n",
       "      <td>NaN</td>\n",
       "    </tr>\n",
       "    <tr>\n",
       "      <th>1</th>\n",
       "      <td>1001</td>\n",
       "      <td>Mickey</td>\n",
       "      <td>Wilkerson</td>\n",
       "      <td>28</td>\n",
       "      <td>Seattle-Tacoma-Bellevue, WA MSA</td>\n",
       "      <td>2018-08-13</td>\n",
       "      <td>surf</td>\n",
       "      <td>NaN</td>\n",
       "    </tr>\n",
       "    <tr>\n",
       "      <th>2</th>\n",
       "      <td>1002</td>\n",
       "      <td>Carlee</td>\n",
       "      <td>Hoffman</td>\n",
       "      <td>36</td>\n",
       "      <td>Las Vegas-Henderson-Paradise, NV MSA</td>\n",
       "      <td>2018-10-21</td>\n",
       "      <td>surf</td>\n",
       "      <td>NaN</td>\n",
       "    </tr>\n",
       "    <tr>\n",
       "      <th>3</th>\n",
       "      <td>1003</td>\n",
       "      <td>Reynaldo</td>\n",
       "      <td>Jenkins</td>\n",
       "      <td>52</td>\n",
       "      <td>Tulsa, OK MSA</td>\n",
       "      <td>2018-01-28</td>\n",
       "      <td>surf</td>\n",
       "      <td>NaN</td>\n",
       "    </tr>\n",
       "    <tr>\n",
       "      <th>4</th>\n",
       "      <td>1004</td>\n",
       "      <td>Leonila</td>\n",
       "      <td>Thompson</td>\n",
       "      <td>40</td>\n",
       "      <td>Seattle-Tacoma-Bellevue, WA MSA</td>\n",
       "      <td>2018-05-23</td>\n",
       "      <td>surf</td>\n",
       "      <td>NaN</td>\n",
       "    </tr>\n",
       "  </tbody>\n",
       "</table>\n",
       "</div>"
      ],
      "text/plain": [
       "   user_id first_name  last_name  age                                   city  \\\n",
       "0     1000   Anamaria      Bauer   45  Atlanta-Sandy Springs-Roswell, GA MSA   \n",
       "1     1001     Mickey  Wilkerson   28        Seattle-Tacoma-Bellevue, WA MSA   \n",
       "2     1002     Carlee    Hoffman   36   Las Vegas-Henderson-Paradise, NV MSA   \n",
       "3     1003   Reynaldo    Jenkins   52                          Tulsa, OK MSA   \n",
       "4     1004    Leonila   Thompson   40        Seattle-Tacoma-Bellevue, WA MSA   \n",
       "\n",
       "     reg_date      plan churn_date  \n",
       "0  2018-12-24  ultimate        NaN  \n",
       "1  2018-08-13      surf        NaN  \n",
       "2  2018-10-21      surf        NaN  \n",
       "3  2018-01-28      surf        NaN  \n",
       "4  2018-05-23      surf        NaN  "
      ]
     },
     "metadata": {},
     "output_type": "display_data"
    }
   ],
   "source": [
    "display(df_calls.head())\n",
    "display(df_internet.head())\n",
    "display(df_messages.head())\n",
    "display(df_plans.head())\n",
    "display(df_users.head())"
   ]
  },
  {
   "cell_type": "code",
   "execution_count": 4,
   "metadata": {},
   "outputs": [
    {
     "name": "stdout",
     "output_type": "stream",
     "text": [
      "Missing values before filling:\n"
     ]
    },
    {
     "data": {
      "text/plain": [
       "id           0\n",
       "user_id      0\n",
       "call_date    0\n",
       "duration     0\n",
       "dtype: int64"
      ]
     },
     "metadata": {},
     "output_type": "display_data"
    },
    {
     "data": {
      "text/plain": [
       "'\\n'"
      ]
     },
     "metadata": {},
     "output_type": "display_data"
    },
    {
     "data": {
      "text/plain": [
       "id              0\n",
       "user_id         0\n",
       "session_date    0\n",
       "mb_used         0\n",
       "dtype: int64"
      ]
     },
     "metadata": {},
     "output_type": "display_data"
    },
    {
     "data": {
      "text/plain": [
       "'\\n'"
      ]
     },
     "metadata": {},
     "output_type": "display_data"
    },
    {
     "data": {
      "text/plain": [
       "id              0\n",
       "user_id         0\n",
       "message_date    0\n",
       "dtype: int64"
      ]
     },
     "metadata": {},
     "output_type": "display_data"
    },
    {
     "data": {
      "text/plain": [
       "'\\n'"
      ]
     },
     "metadata": {},
     "output_type": "display_data"
    },
    {
     "data": {
      "text/plain": [
       "messages_included        0\n",
       "mb_per_month_included    0\n",
       "minutes_included         0\n",
       "usd_monthly_pay          0\n",
       "usd_per_gb               0\n",
       "usd_per_message          0\n",
       "usd_per_minute           0\n",
       "plan_name                0\n",
       "dtype: int64"
      ]
     },
     "metadata": {},
     "output_type": "display_data"
    },
    {
     "data": {
      "text/plain": [
       "'\\n'"
      ]
     },
     "metadata": {},
     "output_type": "display_data"
    },
    {
     "data": {
      "text/plain": [
       "user_id         0\n",
       "first_name      0\n",
       "last_name       0\n",
       "age             0\n",
       "city            0\n",
       "reg_date        0\n",
       "plan            0\n",
       "churn_date    466\n",
       "dtype: int64"
      ]
     },
     "metadata": {},
     "output_type": "display_data"
    },
    {
     "data": {
      "text/plain": [
       "'\\n'"
      ]
     },
     "metadata": {},
     "output_type": "display_data"
    }
   ],
   "source": [
    "# Check for missing values in each DataFrame\n",
    "print('Missing values before filling:')\n",
    "display(df_calls.isna().sum(), \"\\n\")\n",
    "display(df_internet.isna().sum(), \"\\n\")\n",
    "display(df_messages.isna().sum(), \"\\n\")\n",
    "display(df_plans.isna().sum(), \"\\n\")\n",
    "display(df_users.isna().sum(), \"\\n\")"
   ]
  },
  {
   "cell_type": "code",
   "execution_count": 5,
   "metadata": {
    "scrolled": false
   },
   "outputs": [
    {
     "data": {
      "text/plain": [
       "id           137735\n",
       "user_id      137735\n",
       "call_date    137735\n",
       "duration     137735\n",
       "dtype: int64"
      ]
     },
     "metadata": {},
     "output_type": "display_data"
    },
    {
     "data": {
      "text/plain": [
       "id              104825\n",
       "user_id         104825\n",
       "session_date    104825\n",
       "mb_used         104825\n",
       "dtype: int64"
      ]
     },
     "metadata": {},
     "output_type": "display_data"
    },
    {
     "data": {
      "text/plain": [
       "id              76051\n",
       "user_id         76051\n",
       "message_date    76051\n",
       "dtype: int64"
      ]
     },
     "metadata": {},
     "output_type": "display_data"
    },
    {
     "data": {
      "text/plain": [
       "messages_included        2\n",
       "mb_per_month_included    2\n",
       "minutes_included         2\n",
       "usd_monthly_pay          2\n",
       "usd_per_gb               2\n",
       "usd_per_message          2\n",
       "usd_per_minute           2\n",
       "plan_name                2\n",
       "dtype: int64"
      ]
     },
     "metadata": {},
     "output_type": "display_data"
    },
    {
     "data": {
      "text/plain": [
       "user_id       500\n",
       "first_name    500\n",
       "last_name     500\n",
       "age           500\n",
       "city          500\n",
       "reg_date      500\n",
       "plan          500\n",
       "churn_date     34\n",
       "dtype: int64"
      ]
     },
     "metadata": {},
     "output_type": "display_data"
    }
   ],
   "source": [
    "display(df_calls.count())\n",
    "display(df_internet.count())\n",
    "display(df_messages.count())\n",
    "display(df_plans.count())\n",
    "display(df_users.count())"
   ]
  },
  {
   "cell_type": "markdown",
   "metadata": {},
   "source": [
    "## Plans"
   ]
  },
  {
   "cell_type": "code",
   "execution_count": 6,
   "metadata": {},
   "outputs": [
    {
     "data": {
      "text/html": [
       "<div>\n",
       "<style scoped>\n",
       "    .dataframe tbody tr th:only-of-type {\n",
       "        vertical-align: middle;\n",
       "    }\n",
       "\n",
       "    .dataframe tbody tr th {\n",
       "        vertical-align: top;\n",
       "    }\n",
       "\n",
       "    .dataframe thead th {\n",
       "        text-align: right;\n",
       "    }\n",
       "</style>\n",
       "<table border=\"1\" class=\"dataframe\">\n",
       "  <thead>\n",
       "    <tr style=\"text-align: right;\">\n",
       "      <th></th>\n",
       "      <th>messages_included</th>\n",
       "      <th>mb_per_month_included</th>\n",
       "      <th>minutes_included</th>\n",
       "      <th>usd_monthly_pay</th>\n",
       "      <th>usd_per_gb</th>\n",
       "      <th>usd_per_message</th>\n",
       "      <th>usd_per_minute</th>\n",
       "    </tr>\n",
       "  </thead>\n",
       "  <tbody>\n",
       "    <tr>\n",
       "      <th>count</th>\n",
       "      <td>2.000000</td>\n",
       "      <td>2.000000</td>\n",
       "      <td>2.000000</td>\n",
       "      <td>2.000000</td>\n",
       "      <td>2.00000</td>\n",
       "      <td>2.000000</td>\n",
       "      <td>2.000000</td>\n",
       "    </tr>\n",
       "    <tr>\n",
       "      <th>mean</th>\n",
       "      <td>525.000000</td>\n",
       "      <td>23040.000000</td>\n",
       "      <td>1750.000000</td>\n",
       "      <td>45.000000</td>\n",
       "      <td>8.50000</td>\n",
       "      <td>0.020000</td>\n",
       "      <td>0.020000</td>\n",
       "    </tr>\n",
       "    <tr>\n",
       "      <th>std</th>\n",
       "      <td>671.751442</td>\n",
       "      <td>10861.160159</td>\n",
       "      <td>1767.766953</td>\n",
       "      <td>35.355339</td>\n",
       "      <td>2.12132</td>\n",
       "      <td>0.014142</td>\n",
       "      <td>0.014142</td>\n",
       "    </tr>\n",
       "    <tr>\n",
       "      <th>min</th>\n",
       "      <td>50.000000</td>\n",
       "      <td>15360.000000</td>\n",
       "      <td>500.000000</td>\n",
       "      <td>20.000000</td>\n",
       "      <td>7.00000</td>\n",
       "      <td>0.010000</td>\n",
       "      <td>0.010000</td>\n",
       "    </tr>\n",
       "    <tr>\n",
       "      <th>25%</th>\n",
       "      <td>287.500000</td>\n",
       "      <td>19200.000000</td>\n",
       "      <td>1125.000000</td>\n",
       "      <td>32.500000</td>\n",
       "      <td>7.75000</td>\n",
       "      <td>0.015000</td>\n",
       "      <td>0.015000</td>\n",
       "    </tr>\n",
       "    <tr>\n",
       "      <th>50%</th>\n",
       "      <td>525.000000</td>\n",
       "      <td>23040.000000</td>\n",
       "      <td>1750.000000</td>\n",
       "      <td>45.000000</td>\n",
       "      <td>8.50000</td>\n",
       "      <td>0.020000</td>\n",
       "      <td>0.020000</td>\n",
       "    </tr>\n",
       "    <tr>\n",
       "      <th>75%</th>\n",
       "      <td>762.500000</td>\n",
       "      <td>26880.000000</td>\n",
       "      <td>2375.000000</td>\n",
       "      <td>57.500000</td>\n",
       "      <td>9.25000</td>\n",
       "      <td>0.025000</td>\n",
       "      <td>0.025000</td>\n",
       "    </tr>\n",
       "    <tr>\n",
       "      <th>max</th>\n",
       "      <td>1000.000000</td>\n",
       "      <td>30720.000000</td>\n",
       "      <td>3000.000000</td>\n",
       "      <td>70.000000</td>\n",
       "      <td>10.00000</td>\n",
       "      <td>0.030000</td>\n",
       "      <td>0.030000</td>\n",
       "    </tr>\n",
       "  </tbody>\n",
       "</table>\n",
       "</div>"
      ],
      "text/plain": [
       "       messages_included  mb_per_month_included  minutes_included  \\\n",
       "count           2.000000               2.000000          2.000000   \n",
       "mean          525.000000           23040.000000       1750.000000   \n",
       "std           671.751442           10861.160159       1767.766953   \n",
       "min            50.000000           15360.000000        500.000000   \n",
       "25%           287.500000           19200.000000       1125.000000   \n",
       "50%           525.000000           23040.000000       1750.000000   \n",
       "75%           762.500000           26880.000000       2375.000000   \n",
       "max          1000.000000           30720.000000       3000.000000   \n",
       "\n",
       "       usd_monthly_pay  usd_per_gb  usd_per_message  usd_per_minute  \n",
       "count         2.000000     2.00000         2.000000        2.000000  \n",
       "mean         45.000000     8.50000         0.020000        0.020000  \n",
       "std          35.355339     2.12132         0.014142        0.014142  \n",
       "min          20.000000     7.00000         0.010000        0.010000  \n",
       "25%          32.500000     7.75000         0.015000        0.015000  \n",
       "50%          45.000000     8.50000         0.020000        0.020000  \n",
       "75%          57.500000     9.25000         0.025000        0.025000  \n",
       "max          70.000000    10.00000         0.030000        0.030000  "
      ]
     },
     "execution_count": 6,
     "metadata": {},
     "output_type": "execute_result"
    }
   ],
   "source": [
    "# Print the general/summary information about the plans' DataFrame\n",
    "df_plans.describe()\n"
   ]
  },
  {
   "cell_type": "code",
   "execution_count": 7,
   "metadata": {},
   "outputs": [
    {
     "data": {
      "text/html": [
       "<div>\n",
       "<style scoped>\n",
       "    .dataframe tbody tr th:only-of-type {\n",
       "        vertical-align: middle;\n",
       "    }\n",
       "\n",
       "    .dataframe tbody tr th {\n",
       "        vertical-align: top;\n",
       "    }\n",
       "\n",
       "    .dataframe thead th {\n",
       "        text-align: right;\n",
       "    }\n",
       "</style>\n",
       "<table border=\"1\" class=\"dataframe\">\n",
       "  <thead>\n",
       "    <tr style=\"text-align: right;\">\n",
       "      <th></th>\n",
       "      <th>messages_included</th>\n",
       "      <th>mb_per_month_included</th>\n",
       "      <th>minutes_included</th>\n",
       "      <th>usd_monthly_pay</th>\n",
       "      <th>usd_per_gb</th>\n",
       "      <th>usd_per_message</th>\n",
       "      <th>usd_per_minute</th>\n",
       "      <th>plan_name</th>\n",
       "    </tr>\n",
       "  </thead>\n",
       "  <tbody>\n",
       "    <tr>\n",
       "      <th>1</th>\n",
       "      <td>1000</td>\n",
       "      <td>30720</td>\n",
       "      <td>3000</td>\n",
       "      <td>70</td>\n",
       "      <td>7</td>\n",
       "      <td>0.01</td>\n",
       "      <td>0.01</td>\n",
       "      <td>ultimate</td>\n",
       "    </tr>\n",
       "    <tr>\n",
       "      <th>0</th>\n",
       "      <td>50</td>\n",
       "      <td>15360</td>\n",
       "      <td>500</td>\n",
       "      <td>20</td>\n",
       "      <td>10</td>\n",
       "      <td>0.03</td>\n",
       "      <td>0.03</td>\n",
       "      <td>surf</td>\n",
       "    </tr>\n",
       "  </tbody>\n",
       "</table>\n",
       "</div>"
      ],
      "text/plain": [
       "   messages_included  mb_per_month_included  minutes_included  \\\n",
       "1               1000                  30720              3000   \n",
       "0                 50                  15360               500   \n",
       "\n",
       "   usd_monthly_pay  usd_per_gb  usd_per_message  usd_per_minute plan_name  \n",
       "1               70           7             0.01            0.01  ultimate  \n",
       "0               20          10             0.03            0.03      surf  "
      ]
     },
     "execution_count": 7,
     "metadata": {},
     "output_type": "execute_result"
    }
   ],
   "source": [
    "# Print a sample of data for plans\n",
    "df_plans.sample(2)\n"
   ]
  },
  {
   "cell_type": "markdown",
   "metadata": {},
   "source": [
    "[Describe what you see and notice in the general information and the printed data sample for the above price of data. Are there any issues (inappropriate data types, missing data etc) that may need further investigation and changes? How that can be fixed?]"
   ]
  },
  {
   "cell_type": "markdown",
   "metadata": {},
   "source": [
    " "
   ]
  },
  {
   "cell_type": "code",
   "execution_count": 8,
   "metadata": {},
   "outputs": [
    {
     "data": {
      "text/plain": [
       "messages_included        0\n",
       "mb_per_month_included    0\n",
       "minutes_included         0\n",
       "usd_monthly_pay          0\n",
       "usd_per_gb               0\n",
       "usd_per_message          0\n",
       "usd_per_minute           0\n",
       "plan_name                0\n",
       "dtype: int64"
      ]
     },
     "execution_count": 8,
     "metadata": {},
     "output_type": "execute_result"
    }
   ],
   "source": [
    "df_plans[df_plans.duplicated()].count()"
   ]
  },
  {
   "cell_type": "markdown",
   "metadata": {},
   "source": [
    "## Fix data"
   ]
  },
  {
   "cell_type": "markdown",
   "metadata": {},
   "source": [
    "[Fix obvious issues with the data given the initial observations.]"
   ]
  },
  {
   "cell_type": "markdown",
   "metadata": {},
   "source": [
    "<div class=\"alert alert-info\">\n",
    "<h2> Student's comment </h2>\n",
    "There are no obvious issues with this dataframe based on initial observations.\n",
    "\n",
    "</div>"
   ]
  },
  {
   "cell_type": "markdown",
   "metadata": {},
   "source": [
    "## Enrich data"
   ]
  },
  {
   "cell_type": "markdown",
   "metadata": {},
   "source": [
    "[Add additional factors to the data if you believe they might be useful.]"
   ]
  },
  {
   "cell_type": "code",
   "execution_count": null,
   "metadata": {},
   "outputs": [],
   "source": []
  },
  {
   "cell_type": "markdown",
   "metadata": {},
   "source": [
    "## Users"
   ]
  },
  {
   "cell_type": "code",
   "execution_count": 9,
   "metadata": {},
   "outputs": [
    {
     "data": {
      "text/html": [
       "<div>\n",
       "<style scoped>\n",
       "    .dataframe tbody tr th:only-of-type {\n",
       "        vertical-align: middle;\n",
       "    }\n",
       "\n",
       "    .dataframe tbody tr th {\n",
       "        vertical-align: top;\n",
       "    }\n",
       "\n",
       "    .dataframe thead th {\n",
       "        text-align: right;\n",
       "    }\n",
       "</style>\n",
       "<table border=\"1\" class=\"dataframe\">\n",
       "  <thead>\n",
       "    <tr style=\"text-align: right;\">\n",
       "      <th></th>\n",
       "      <th>user_id</th>\n",
       "      <th>age</th>\n",
       "    </tr>\n",
       "  </thead>\n",
       "  <tbody>\n",
       "    <tr>\n",
       "      <th>count</th>\n",
       "      <td>500.000000</td>\n",
       "      <td>500.000000</td>\n",
       "    </tr>\n",
       "    <tr>\n",
       "      <th>mean</th>\n",
       "      <td>1249.500000</td>\n",
       "      <td>45.486000</td>\n",
       "    </tr>\n",
       "    <tr>\n",
       "      <th>std</th>\n",
       "      <td>144.481833</td>\n",
       "      <td>16.972269</td>\n",
       "    </tr>\n",
       "    <tr>\n",
       "      <th>min</th>\n",
       "      <td>1000.000000</td>\n",
       "      <td>18.000000</td>\n",
       "    </tr>\n",
       "    <tr>\n",
       "      <th>25%</th>\n",
       "      <td>1124.750000</td>\n",
       "      <td>30.000000</td>\n",
       "    </tr>\n",
       "    <tr>\n",
       "      <th>50%</th>\n",
       "      <td>1249.500000</td>\n",
       "      <td>46.000000</td>\n",
       "    </tr>\n",
       "    <tr>\n",
       "      <th>75%</th>\n",
       "      <td>1374.250000</td>\n",
       "      <td>61.000000</td>\n",
       "    </tr>\n",
       "    <tr>\n",
       "      <th>max</th>\n",
       "      <td>1499.000000</td>\n",
       "      <td>75.000000</td>\n",
       "    </tr>\n",
       "  </tbody>\n",
       "</table>\n",
       "</div>"
      ],
      "text/plain": [
       "           user_id         age\n",
       "count   500.000000  500.000000\n",
       "mean   1249.500000   45.486000\n",
       "std     144.481833   16.972269\n",
       "min    1000.000000   18.000000\n",
       "25%    1124.750000   30.000000\n",
       "50%    1249.500000   46.000000\n",
       "75%    1374.250000   61.000000\n",
       "max    1499.000000   75.000000"
      ]
     },
     "metadata": {},
     "output_type": "display_data"
    },
    {
     "name": "stdout",
     "output_type": "stream",
     "text": [
      "<class 'pandas.core.frame.DataFrame'>\n",
      "RangeIndex: 500 entries, 0 to 499\n",
      "Data columns (total 8 columns):\n",
      " #   Column      Non-Null Count  Dtype \n",
      "---  ------      --------------  ----- \n",
      " 0   user_id     500 non-null    int64 \n",
      " 1   first_name  500 non-null    object\n",
      " 2   last_name   500 non-null    object\n",
      " 3   age         500 non-null    int64 \n",
      " 4   city        500 non-null    object\n",
      " 5   reg_date    500 non-null    object\n",
      " 6   plan        500 non-null    object\n",
      " 7   churn_date  34 non-null     object\n",
      "dtypes: int64(2), object(6)\n",
      "memory usage: 31.4+ KB\n"
     ]
    }
   ],
   "source": [
    "# Print the general/summary information about the users' DataFrame\n",
    "display(df_users.describe())\n",
    "df_users.info()"
   ]
  },
  {
   "cell_type": "code",
   "execution_count": 10,
   "metadata": {},
   "outputs": [
    {
     "data": {
      "text/html": [
       "<div>\n",
       "<style scoped>\n",
       "    .dataframe tbody tr th:only-of-type {\n",
       "        vertical-align: middle;\n",
       "    }\n",
       "\n",
       "    .dataframe tbody tr th {\n",
       "        vertical-align: top;\n",
       "    }\n",
       "\n",
       "    .dataframe thead th {\n",
       "        text-align: right;\n",
       "    }\n",
       "</style>\n",
       "<table border=\"1\" class=\"dataframe\">\n",
       "  <thead>\n",
       "    <tr style=\"text-align: right;\">\n",
       "      <th></th>\n",
       "      <th>user_id</th>\n",
       "      <th>first_name</th>\n",
       "      <th>last_name</th>\n",
       "      <th>age</th>\n",
       "      <th>city</th>\n",
       "      <th>reg_date</th>\n",
       "      <th>plan</th>\n",
       "      <th>churn_date</th>\n",
       "    </tr>\n",
       "  </thead>\n",
       "  <tbody>\n",
       "    <tr>\n",
       "      <th>177</th>\n",
       "      <td>1177</td>\n",
       "      <td>Seymour</td>\n",
       "      <td>Anderson</td>\n",
       "      <td>33</td>\n",
       "      <td>Seattle-Tacoma-Bellevue, WA MSA</td>\n",
       "      <td>2018-11-09</td>\n",
       "      <td>surf</td>\n",
       "      <td>NaN</td>\n",
       "    </tr>\n",
       "    <tr>\n",
       "      <th>381</th>\n",
       "      <td>1381</td>\n",
       "      <td>German</td>\n",
       "      <td>Burris</td>\n",
       "      <td>44</td>\n",
       "      <td>Austin-Round Rock-Georgetown, TX MSA</td>\n",
       "      <td>2018-08-30</td>\n",
       "      <td>surf</td>\n",
       "      <td>NaN</td>\n",
       "    </tr>\n",
       "    <tr>\n",
       "      <th>159</th>\n",
       "      <td>1159</td>\n",
       "      <td>Dierdre</td>\n",
       "      <td>Baker</td>\n",
       "      <td>58</td>\n",
       "      <td>Miami-Fort Lauderdale-West Palm Beach, FL MSA</td>\n",
       "      <td>2018-07-21</td>\n",
       "      <td>ultimate</td>\n",
       "      <td>NaN</td>\n",
       "    </tr>\n",
       "    <tr>\n",
       "      <th>100</th>\n",
       "      <td>1100</td>\n",
       "      <td>Aaron</td>\n",
       "      <td>Rowe</td>\n",
       "      <td>65</td>\n",
       "      <td>New York-Newark-Jersey City, NY-NJ-PA MSA</td>\n",
       "      <td>2018-02-13</td>\n",
       "      <td>surf</td>\n",
       "      <td>NaN</td>\n",
       "    </tr>\n",
       "    <tr>\n",
       "      <th>328</th>\n",
       "      <td>1328</td>\n",
       "      <td>Tamesha</td>\n",
       "      <td>Huber</td>\n",
       "      <td>20</td>\n",
       "      <td>Minneapolis-St. Paul-Bloomington, MN-WI MSA</td>\n",
       "      <td>2018-02-10</td>\n",
       "      <td>surf</td>\n",
       "      <td>NaN</td>\n",
       "    </tr>\n",
       "    <tr>\n",
       "      <th>486</th>\n",
       "      <td>1486</td>\n",
       "      <td>Sang</td>\n",
       "      <td>Solis</td>\n",
       "      <td>29</td>\n",
       "      <td>Orlando-Kissimmee-Sanford, FL MSA</td>\n",
       "      <td>2018-12-05</td>\n",
       "      <td>surf</td>\n",
       "      <td>NaN</td>\n",
       "    </tr>\n",
       "    <tr>\n",
       "      <th>185</th>\n",
       "      <td>1185</td>\n",
       "      <td>Loria</td>\n",
       "      <td>Freeman</td>\n",
       "      <td>47</td>\n",
       "      <td>Louisville/Jefferson County, KY-IN MSA</td>\n",
       "      <td>2018-01-14</td>\n",
       "      <td>ultimate</td>\n",
       "      <td>NaN</td>\n",
       "    </tr>\n",
       "    <tr>\n",
       "      <th>157</th>\n",
       "      <td>1157</td>\n",
       "      <td>Luciano</td>\n",
       "      <td>Sheppard</td>\n",
       "      <td>63</td>\n",
       "      <td>Los Angeles-Long Beach-Anaheim, CA MSA</td>\n",
       "      <td>2018-07-02</td>\n",
       "      <td>surf</td>\n",
       "      <td>NaN</td>\n",
       "    </tr>\n",
       "    <tr>\n",
       "      <th>210</th>\n",
       "      <td>1210</td>\n",
       "      <td>Shanae</td>\n",
       "      <td>Carrillo</td>\n",
       "      <td>30</td>\n",
       "      <td>Oklahoma City, OK MSA</td>\n",
       "      <td>2018-06-01</td>\n",
       "      <td>surf</td>\n",
       "      <td>NaN</td>\n",
       "    </tr>\n",
       "    <tr>\n",
       "      <th>342</th>\n",
       "      <td>1342</td>\n",
       "      <td>Eugene</td>\n",
       "      <td>Patton</td>\n",
       "      <td>65</td>\n",
       "      <td>Indianapolis-Carmel-Anderson, IN MSA</td>\n",
       "      <td>2018-10-21</td>\n",
       "      <td>surf</td>\n",
       "      <td>NaN</td>\n",
       "    </tr>\n",
       "  </tbody>\n",
       "</table>\n",
       "</div>"
      ],
      "text/plain": [
       "     user_id first_name last_name  age  \\\n",
       "177     1177    Seymour  Anderson   33   \n",
       "381     1381     German    Burris   44   \n",
       "159     1159    Dierdre     Baker   58   \n",
       "100     1100      Aaron      Rowe   65   \n",
       "328     1328    Tamesha     Huber   20   \n",
       "486     1486       Sang     Solis   29   \n",
       "185     1185      Loria   Freeman   47   \n",
       "157     1157    Luciano  Sheppard   63   \n",
       "210     1210     Shanae  Carrillo   30   \n",
       "342     1342     Eugene    Patton   65   \n",
       "\n",
       "                                              city    reg_date      plan  \\\n",
       "177                Seattle-Tacoma-Bellevue, WA MSA  2018-11-09      surf   \n",
       "381           Austin-Round Rock-Georgetown, TX MSA  2018-08-30      surf   \n",
       "159  Miami-Fort Lauderdale-West Palm Beach, FL MSA  2018-07-21  ultimate   \n",
       "100      New York-Newark-Jersey City, NY-NJ-PA MSA  2018-02-13      surf   \n",
       "328    Minneapolis-St. Paul-Bloomington, MN-WI MSA  2018-02-10      surf   \n",
       "486              Orlando-Kissimmee-Sanford, FL MSA  2018-12-05      surf   \n",
       "185         Louisville/Jefferson County, KY-IN MSA  2018-01-14  ultimate   \n",
       "157         Los Angeles-Long Beach-Anaheim, CA MSA  2018-07-02      surf   \n",
       "210                          Oklahoma City, OK MSA  2018-06-01      surf   \n",
       "342           Indianapolis-Carmel-Anderson, IN MSA  2018-10-21      surf   \n",
       "\n",
       "    churn_date  \n",
       "177        NaN  \n",
       "381        NaN  \n",
       "159        NaN  \n",
       "100        NaN  \n",
       "328        NaN  \n",
       "486        NaN  \n",
       "185        NaN  \n",
       "157        NaN  \n",
       "210        NaN  \n",
       "342        NaN  "
      ]
     },
     "execution_count": 10,
     "metadata": {},
     "output_type": "execute_result"
    }
   ],
   "source": [
    "# Print a sample of data for users\n",
    "df_users.sample(10)\n"
   ]
  },
  {
   "cell_type": "code",
   "execution_count": 11,
   "metadata": {},
   "outputs": [
    {
     "data": {
      "text/plain": [
       "user_id       0\n",
       "first_name    0\n",
       "last_name     0\n",
       "age           0\n",
       "city          0\n",
       "reg_date      0\n",
       "plan          0\n",
       "churn_date    0\n",
       "dtype: int64"
      ]
     },
     "execution_count": 11,
     "metadata": {},
     "output_type": "execute_result"
    }
   ],
   "source": [
    "df_users[df_users.duplicated()].count()"
   ]
  },
  {
   "cell_type": "markdown",
   "metadata": {},
   "source": [
    "[Describe what you see and notice in the general information and the printed data sample for the above price of data. Are there any issues (inappropriate data types, missing data etc) that may need further investigation and changes? How that can be fixed?]"
   ]
  },
  {
   "cell_type": "markdown",
   "metadata": {},
   "source": [
    " "
   ]
  },
  {
   "cell_type": "markdown",
   "metadata": {},
   "source": [
    "### Fix Data"
   ]
  },
  {
   "cell_type": "markdown",
   "metadata": {},
   "source": [
    "[Fix obvious issues with the data given the initial observations.]"
   ]
  },
  {
   "cell_type": "code",
   "execution_count": 12,
   "metadata": {},
   "outputs": [],
   "source": [
    "# Convert date columns in users_df\n",
    "df_users['reg_date'] = pd.to_datetime(df_users['reg_date'])\n",
    "df_users['churn_date'] = pd.to_datetime(df_users['churn_date'])"
   ]
  },
  {
   "cell_type": "code",
   "execution_count": 13,
   "metadata": {},
   "outputs": [
    {
     "data": {
      "text/plain": [
       "0"
      ]
     },
     "execution_count": 13,
     "metadata": {},
     "output_type": "execute_result"
    }
   ],
   "source": [
    "# Check for fully duplicated rows\n",
    "df_users.duplicated().sum()"
   ]
  },
  {
   "cell_type": "code",
   "execution_count": 14,
   "metadata": {
    "scrolled": false
   },
   "outputs": [
    {
     "data": {
      "text/plain": [
       "array(['Atlanta-Sandy Springs-Roswell', 'Seattle-Tacoma-Bellevue',\n",
       "       'Las Vegas-Henderson-Paradise', 'Tulsa',\n",
       "       'Dallas-Fort Worth-Arlington', 'San Francisco-Oakland-Berkeley',\n",
       "       'Grand Rapids-Kentwood', 'Orlando-Kissimmee-Sanford',\n",
       "       'San Jose-Sunnyvale-Santa Clara', 'Cleveland-Elyria',\n",
       "       'Chicago-Naperville-Elgin', 'Knoxville',\n",
       "       'New York-Newark-Jersey City', 'Pittsburgh', 'Fresno',\n",
       "       'Washington-Arlington-Alexandria', 'Indianapolis-Carmel-Anderson',\n",
       "       'Jacksonville', 'Los Angeles-Long Beach-Anaheim',\n",
       "       'Omaha-Council Bluffs', 'Houston-The Woodlands-Sugar Land',\n",
       "       'Philadelphia-Camden-Wilmington',\n",
       "       'Tampa-St. Petersburg-Clearwater', 'Birmingham-Hoover',\n",
       "       'Oklahoma City', 'Charlotte-Concord-Gastonia',\n",
       "       'Denver-Aurora-Lakewood',\n",
       "       'Nashville-Davidson–Murfreesboro–Franklin', 'Columbus',\n",
       "       'Albuquerque', 'Boston-Cambridge-Newton',\n",
       "       'Miami-Fort Lauderdale-West Palm Beach',\n",
       "       'San Diego-Chula Vista-Carlsbad', 'Phoenix-Mesa-Chandler',\n",
       "       'Portland-Vancouver-Hillsboro', 'Cincinnati', 'Columbia',\n",
       "       'San Antonio-New Braunfels', 'Buffalo-Cheektowaga', 'Memphis',\n",
       "       'Riverside-San Bernardino-Ontario', 'Louisville/Jefferson County',\n",
       "       'Albany-Schenectady-Troy', 'Providence-Warwick', 'Salt Lake City',\n",
       "       'Urban Honolulu', 'El Paso', 'New Haven-Milford',\n",
       "       'North Port-Sarasota-Bradenton', 'Baton Rouge',\n",
       "       'New Orleans-Metairie', 'Bridgeport-Stamford-Norwalk',\n",
       "       'Virginia Beach-Norfolk-Newport News', 'Baltimore-Columbia-Towson',\n",
       "       'Milwaukee-Waukesha', 'Oxnard-Thousand Oaks-Ventura',\n",
       "       'Sacramento–Roseville–Folsom', 'Austin-Round Rock-Georgetown',\n",
       "       'Richmond', 'St. Louis', 'Minneapolis-St. Paul-Bloomington',\n",
       "       'Dayton-Kettering', 'Bakersfield', 'Detroit-Warren-Dearborn',\n",
       "       'Kansas City', 'Charleston-North Charleston', 'Rochester',\n",
       "       'Raleigh-Cary', 'Colorado Springs', 'Greensboro-High Point',\n",
       "       'Tucson', 'Stockton', 'Cape Coral-Fort Myers'], dtype=object)"
      ]
     },
     "metadata": {},
     "output_type": "display_data"
    }
   ],
   "source": [
    "# Isolate city name by splitting at the first comma\n",
    "df_users['city'] = df_users['city'].apply(lambda x: x.split(',')[0] if pd.notnull(x) else x)\n",
    "\n",
    "# Verify the cleaned 'city' column\n",
    "display(df_users['city'].unique())"
   ]
  },
  {
   "cell_type": "markdown",
   "metadata": {},
   "source": [
    "### Enrich Data"
   ]
  },
  {
   "cell_type": "code",
   "execution_count": 15,
   "metadata": {},
   "outputs": [
    {
     "name": "stdout",
     "output_type": "stream",
     "text": [
      "0\n"
     ]
    }
   ],
   "source": [
    "# Fill missing churn_date values with 'Active' to indicate active customers\n",
    "df_users['churn_date'].fillna('Active', inplace=True)\n",
    "\n",
    "# Verify that the missing values are handled\n",
    "print(df_users['churn_date'].isnull().sum())"
   ]
  },
  {
   "cell_type": "markdown",
   "metadata": {},
   "source": [
    "[Add additional factors to the data if you believe they might be useful.]"
   ]
  },
  {
   "cell_type": "markdown",
   "metadata": {},
   "source": [
    "<div class=\"alert alert-info\">\n",
    "<h2> Student's comment </h2>\n",
    "Converted reg_date and churn_date with pd.to_datetime() for easier processing when merging the data later in the project. Cleaned up 'city' column for easier handling later in the project when we compare and NY-NJ area revenue with the other regioins. Filled missing values in churn_date with 'Active' to avoid confusion and minimize potential analysis errors.\n",
    "   \n",
    "\n",
    "</div>"
   ]
  },
  {
   "cell_type": "markdown",
   "metadata": {},
   "source": [
    "## Calls"
   ]
  },
  {
   "cell_type": "code",
   "execution_count": 16,
   "metadata": {},
   "outputs": [
    {
     "data": {
      "text/html": [
       "<div>\n",
       "<style scoped>\n",
       "    .dataframe tbody tr th:only-of-type {\n",
       "        vertical-align: middle;\n",
       "    }\n",
       "\n",
       "    .dataframe tbody tr th {\n",
       "        vertical-align: top;\n",
       "    }\n",
       "\n",
       "    .dataframe thead th {\n",
       "        text-align: right;\n",
       "    }\n",
       "</style>\n",
       "<table border=\"1\" class=\"dataframe\">\n",
       "  <thead>\n",
       "    <tr style=\"text-align: right;\">\n",
       "      <th></th>\n",
       "      <th>user_id</th>\n",
       "      <th>duration</th>\n",
       "    </tr>\n",
       "  </thead>\n",
       "  <tbody>\n",
       "    <tr>\n",
       "      <th>count</th>\n",
       "      <td>137735.000000</td>\n",
       "      <td>137735.000000</td>\n",
       "    </tr>\n",
       "    <tr>\n",
       "      <th>mean</th>\n",
       "      <td>1247.658046</td>\n",
       "      <td>6.745927</td>\n",
       "    </tr>\n",
       "    <tr>\n",
       "      <th>std</th>\n",
       "      <td>139.416268</td>\n",
       "      <td>5.839241</td>\n",
       "    </tr>\n",
       "    <tr>\n",
       "      <th>min</th>\n",
       "      <td>1000.000000</td>\n",
       "      <td>0.000000</td>\n",
       "    </tr>\n",
       "    <tr>\n",
       "      <th>25%</th>\n",
       "      <td>1128.000000</td>\n",
       "      <td>1.290000</td>\n",
       "    </tr>\n",
       "    <tr>\n",
       "      <th>50%</th>\n",
       "      <td>1247.000000</td>\n",
       "      <td>5.980000</td>\n",
       "    </tr>\n",
       "    <tr>\n",
       "      <th>75%</th>\n",
       "      <td>1365.000000</td>\n",
       "      <td>10.690000</td>\n",
       "    </tr>\n",
       "    <tr>\n",
       "      <th>max</th>\n",
       "      <td>1499.000000</td>\n",
       "      <td>37.600000</td>\n",
       "    </tr>\n",
       "  </tbody>\n",
       "</table>\n",
       "</div>"
      ],
      "text/plain": [
       "             user_id       duration\n",
       "count  137735.000000  137735.000000\n",
       "mean     1247.658046       6.745927\n",
       "std       139.416268       5.839241\n",
       "min      1000.000000       0.000000\n",
       "25%      1128.000000       1.290000\n",
       "50%      1247.000000       5.980000\n",
       "75%      1365.000000      10.690000\n",
       "max      1499.000000      37.600000"
      ]
     },
     "metadata": {},
     "output_type": "display_data"
    },
    {
     "name": "stdout",
     "output_type": "stream",
     "text": [
      "<class 'pandas.core.frame.DataFrame'>\n",
      "RangeIndex: 137735 entries, 0 to 137734\n",
      "Data columns (total 4 columns):\n",
      " #   Column     Non-Null Count   Dtype  \n",
      "---  ------     --------------   -----  \n",
      " 0   id         137735 non-null  object \n",
      " 1   user_id    137735 non-null  int64  \n",
      " 2   call_date  137735 non-null  object \n",
      " 3   duration   137735 non-null  float64\n",
      "dtypes: float64(1), int64(1), object(2)\n",
      "memory usage: 4.2+ MB\n"
     ]
    }
   ],
   "source": [
    "# Print the general/summary information about the calls' DataFrame\n",
    "display(df_calls.describe())\n",
    "df_calls.info()"
   ]
  },
  {
   "cell_type": "code",
   "execution_count": 17,
   "metadata": {
    "scrolled": true
   },
   "outputs": [
    {
     "data": {
      "text/html": [
       "<div>\n",
       "<style scoped>\n",
       "    .dataframe tbody tr th:only-of-type {\n",
       "        vertical-align: middle;\n",
       "    }\n",
       "\n",
       "    .dataframe tbody tr th {\n",
       "        vertical-align: top;\n",
       "    }\n",
       "\n",
       "    .dataframe thead th {\n",
       "        text-align: right;\n",
       "    }\n",
       "</style>\n",
       "<table border=\"1\" class=\"dataframe\">\n",
       "  <thead>\n",
       "    <tr style=\"text-align: right;\">\n",
       "      <th></th>\n",
       "      <th>id</th>\n",
       "      <th>user_id</th>\n",
       "      <th>call_date</th>\n",
       "      <th>duration</th>\n",
       "    </tr>\n",
       "  </thead>\n",
       "  <tbody>\n",
       "    <tr>\n",
       "      <th>0</th>\n",
       "      <td>1000_93</td>\n",
       "      <td>1000</td>\n",
       "      <td>2018-12-27</td>\n",
       "      <td>8.52</td>\n",
       "    </tr>\n",
       "    <tr>\n",
       "      <th>1</th>\n",
       "      <td>1000_145</td>\n",
       "      <td>1000</td>\n",
       "      <td>2018-12-27</td>\n",
       "      <td>13.66</td>\n",
       "    </tr>\n",
       "    <tr>\n",
       "      <th>2</th>\n",
       "      <td>1000_247</td>\n",
       "      <td>1000</td>\n",
       "      <td>2018-12-27</td>\n",
       "      <td>14.48</td>\n",
       "    </tr>\n",
       "    <tr>\n",
       "      <th>3</th>\n",
       "      <td>1000_309</td>\n",
       "      <td>1000</td>\n",
       "      <td>2018-12-28</td>\n",
       "      <td>5.76</td>\n",
       "    </tr>\n",
       "    <tr>\n",
       "      <th>4</th>\n",
       "      <td>1000_380</td>\n",
       "      <td>1000</td>\n",
       "      <td>2018-12-30</td>\n",
       "      <td>4.22</td>\n",
       "    </tr>\n",
       "  </tbody>\n",
       "</table>\n",
       "</div>"
      ],
      "text/plain": [
       "         id  user_id   call_date  duration\n",
       "0   1000_93     1000  2018-12-27      8.52\n",
       "1  1000_145     1000  2018-12-27     13.66\n",
       "2  1000_247     1000  2018-12-27     14.48\n",
       "3  1000_309     1000  2018-12-28      5.76\n",
       "4  1000_380     1000  2018-12-30      4.22"
      ]
     },
     "execution_count": 17,
     "metadata": {},
     "output_type": "execute_result"
    }
   ],
   "source": [
    "# Print a sample of data for calls\n",
    "df_calls.sample(10)\n",
    "df_calls.head()"
   ]
  },
  {
   "cell_type": "code",
   "execution_count": 18,
   "metadata": {},
   "outputs": [
    {
     "data": {
      "text/plain": [
       "id           0\n",
       "user_id      0\n",
       "call_date    0\n",
       "duration     0\n",
       "dtype: int64"
      ]
     },
     "execution_count": 18,
     "metadata": {},
     "output_type": "execute_result"
    }
   ],
   "source": [
    "df_calls[df_calls.duplicated()].count()"
   ]
  },
  {
   "cell_type": "markdown",
   "metadata": {},
   "source": [
    "[Describe what you see and notice in the general information and the printed data sample for the above price of data. Are there any issues (inappropriate data types, missing data etc) that may need further investigation and changes? How that can be fixed?]"
   ]
  },
  {
   "cell_type": "markdown",
   "metadata": {},
   "source": [
    " "
   ]
  },
  {
   "cell_type": "markdown",
   "metadata": {},
   "source": [
    "### Fix data"
   ]
  },
  {
   "cell_type": "markdown",
   "metadata": {},
   "source": [
    "[Fix obvious issues with the data given the initial observations.]"
   ]
  },
  {
   "cell_type": "code",
   "execution_count": 19,
   "metadata": {},
   "outputs": [],
   "source": [
    "# Convert date columns in calls_df\n",
    "df_calls['call_date'] = pd.to_datetime(df_calls['call_date'])"
   ]
  },
  {
   "cell_type": "code",
   "execution_count": 20,
   "metadata": {},
   "outputs": [
    {
     "data": {
      "text/plain": [
       "0"
      ]
     },
     "execution_count": 20,
     "metadata": {},
     "output_type": "execute_result"
    }
   ],
   "source": [
    "# Check for fully duplicated rows\n",
    "df_calls.duplicated().sum()"
   ]
  },
  {
   "cell_type": "code",
   "execution_count": 21,
   "metadata": {},
   "outputs": [
    {
     "data": {
      "text/plain": [
       "0     8.0\n",
       "1    13.0\n",
       "2    14.0\n",
       "3     5.0\n",
       "4     4.0\n",
       "Name: duration, dtype: float64"
      ]
     },
     "metadata": {},
     "output_type": "display_data"
    }
   ],
   "source": [
    "# Convert the duration column to integer type for consistency\n",
    "df_calls['duration'] = df_calls['duration'].astype(int)\n",
    "\n",
    "# Round up each call duration to the nearest minute\n",
    "df_calls['duration'] = np.ceil(df_calls['duration'])\n",
    "\n",
    "# Verify the changes\n",
    "display(df_calls['duration'].head())"
   ]
  },
  {
   "cell_type": "markdown",
   "metadata": {},
   "source": [
    "<div class=\"alert alert-block alert-success\">\n",
    "<b>Reviewer's comment v1</b>\n",
    "\n",
    "Great job! Good that you did not forget about data rounding. Also, great choice of `np.ceil ()` function.\n"
   ]
  },
  {
   "cell_type": "markdown",
   "metadata": {},
   "source": [
    "### Enrich data"
   ]
  },
  {
   "cell_type": "markdown",
   "metadata": {},
   "source": [
    "[Add additional factors to the data if you believe they might be useful.]"
   ]
  },
  {
   "cell_type": "code",
   "execution_count": null,
   "metadata": {},
   "outputs": [],
   "source": []
  },
  {
   "cell_type": "markdown",
   "metadata": {},
   "source": [
    "<div class=\"alert alert-info\">\n",
    "<h2> Student's comment </h2>\n",
    "Cleaned up 'df_calls' by converting date column with pd.to_datetime(), checked for duplicates and converted the 'duration' column into integer with .astype(int). Based on the sample, the 'duration' column must be fixed as they are not yet rounded up to the nearest integer and include decimals. Rounded up each call duration to the nearest value per Megaline's instructions with np.ceil(). \n",
    "\n",
    "</div>"
   ]
  },
  {
   "cell_type": "markdown",
   "metadata": {},
   "source": [
    "## Messages"
   ]
  },
  {
   "cell_type": "code",
   "execution_count": 22,
   "metadata": {},
   "outputs": [
    {
     "data": {
      "text/html": [
       "<div>\n",
       "<style scoped>\n",
       "    .dataframe tbody tr th:only-of-type {\n",
       "        vertical-align: middle;\n",
       "    }\n",
       "\n",
       "    .dataframe tbody tr th {\n",
       "        vertical-align: top;\n",
       "    }\n",
       "\n",
       "    .dataframe thead th {\n",
       "        text-align: right;\n",
       "    }\n",
       "</style>\n",
       "<table border=\"1\" class=\"dataframe\">\n",
       "  <thead>\n",
       "    <tr style=\"text-align: right;\">\n",
       "      <th></th>\n",
       "      <th>user_id</th>\n",
       "    </tr>\n",
       "  </thead>\n",
       "  <tbody>\n",
       "    <tr>\n",
       "      <th>count</th>\n",
       "      <td>76051.000000</td>\n",
       "    </tr>\n",
       "    <tr>\n",
       "      <th>mean</th>\n",
       "      <td>1245.972768</td>\n",
       "    </tr>\n",
       "    <tr>\n",
       "      <th>std</th>\n",
       "      <td>139.843635</td>\n",
       "    </tr>\n",
       "    <tr>\n",
       "      <th>min</th>\n",
       "      <td>1000.000000</td>\n",
       "    </tr>\n",
       "    <tr>\n",
       "      <th>25%</th>\n",
       "      <td>1123.000000</td>\n",
       "    </tr>\n",
       "    <tr>\n",
       "      <th>50%</th>\n",
       "      <td>1251.000000</td>\n",
       "    </tr>\n",
       "    <tr>\n",
       "      <th>75%</th>\n",
       "      <td>1362.000000</td>\n",
       "    </tr>\n",
       "    <tr>\n",
       "      <th>max</th>\n",
       "      <td>1497.000000</td>\n",
       "    </tr>\n",
       "  </tbody>\n",
       "</table>\n",
       "</div>"
      ],
      "text/plain": [
       "            user_id\n",
       "count  76051.000000\n",
       "mean    1245.972768\n",
       "std      139.843635\n",
       "min     1000.000000\n",
       "25%     1123.000000\n",
       "50%     1251.000000\n",
       "75%     1362.000000\n",
       "max     1497.000000"
      ]
     },
     "metadata": {},
     "output_type": "display_data"
    },
    {
     "name": "stdout",
     "output_type": "stream",
     "text": [
      "<class 'pandas.core.frame.DataFrame'>\n",
      "RangeIndex: 76051 entries, 0 to 76050\n",
      "Data columns (total 3 columns):\n",
      " #   Column        Non-Null Count  Dtype \n",
      "---  ------        --------------  ----- \n",
      " 0   id            76051 non-null  object\n",
      " 1   user_id       76051 non-null  int64 \n",
      " 2   message_date  76051 non-null  object\n",
      "dtypes: int64(1), object(2)\n",
      "memory usage: 1.7+ MB\n"
     ]
    }
   ],
   "source": [
    "# Print the general/summary information about the messages' DataFrame\n",
    "display(df_messages.describe())\n",
    "df_messages.info()"
   ]
  },
  {
   "cell_type": "code",
   "execution_count": 23,
   "metadata": {},
   "outputs": [
    {
     "data": {
      "text/html": [
       "<div>\n",
       "<style scoped>\n",
       "    .dataframe tbody tr th:only-of-type {\n",
       "        vertical-align: middle;\n",
       "    }\n",
       "\n",
       "    .dataframe tbody tr th {\n",
       "        vertical-align: top;\n",
       "    }\n",
       "\n",
       "    .dataframe thead th {\n",
       "        text-align: right;\n",
       "    }\n",
       "</style>\n",
       "<table border=\"1\" class=\"dataframe\">\n",
       "  <thead>\n",
       "    <tr style=\"text-align: right;\">\n",
       "      <th></th>\n",
       "      <th>id</th>\n",
       "      <th>user_id</th>\n",
       "      <th>message_date</th>\n",
       "    </tr>\n",
       "  </thead>\n",
       "  <tbody>\n",
       "    <tr>\n",
       "      <th>11663</th>\n",
       "      <td>1079_62</td>\n",
       "      <td>1079</td>\n",
       "      <td>2018-10-30</td>\n",
       "    </tr>\n",
       "    <tr>\n",
       "      <th>33023</th>\n",
       "      <td>1205_98</td>\n",
       "      <td>1205</td>\n",
       "      <td>2018-12-13</td>\n",
       "    </tr>\n",
       "    <tr>\n",
       "      <th>42024</th>\n",
       "      <td>1271_2</td>\n",
       "      <td>1271</td>\n",
       "      <td>2018-12-25</td>\n",
       "    </tr>\n",
       "    <tr>\n",
       "      <th>33385</th>\n",
       "      <td>1211_61</td>\n",
       "      <td>1211</td>\n",
       "      <td>2018-09-19</td>\n",
       "    </tr>\n",
       "    <tr>\n",
       "      <th>39332</th>\n",
       "      <td>1255_560</td>\n",
       "      <td>1255</td>\n",
       "      <td>2018-09-30</td>\n",
       "    </tr>\n",
       "    <tr>\n",
       "      <th>37578</th>\n",
       "      <td>1249_41</td>\n",
       "      <td>1249</td>\n",
       "      <td>2018-10-02</td>\n",
       "    </tr>\n",
       "    <tr>\n",
       "      <th>41999</th>\n",
       "      <td>1270_212</td>\n",
       "      <td>1270</td>\n",
       "      <td>2018-11-28</td>\n",
       "    </tr>\n",
       "    <tr>\n",
       "      <th>13314</th>\n",
       "      <td>1088_303</td>\n",
       "      <td>1088</td>\n",
       "      <td>2018-07-02</td>\n",
       "    </tr>\n",
       "    <tr>\n",
       "      <th>9219</th>\n",
       "      <td>1067_77</td>\n",
       "      <td>1067</td>\n",
       "      <td>2018-12-12</td>\n",
       "    </tr>\n",
       "    <tr>\n",
       "      <th>4914</th>\n",
       "      <td>1045_266</td>\n",
       "      <td>1045</td>\n",
       "      <td>2018-11-06</td>\n",
       "    </tr>\n",
       "  </tbody>\n",
       "</table>\n",
       "</div>"
      ],
      "text/plain": [
       "             id  user_id message_date\n",
       "11663   1079_62     1079   2018-10-30\n",
       "33023   1205_98     1205   2018-12-13\n",
       "42024    1271_2     1271   2018-12-25\n",
       "33385   1211_61     1211   2018-09-19\n",
       "39332  1255_560     1255   2018-09-30\n",
       "37578   1249_41     1249   2018-10-02\n",
       "41999  1270_212     1270   2018-11-28\n",
       "13314  1088_303     1088   2018-07-02\n",
       "9219    1067_77     1067   2018-12-12\n",
       "4914   1045_266     1045   2018-11-06"
      ]
     },
     "execution_count": 23,
     "metadata": {},
     "output_type": "execute_result"
    }
   ],
   "source": [
    "# Print a sample of data for messages\n",
    "df_messages.sample(10)\n"
   ]
  },
  {
   "cell_type": "markdown",
   "metadata": {},
   "source": [
    "[Describe what you see and notice in the general information and the printed data sample for the above price of data. Are there any issues (inappropriate data types, missing data etc) that may need further investigation and changes? How that can be fixed?]"
   ]
  },
  {
   "cell_type": "markdown",
   "metadata": {},
   "source": [
    " "
   ]
  },
  {
   "cell_type": "markdown",
   "metadata": {},
   "source": [
    "### Fix data"
   ]
  },
  {
   "cell_type": "markdown",
   "metadata": {},
   "source": [
    "[Fix obvious issues with the data given the initial observations.]"
   ]
  },
  {
   "cell_type": "code",
   "execution_count": 24,
   "metadata": {},
   "outputs": [],
   "source": [
    "# Convert date columns in calls_df\n",
    "df_messages['message_date'] = pd.to_datetime(df_messages['message_date'])"
   ]
  },
  {
   "cell_type": "markdown",
   "metadata": {},
   "source": [
    "### Enrich data"
   ]
  },
  {
   "cell_type": "markdown",
   "metadata": {},
   "source": [
    "[Add additional factors to the data if you believe they might be useful.]"
   ]
  },
  {
   "cell_type": "code",
   "execution_count": null,
   "metadata": {},
   "outputs": [],
   "source": []
  },
  {
   "cell_type": "markdown",
   "metadata": {},
   "source": [
    "<div class=\"alert alert-info\">\n",
    "<h2> Student's comment </h2>\n",
    "For 'df_messages', there were no particular red flags with the data based on initial observations other than converting the 'message_date' column with pd.to_datetime for consistency and easier processing if needed.\n",
    "\n",
    "</div>"
   ]
  },
  {
   "cell_type": "markdown",
   "metadata": {},
   "source": [
    "## Internet"
   ]
  },
  {
   "cell_type": "code",
   "execution_count": 25,
   "metadata": {},
   "outputs": [
    {
     "data": {
      "text/html": [
       "<div>\n",
       "<style scoped>\n",
       "    .dataframe tbody tr th:only-of-type {\n",
       "        vertical-align: middle;\n",
       "    }\n",
       "\n",
       "    .dataframe tbody tr th {\n",
       "        vertical-align: top;\n",
       "    }\n",
       "\n",
       "    .dataframe thead th {\n",
       "        text-align: right;\n",
       "    }\n",
       "</style>\n",
       "<table border=\"1\" class=\"dataframe\">\n",
       "  <thead>\n",
       "    <tr style=\"text-align: right;\">\n",
       "      <th></th>\n",
       "      <th>user_id</th>\n",
       "      <th>mb_used</th>\n",
       "    </tr>\n",
       "  </thead>\n",
       "  <tbody>\n",
       "    <tr>\n",
       "      <th>count</th>\n",
       "      <td>104825.000000</td>\n",
       "      <td>104825.000000</td>\n",
       "    </tr>\n",
       "    <tr>\n",
       "      <th>mean</th>\n",
       "      <td>1242.496361</td>\n",
       "      <td>366.713701</td>\n",
       "    </tr>\n",
       "    <tr>\n",
       "      <th>std</th>\n",
       "      <td>142.053913</td>\n",
       "      <td>277.170542</td>\n",
       "    </tr>\n",
       "    <tr>\n",
       "      <th>min</th>\n",
       "      <td>1000.000000</td>\n",
       "      <td>0.000000</td>\n",
       "    </tr>\n",
       "    <tr>\n",
       "      <th>25%</th>\n",
       "      <td>1122.000000</td>\n",
       "      <td>136.080000</td>\n",
       "    </tr>\n",
       "    <tr>\n",
       "      <th>50%</th>\n",
       "      <td>1236.000000</td>\n",
       "      <td>343.980000</td>\n",
       "    </tr>\n",
       "    <tr>\n",
       "      <th>75%</th>\n",
       "      <td>1367.000000</td>\n",
       "      <td>554.610000</td>\n",
       "    </tr>\n",
       "    <tr>\n",
       "      <th>max</th>\n",
       "      <td>1499.000000</td>\n",
       "      <td>1693.470000</td>\n",
       "    </tr>\n",
       "  </tbody>\n",
       "</table>\n",
       "</div>"
      ],
      "text/plain": [
       "             user_id        mb_used\n",
       "count  104825.000000  104825.000000\n",
       "mean     1242.496361     366.713701\n",
       "std       142.053913     277.170542\n",
       "min      1000.000000       0.000000\n",
       "25%      1122.000000     136.080000\n",
       "50%      1236.000000     343.980000\n",
       "75%      1367.000000     554.610000\n",
       "max      1499.000000    1693.470000"
      ]
     },
     "metadata": {},
     "output_type": "display_data"
    },
    {
     "name": "stdout",
     "output_type": "stream",
     "text": [
      "<class 'pandas.core.frame.DataFrame'>\n",
      "RangeIndex: 104825 entries, 0 to 104824\n",
      "Data columns (total 4 columns):\n",
      " #   Column        Non-Null Count   Dtype  \n",
      "---  ------        --------------   -----  \n",
      " 0   id            104825 non-null  object \n",
      " 1   user_id       104825 non-null  int64  \n",
      " 2   session_date  104825 non-null  object \n",
      " 3   mb_used       104825 non-null  float64\n",
      "dtypes: float64(1), int64(1), object(2)\n",
      "memory usage: 3.2+ MB\n"
     ]
    }
   ],
   "source": [
    "# Print the general/summary information about the internet DataFrame\n",
    "display(df_internet.describe())\n",
    "df_internet.info()"
   ]
  },
  {
   "cell_type": "code",
   "execution_count": 26,
   "metadata": {
    "scrolled": true
   },
   "outputs": [
    {
     "data": {
      "text/html": [
       "<div>\n",
       "<style scoped>\n",
       "    .dataframe tbody tr th:only-of-type {\n",
       "        vertical-align: middle;\n",
       "    }\n",
       "\n",
       "    .dataframe tbody tr th {\n",
       "        vertical-align: top;\n",
       "    }\n",
       "\n",
       "    .dataframe thead th {\n",
       "        text-align: right;\n",
       "    }\n",
       "</style>\n",
       "<table border=\"1\" class=\"dataframe\">\n",
       "  <thead>\n",
       "    <tr style=\"text-align: right;\">\n",
       "      <th></th>\n",
       "      <th>id</th>\n",
       "      <th>user_id</th>\n",
       "      <th>session_date</th>\n",
       "      <th>mb_used</th>\n",
       "    </tr>\n",
       "  </thead>\n",
       "  <tbody>\n",
       "    <tr>\n",
       "      <th>30037</th>\n",
       "      <td>1138_269</td>\n",
       "      <td>1138</td>\n",
       "      <td>2018-05-28</td>\n",
       "      <td>0.00</td>\n",
       "    </tr>\n",
       "    <tr>\n",
       "      <th>16360</th>\n",
       "      <td>1073_285</td>\n",
       "      <td>1073</td>\n",
       "      <td>2018-10-30</td>\n",
       "      <td>295.61</td>\n",
       "    </tr>\n",
       "    <tr>\n",
       "      <th>8613</th>\n",
       "      <td>1045_186</td>\n",
       "      <td>1045</td>\n",
       "      <td>2018-11-26</td>\n",
       "      <td>175.32</td>\n",
       "    </tr>\n",
       "    <tr>\n",
       "      <th>101213</th>\n",
       "      <td>1482_57</td>\n",
       "      <td>1482</td>\n",
       "      <td>2018-11-25</td>\n",
       "      <td>508.96</td>\n",
       "    </tr>\n",
       "    <tr>\n",
       "      <th>20846</th>\n",
       "      <td>1097_84</td>\n",
       "      <td>1097</td>\n",
       "      <td>2018-11-01</td>\n",
       "      <td>587.48</td>\n",
       "    </tr>\n",
       "    <tr>\n",
       "      <th>38225</th>\n",
       "      <td>1171_596</td>\n",
       "      <td>1171</td>\n",
       "      <td>2018-09-26</td>\n",
       "      <td>317.70</td>\n",
       "    </tr>\n",
       "    <tr>\n",
       "      <th>60743</th>\n",
       "      <td>1277_46</td>\n",
       "      <td>1277</td>\n",
       "      <td>2018-09-13</td>\n",
       "      <td>785.07</td>\n",
       "    </tr>\n",
       "    <tr>\n",
       "      <th>37779</th>\n",
       "      <td>1171_150</td>\n",
       "      <td>1171</td>\n",
       "      <td>2018-05-06</td>\n",
       "      <td>23.63</td>\n",
       "    </tr>\n",
       "    <tr>\n",
       "      <th>16320</th>\n",
       "      <td>1073_236</td>\n",
       "      <td>1073</td>\n",
       "      <td>2018-06-14</td>\n",
       "      <td>0.00</td>\n",
       "    </tr>\n",
       "    <tr>\n",
       "      <th>19672</th>\n",
       "      <td>1088_516</td>\n",
       "      <td>1088</td>\n",
       "      <td>2018-10-24</td>\n",
       "      <td>0.00</td>\n",
       "    </tr>\n",
       "  </tbody>\n",
       "</table>\n",
       "</div>"
      ],
      "text/plain": [
       "              id  user_id session_date  mb_used\n",
       "30037   1138_269     1138   2018-05-28     0.00\n",
       "16360   1073_285     1073   2018-10-30   295.61\n",
       "8613    1045_186     1045   2018-11-26   175.32\n",
       "101213   1482_57     1482   2018-11-25   508.96\n",
       "20846    1097_84     1097   2018-11-01   587.48\n",
       "38225   1171_596     1171   2018-09-26   317.70\n",
       "60743    1277_46     1277   2018-09-13   785.07\n",
       "37779   1171_150     1171   2018-05-06    23.63\n",
       "16320   1073_236     1073   2018-06-14     0.00\n",
       "19672   1088_516     1088   2018-10-24     0.00"
      ]
     },
     "execution_count": 26,
     "metadata": {},
     "output_type": "execute_result"
    }
   ],
   "source": [
    "# Print a sample of data for the internet traffic\n",
    "df_internet.sample(10)"
   ]
  },
  {
   "cell_type": "markdown",
   "metadata": {},
   "source": [
    "[Describe what you see and notice in the general information and the printed data sample for the above price of data. Are there any issues (inappropriate data types, missing data etc) that may need further investigation and changes? How that can be fixed?]"
   ]
  },
  {
   "cell_type": "markdown",
   "metadata": {},
   "source": [
    " "
   ]
  },
  {
   "cell_type": "markdown",
   "metadata": {},
   "source": [
    "### Fix data"
   ]
  },
  {
   "cell_type": "markdown",
   "metadata": {},
   "source": [
    "[Fix obvious issues with the data given the initial observations.]"
   ]
  },
  {
   "cell_type": "code",
   "execution_count": 27,
   "metadata": {},
   "outputs": [],
   "source": [
    "# Convert date columns in calls_df\n",
    "df_internet['session_date'] = pd.to_datetime(df_internet['session_date'])"
   ]
  },
  {
   "cell_type": "markdown",
   "metadata": {},
   "source": [
    "### Enrich data"
   ]
  },
  {
   "cell_type": "markdown",
   "metadata": {},
   "source": [
    "[Add additional factors to the data if you believe they might be useful.]"
   ]
  },
  {
   "cell_type": "code",
   "execution_count": 28,
   "metadata": {},
   "outputs": [
    {
     "data": {
      "text/html": [
       "<div>\n",
       "<style scoped>\n",
       "    .dataframe tbody tr th:only-of-type {\n",
       "        vertical-align: middle;\n",
       "    }\n",
       "\n",
       "    .dataframe tbody tr th {\n",
       "        vertical-align: top;\n",
       "    }\n",
       "\n",
       "    .dataframe thead th {\n",
       "        text-align: right;\n",
       "    }\n",
       "</style>\n",
       "<table border=\"1\" class=\"dataframe\">\n",
       "  <thead>\n",
       "    <tr style=\"text-align: right;\">\n",
       "      <th></th>\n",
       "      <th>user_id</th>\n",
       "      <th>year</th>\n",
       "      <th>month</th>\n",
       "      <th>mb_used</th>\n",
       "      <th>gb_used</th>\n",
       "    </tr>\n",
       "  </thead>\n",
       "  <tbody>\n",
       "    <tr>\n",
       "      <th>0</th>\n",
       "      <td>1000</td>\n",
       "      <td>2018</td>\n",
       "      <td>12</td>\n",
       "      <td>1901.47</td>\n",
       "      <td>2.0</td>\n",
       "    </tr>\n",
       "    <tr>\n",
       "      <th>1</th>\n",
       "      <td>1001</td>\n",
       "      <td>2018</td>\n",
       "      <td>8</td>\n",
       "      <td>6919.15</td>\n",
       "      <td>7.0</td>\n",
       "    </tr>\n",
       "    <tr>\n",
       "      <th>2</th>\n",
       "      <td>1001</td>\n",
       "      <td>2018</td>\n",
       "      <td>9</td>\n",
       "      <td>13314.82</td>\n",
       "      <td>14.0</td>\n",
       "    </tr>\n",
       "    <tr>\n",
       "      <th>3</th>\n",
       "      <td>1001</td>\n",
       "      <td>2018</td>\n",
       "      <td>10</td>\n",
       "      <td>22330.49</td>\n",
       "      <td>22.0</td>\n",
       "    </tr>\n",
       "    <tr>\n",
       "      <th>4</th>\n",
       "      <td>1001</td>\n",
       "      <td>2018</td>\n",
       "      <td>11</td>\n",
       "      <td>18504.30</td>\n",
       "      <td>19.0</td>\n",
       "    </tr>\n",
       "  </tbody>\n",
       "</table>\n",
       "</div>"
      ],
      "text/plain": [
       "   user_id  year  month   mb_used  gb_used\n",
       "0     1000  2018     12   1901.47      2.0\n",
       "1     1001  2018      8   6919.15      7.0\n",
       "2     1001  2018      9  13314.82     14.0\n",
       "3     1001  2018     10  22330.49     22.0\n",
       "4     1001  2018     11  18504.30     19.0"
      ]
     },
     "metadata": {},
     "output_type": "display_data"
    }
   ],
   "source": [
    "# Add separate month and year columns to group by\n",
    "df_internet['month'] = df_internet['session_date'].dt.month\n",
    "df_internet['year'] = df_internet['session_date'].dt.year\n",
    "\n",
    "# Calculate monthly total usage in gigabytes, rounded up\n",
    "# Group by user_id, year, and month, sum mb_used, and convert to GB\n",
    "df_internet_monthly = (\n",
    "    df_internet.groupby(['user_id', 'year', 'month'], as_index=False)['mb_used']\n",
    "    .sum()\n",
    ")\n",
    "df_internet_monthly['gb_used'] = np.ceil(df_internet_monthly['mb_used'] / 1024)\n",
    "\n",
    "# Preview the result\n",
    "display(df_internet_monthly.head())"
   ]
  },
  {
   "cell_type": "markdown",
   "metadata": {},
   "source": [
    "<div class=\"alert alert-block alert-warning\">\n",
    "<b>Reviewer's comment v1</b>\n",
    " \n",
    "Everything is correct here, but it is always helpful to double-check whether we indeed have data within one year/time period. If not, then selecting and aggregating data by the month number will cause an issue. It is safer to use datetime64[M], which provides a complete date.\n",
    "\n",
    "Additionally, you could achieve the same using the following code: \n",
    "    \n",
    "```    \n",
    "calls['call_date'].dt.to_period('M')\n",
    "```"
   ]
  },
  {
   "cell_type": "markdown",
   "metadata": {},
   "source": [
    "<div class=\"alert alert-info\">\n",
    "<h2> Student's comment </h2>\n",
    "Converted 'session_date' column with pd.to_datetime(). Based on the sample, 'mb_used' is not in the correct format as they are still in mb for each individual user. Rounded up the monthly total for 'mb_used' data to GB as per Megaline instructions.\n",
    "\n",
    "</div>"
   ]
  },
  {
   "cell_type": "markdown",
   "metadata": {},
   "source": [
    "## Study plan conditions"
   ]
  },
  {
   "cell_type": "markdown",
   "metadata": {},
   "source": [
    "[It is critical to understand how the plans work, how users are charged based on their plan subscription. So, we suggest printing out the plan information to view their conditions once again.]"
   ]
  },
  {
   "cell_type": "markdown",
   "metadata": {},
   "source": [
    "<div class=\"alert alert-info\">\n",
    "<h2> Megaline Plans </h2>\n",
    "Surf \n",
    "    \n",
    "1. Monthly charge - 20 USD\n",
    "2. 500 monthly minutes, 50 texts, and 15 GB of data\n",
    "3. After exceeding the package limits:\n",
    "    - 1 minute: 3 cents\n",
    "    - 1 text message: 3 cents\n",
    "    - 1 GB of data: $10\n",
    "    \n",
    "Ultimate\n",
    "\n",
    "1. Monthly charge - 70 USD\n",
    "2. 3000 monthly minutes, 1000 text messages, and 30 GB of data\n",
    "3. After exceeding the package limits:\n",
    "    - 1 minute: 1 cent\n",
    "    - 1 text message: 1 cent\n",
    "    - 1 GB of data: 7 USD\n",
    "</div>"
   ]
  },
  {
   "cell_type": "markdown",
   "metadata": {},
   "source": [
    "<div class=\"alert alert-success\">\n",
    "<b>Reviewer's comment v1:</b>\n",
    "    \n",
    "Everything is correct here. "
   ]
  },
  {
   "cell_type": "markdown",
   "metadata": {},
   "source": [
    "## Aggregate data per user\n",
    "\n",
    "[Now, as the data is clean, aggregate data per user per period in order to have just one record per user per period. It should ease the further analysis a lot.]"
   ]
  },
  {
   "cell_type": "code",
   "execution_count": 29,
   "metadata": {},
   "outputs": [],
   "source": [
    "# Calculate the number of calls made by each user per month. Save the result.\n",
    "df_calls['month'] = df_calls['call_date'].dt.month\n",
    "df_calls['year'] = df_calls['call_date'].dt.year\n",
    "calls_agg = df_calls.groupby(['user_id', 'year', 'month']).agg({'duration': 'sum', 'id': 'count'}).reset_index()\n",
    "calls_agg.rename(columns={'duration': 'total_minutes', 'id': 'total_calls'}, inplace=True)\n"
   ]
  },
  {
   "cell_type": "code",
   "execution_count": 30,
   "metadata": {},
   "outputs": [
    {
     "data": {
      "text/html": [
       "<div>\n",
       "<style scoped>\n",
       "    .dataframe tbody tr th:only-of-type {\n",
       "        vertical-align: middle;\n",
       "    }\n",
       "\n",
       "    .dataframe tbody tr th {\n",
       "        vertical-align: top;\n",
       "    }\n",
       "\n",
       "    .dataframe thead th {\n",
       "        text-align: right;\n",
       "    }\n",
       "</style>\n",
       "<table border=\"1\" class=\"dataframe\">\n",
       "  <thead>\n",
       "    <tr style=\"text-align: right;\">\n",
       "      <th></th>\n",
       "      <th>user_id</th>\n",
       "      <th>year</th>\n",
       "      <th>month</th>\n",
       "      <th>total_minutes</th>\n",
       "    </tr>\n",
       "  </thead>\n",
       "  <tbody>\n",
       "    <tr>\n",
       "      <th>0</th>\n",
       "      <td>1000</td>\n",
       "      <td>2018</td>\n",
       "      <td>12</td>\n",
       "      <td>108.0</td>\n",
       "    </tr>\n",
       "    <tr>\n",
       "      <th>16</th>\n",
       "      <td>1001</td>\n",
       "      <td>2018</td>\n",
       "      <td>9</td>\n",
       "      <td>278.0</td>\n",
       "    </tr>\n",
       "    <tr>\n",
       "      <th>17</th>\n",
       "      <td>1001</td>\n",
       "      <td>2018</td>\n",
       "      <td>10</td>\n",
       "      <td>348.0</td>\n",
       "    </tr>\n",
       "    <tr>\n",
       "      <th>19</th>\n",
       "      <td>1001</td>\n",
       "      <td>2018</td>\n",
       "      <td>12</td>\n",
       "      <td>368.0</td>\n",
       "    </tr>\n",
       "    <tr>\n",
       "      <th>22</th>\n",
       "      <td>1001</td>\n",
       "      <td>2018</td>\n",
       "      <td>11</td>\n",
       "      <td>379.0</td>\n",
       "    </tr>\n",
       "  </tbody>\n",
       "</table>\n",
       "</div>"
      ],
      "text/plain": [
       "    user_id  year  month  total_minutes\n",
       "0      1000  2018     12          108.0\n",
       "16     1001  2018      9          278.0\n",
       "17     1001  2018     10          348.0\n",
       "19     1001  2018     12          368.0\n",
       "22     1001  2018     11          379.0"
      ]
     },
     "metadata": {},
     "output_type": "display_data"
    }
   ],
   "source": [
    "# Calculate the amount of minutes spent by each user per month. Save the result.\n",
    "# Extract year and month for grouping\n",
    "df_calls['year'] = df_calls['call_date'].dt.year\n",
    "df_calls['month'] = df_calls['call_date'].dt.month\n",
    "\n",
    "# Calculate the total minutes spent per user per month and save to a new column in df_calls\n",
    "df_calls['total_minutes'] = df_calls.groupby(['user_id', 'year', 'month'])['duration'].transform('sum')\n",
    "\n",
    "# Verify the result\n",
    "display(df_calls[['user_id', 'year', 'month', 'total_minutes']].drop_duplicates().head())\n"
   ]
  },
  {
   "cell_type": "markdown",
   "metadata": {},
   "source": [
    "<div class=\"alert alert-warning\" role=\"alert\">\n",
    "<b>Reviewer's comment v1:</b>\n",
    "    \n",
    "In pivot_table or groupby it is possible to pass multiple arguments, so here, you can create an aggregated table in one go like this:\n",
    "\n",
    "\n",
    "```\n",
    "# Group by and aggregate\n",
    "result = calls_df.groupby(['user_id', 'month']).agg({'duration': ['count', 'sum']}).reset_index()\n",
    "\n",
    "# Flatten the MultiIndex in columns\n",
    "result.columns = ['_'.join(col).strip() if type(col) is tuple else col for col in result.columns.values]\n",
    "result\n",
    "```"
   ]
  },
  {
   "cell_type": "code",
   "execution_count": 31,
   "metadata": {},
   "outputs": [],
   "source": [
    "# Calculate the number of messages sent by each user per month. Save the result.\n",
    "df_messages['message_date'] = pd.to_datetime(df_messages['message_date'])\n",
    "df_messages['month'] = df_messages['message_date'].dt.month\n",
    "df_messages['year'] = df_messages['message_date'].dt.year\n",
    "messages_agg = df_messages.groupby(['user_id', 'year', 'month']).size().reset_index(name='total_messages')\n"
   ]
  },
  {
   "cell_type": "code",
   "execution_count": 32,
   "metadata": {},
   "outputs": [
    {
     "data": {
      "text/html": [
       "<div>\n",
       "<style scoped>\n",
       "    .dataframe tbody tr th:only-of-type {\n",
       "        vertical-align: middle;\n",
       "    }\n",
       "\n",
       "    .dataframe tbody tr th {\n",
       "        vertical-align: top;\n",
       "    }\n",
       "\n",
       "    .dataframe thead th {\n",
       "        text-align: right;\n",
       "    }\n",
       "</style>\n",
       "<table border=\"1\" class=\"dataframe\">\n",
       "  <thead>\n",
       "    <tr style=\"text-align: right;\">\n",
       "      <th></th>\n",
       "      <th>user_id</th>\n",
       "      <th>year</th>\n",
       "      <th>month</th>\n",
       "      <th>gb_used</th>\n",
       "    </tr>\n",
       "  </thead>\n",
       "  <tbody>\n",
       "    <tr>\n",
       "      <th>0</th>\n",
       "      <td>1000</td>\n",
       "      <td>2018</td>\n",
       "      <td>12</td>\n",
       "      <td>2.0</td>\n",
       "    </tr>\n",
       "    <tr>\n",
       "      <th>1</th>\n",
       "      <td>1001</td>\n",
       "      <td>2018</td>\n",
       "      <td>8</td>\n",
       "      <td>7.0</td>\n",
       "    </tr>\n",
       "    <tr>\n",
       "      <th>2</th>\n",
       "      <td>1001</td>\n",
       "      <td>2018</td>\n",
       "      <td>9</td>\n",
       "      <td>14.0</td>\n",
       "    </tr>\n",
       "    <tr>\n",
       "      <th>3</th>\n",
       "      <td>1001</td>\n",
       "      <td>2018</td>\n",
       "      <td>10</td>\n",
       "      <td>22.0</td>\n",
       "    </tr>\n",
       "    <tr>\n",
       "      <th>4</th>\n",
       "      <td>1001</td>\n",
       "      <td>2018</td>\n",
       "      <td>11</td>\n",
       "      <td>19.0</td>\n",
       "    </tr>\n",
       "  </tbody>\n",
       "</table>\n",
       "</div>"
      ],
      "text/plain": [
       "   user_id  year  month  gb_used\n",
       "0     1000  2018     12      2.0\n",
       "1     1001  2018      8      7.0\n",
       "2     1001  2018      9     14.0\n",
       "3     1001  2018     10     22.0\n",
       "4     1001  2018     11     19.0"
      ]
     },
     "metadata": {},
     "output_type": "display_data"
    }
   ],
   "source": [
    "# Calculate the volume of internet traffic used by each user per month. Save the result.\n",
    "# Use the preprocessed internet data for data usage per user per month\n",
    "internet_agg = df_internet_monthly[['user_id', 'year', 'month', 'gb_used']]\n",
    "\n",
    "display(internet_agg.head())"
   ]
  },
  {
   "cell_type": "markdown",
   "metadata": {},
   "source": [
    "[Put the aggregate data together into one DataFrame so that one record in it would represent what an unique user consumed in a given month.]"
   ]
  },
  {
   "cell_type": "code",
   "execution_count": 33,
   "metadata": {},
   "outputs": [],
   "source": [
    "# Merge the data for calls, minutes, messages, internet based on user_id and month\n",
    "monthly_data = calls_agg.merge(messages_agg, on=['user_id', 'year', 'month'], how='outer')\n",
    "monthly_data = monthly_data.merge(internet_agg, on=['user_id', 'year', 'month'], how='outer')\n"
   ]
  },
  {
   "cell_type": "markdown",
   "metadata": {},
   "source": [
    "<div class=\"alert alert-success\">\n",
    "<b>Reviewer's comment v1:</b>\n",
    "    \n",
    "Everything is correct. Indeed, we need to use an `outer` join here."
   ]
  },
  {
   "cell_type": "code",
   "execution_count": 34,
   "metadata": {},
   "outputs": [
    {
     "data": {
      "text/html": [
       "<div>\n",
       "<style scoped>\n",
       "    .dataframe tbody tr th:only-of-type {\n",
       "        vertical-align: middle;\n",
       "    }\n",
       "\n",
       "    .dataframe tbody tr th {\n",
       "        vertical-align: top;\n",
       "    }\n",
       "\n",
       "    .dataframe thead th {\n",
       "        text-align: right;\n",
       "    }\n",
       "</style>\n",
       "<table border=\"1\" class=\"dataframe\">\n",
       "  <thead>\n",
       "    <tr style=\"text-align: right;\">\n",
       "      <th></th>\n",
       "      <th>user_id</th>\n",
       "      <th>year</th>\n",
       "      <th>month</th>\n",
       "      <th>total_minutes</th>\n",
       "      <th>total_calls</th>\n",
       "      <th>total_messages</th>\n",
       "      <th>gb_used</th>\n",
       "      <th>plan</th>\n",
       "      <th>city</th>\n",
       "    </tr>\n",
       "  </thead>\n",
       "  <tbody>\n",
       "    <tr>\n",
       "      <th>0</th>\n",
       "      <td>1000</td>\n",
       "      <td>2018</td>\n",
       "      <td>12</td>\n",
       "      <td>108.0</td>\n",
       "      <td>16.0</td>\n",
       "      <td>11.0</td>\n",
       "      <td>2.0</td>\n",
       "      <td>ultimate</td>\n",
       "      <td>Atlanta-Sandy Springs-Roswell</td>\n",
       "    </tr>\n",
       "    <tr>\n",
       "      <th>1</th>\n",
       "      <td>1001</td>\n",
       "      <td>2018</td>\n",
       "      <td>8</td>\n",
       "      <td>160.0</td>\n",
       "      <td>27.0</td>\n",
       "      <td>30.0</td>\n",
       "      <td>7.0</td>\n",
       "      <td>surf</td>\n",
       "      <td>Seattle-Tacoma-Bellevue</td>\n",
       "    </tr>\n",
       "    <tr>\n",
       "      <th>2</th>\n",
       "      <td>1001</td>\n",
       "      <td>2018</td>\n",
       "      <td>9</td>\n",
       "      <td>278.0</td>\n",
       "      <td>49.0</td>\n",
       "      <td>44.0</td>\n",
       "      <td>14.0</td>\n",
       "      <td>surf</td>\n",
       "      <td>Seattle-Tacoma-Bellevue</td>\n",
       "    </tr>\n",
       "    <tr>\n",
       "      <th>3</th>\n",
       "      <td>1001</td>\n",
       "      <td>2018</td>\n",
       "      <td>10</td>\n",
       "      <td>348.0</td>\n",
       "      <td>65.0</td>\n",
       "      <td>53.0</td>\n",
       "      <td>22.0</td>\n",
       "      <td>surf</td>\n",
       "      <td>Seattle-Tacoma-Bellevue</td>\n",
       "    </tr>\n",
       "    <tr>\n",
       "      <th>4</th>\n",
       "      <td>1001</td>\n",
       "      <td>2018</td>\n",
       "      <td>11</td>\n",
       "      <td>379.0</td>\n",
       "      <td>64.0</td>\n",
       "      <td>36.0</td>\n",
       "      <td>19.0</td>\n",
       "      <td>surf</td>\n",
       "      <td>Seattle-Tacoma-Bellevue</td>\n",
       "    </tr>\n",
       "  </tbody>\n",
       "</table>\n",
       "</div>"
      ],
      "text/plain": [
       "   user_id  year  month  total_minutes  total_calls  total_messages  gb_used  \\\n",
       "0     1000  2018     12          108.0         16.0            11.0      2.0   \n",
       "1     1001  2018      8          160.0         27.0            30.0      7.0   \n",
       "2     1001  2018      9          278.0         49.0            44.0     14.0   \n",
       "3     1001  2018     10          348.0         65.0            53.0     22.0   \n",
       "4     1001  2018     11          379.0         64.0            36.0     19.0   \n",
       "\n",
       "       plan                           city  \n",
       "0  ultimate  Atlanta-Sandy Springs-Roswell  \n",
       "1      surf        Seattle-Tacoma-Bellevue  \n",
       "2      surf        Seattle-Tacoma-Bellevue  \n",
       "3      surf        Seattle-Tacoma-Bellevue  \n",
       "4      surf        Seattle-Tacoma-Bellevue  "
      ]
     },
     "metadata": {},
     "output_type": "display_data"
    },
    {
     "data": {
      "text/plain": [
       "user_id           2293\n",
       "year              2293\n",
       "month             2293\n",
       "total_minutes     2258\n",
       "total_calls       2258\n",
       "total_messages    1806\n",
       "gb_used           2277\n",
       "plan              2293\n",
       "city              2293\n",
       "dtype: int64"
      ]
     },
     "metadata": {},
     "output_type": "display_data"
    }
   ],
   "source": [
    "# Add the plan information\n",
    "monthly_data = monthly_data.merge(df_users[['user_id', 'plan', 'city']], on='user_id', how='left')\n",
    "display(monthly_data.head())\n",
    "display(monthly_data.count())"
   ]
  },
  {
   "cell_type": "markdown",
   "metadata": {},
   "source": [
    "[Calculate the monthly revenue from each user (subtract the free package limit from the total number of calls, text messages, and data; multiply the result by the calling plan value; add the monthly charge depending on the calling plan). N.B. This might not be as trivial as just a couple of lines given the plan conditions! So, it's okay to spend some time on it.]"
   ]
  },
  {
   "cell_type": "code",
   "execution_count": 35,
   "metadata": {},
   "outputs": [
    {
     "data": {
      "text/html": [
       "<div>\n",
       "<style scoped>\n",
       "    .dataframe tbody tr th:only-of-type {\n",
       "        vertical-align: middle;\n",
       "    }\n",
       "\n",
       "    .dataframe tbody tr th {\n",
       "        vertical-align: top;\n",
       "    }\n",
       "\n",
       "    .dataframe thead th {\n",
       "        text-align: right;\n",
       "    }\n",
       "</style>\n",
       "<table border=\"1\" class=\"dataframe\">\n",
       "  <thead>\n",
       "    <tr style=\"text-align: right;\">\n",
       "      <th></th>\n",
       "      <th>user_id</th>\n",
       "      <th>plan</th>\n",
       "      <th>monthly_revenue</th>\n",
       "    </tr>\n",
       "  </thead>\n",
       "  <tbody>\n",
       "    <tr>\n",
       "      <th>1457</th>\n",
       "      <td>1324</td>\n",
       "      <td>surf</td>\n",
       "      <td>104.28</td>\n",
       "    </tr>\n",
       "    <tr>\n",
       "      <th>797</th>\n",
       "      <td>1171</td>\n",
       "      <td>surf</td>\n",
       "      <td>80.00</td>\n",
       "    </tr>\n",
       "    <tr>\n",
       "      <th>1124</th>\n",
       "      <td>1246</td>\n",
       "      <td>ultimate</td>\n",
       "      <td>70.00</td>\n",
       "    </tr>\n",
       "    <tr>\n",
       "      <th>1104</th>\n",
       "      <td>1241</td>\n",
       "      <td>surf</td>\n",
       "      <td>20.00</td>\n",
       "    </tr>\n",
       "    <tr>\n",
       "      <th>32</th>\n",
       "      <td>1009</td>\n",
       "      <td>surf</td>\n",
       "      <td>114.29</td>\n",
       "    </tr>\n",
       "    <tr>\n",
       "      <th>113</th>\n",
       "      <td>1031</td>\n",
       "      <td>ultimate</td>\n",
       "      <td>70.00</td>\n",
       "    </tr>\n",
       "    <tr>\n",
       "      <th>1101</th>\n",
       "      <td>1240</td>\n",
       "      <td>surf</td>\n",
       "      <td>307.10</td>\n",
       "    </tr>\n",
       "    <tr>\n",
       "      <th>1258</th>\n",
       "      <td>1272</td>\n",
       "      <td>surf</td>\n",
       "      <td>20.00</td>\n",
       "    </tr>\n",
       "    <tr>\n",
       "      <th>351</th>\n",
       "      <td>1075</td>\n",
       "      <td>surf</td>\n",
       "      <td>20.93</td>\n",
       "    </tr>\n",
       "    <tr>\n",
       "      <th>390</th>\n",
       "      <td>1082</td>\n",
       "      <td>surf</td>\n",
       "      <td>23.63</td>\n",
       "    </tr>\n",
       "  </tbody>\n",
       "</table>\n",
       "</div>"
      ],
      "text/plain": [
       "      user_id      plan  monthly_revenue\n",
       "1457     1324      surf           104.28\n",
       "797      1171      surf            80.00\n",
       "1124     1246  ultimate            70.00\n",
       "1104     1241      surf            20.00\n",
       "32       1009      surf           114.29\n",
       "113      1031  ultimate            70.00\n",
       "1101     1240      surf           307.10\n",
       "1258     1272      surf            20.00\n",
       "351      1075      surf            20.93\n",
       "390      1082      surf            23.63"
      ]
     },
     "metadata": {},
     "output_type": "display_data"
    },
    {
     "data": {
      "text/plain": [
       "user_id            2293\n",
       "year               2293\n",
       "month              2293\n",
       "total_minutes      2258\n",
       "total_calls        2258\n",
       "total_messages     1806\n",
       "gb_used            2277\n",
       "plan               2293\n",
       "city               2293\n",
       "monthly_revenue    2293\n",
       "dtype: int64"
      ]
     },
     "metadata": {},
     "output_type": "display_data"
    }
   ],
   "source": [
    "def calculate_monthly_revenue(row):\n",
    "    if row['plan'] == 'surf':\n",
    "        # Surf Plan Details\n",
    "        monthly_charge = 20\n",
    "        free_minutes = 500\n",
    "        free_texts = 50\n",
    "        free_data_gb = 15  # 15 GB\n",
    "        extra_minute_charge = 0.03  # 3 cents\n",
    "        extra_text_charge = 0.03  # 3 cents\n",
    "        extra_data_charge = 10  # $10 per GB\n",
    "    elif row['plan'] == 'ultimate':\n",
    "        # Ultimate Plan Details\n",
    "        monthly_charge = 70\n",
    "        free_minutes = 3000\n",
    "        free_texts = 1000\n",
    "        free_data_gb = 30  # 30 GB\n",
    "        extra_minute_charge = 0.01  # 1 cent\n",
    "        extra_text_charge = 0.01  # 1 cent\n",
    "        extra_data_charge = 7  # $7 per GB\n",
    "\n",
    "    # Calculate extras\n",
    "    extra_minutes = max(0, row['total_minutes'] - free_minutes)\n",
    "    extra_texts = max(0, row['total_messages'] - free_texts)\n",
    "    extra_data_gb = max(0, row['gb_used'] - free_data_gb)\n",
    "\n",
    "    # Calculate extra charges\n",
    "    minutes_charge = extra_minutes * extra_minute_charge\n",
    "    messages_charge = extra_texts * extra_text_charge\n",
    "    data_charge = extra_data_gb * extra_data_charge\n",
    "\n",
    "    # Total revenue calculation\n",
    "    total_revenue = monthly_charge + minutes_charge + messages_charge + data_charge\n",
    "\n",
    "    return total_revenue\n",
    "\n",
    "# Apply the revenue calculation function to each row in the DataFrame\n",
    "monthly_data['monthly_revenue'] = monthly_data.apply(calculate_monthly_revenue, axis=1)\n",
    "\n",
    "# Verify the calculated monthly revenue\n",
    "display(monthly_data[['user_id', 'plan', 'monthly_revenue']].sample(10))\n",
    "display(monthly_data.count())"
   ]
  },
  {
   "cell_type": "markdown",
   "metadata": {},
   "source": [
    "<div class=\"alert alert-info\">\n",
    "<h2> Data Preprocessing Conclusion </h2>\n",
    "Not all of the dataframes in the data had issues but some did that had to be addressed prior to the analysis. First, the 'city' names in 'df_users' had to be cleaned up in order make it easier to compare the revenue between users in NY-NJ area and other regions. Next, 'churn_date' contained missing values as these users were still active so these values were filled with the string 'Active' so that the missing values do not interfere with the analysis. All the date columns within the dataframes have been converted with pd.to_datetime() for easier handling and parsing. The 'duration' column in 'df_calls' was fixed and rounded up to meet Megaline requirements. The column 'mb_used' in 'df_internet' was also processed by summing the monthly total usage and rounding it to the nearest GB. Finally, monthly revenue was calculated for each user based on their mobile plans by aggregating the data per user.\n",
    "\n",
    "</div>"
   ]
  },
  {
   "cell_type": "markdown",
   "metadata": {},
   "source": [
    "<div class=\"alert alert-success\" role=\"alert\">\n",
    "<b>Reviewer's comment v1:</b>\n",
    "\n",
    "Everything is correct here.\n",
    "\n",
    "Btw it is also possible to make the calculation of revenue a bit different `np.where` - https://numpy.org/doc/stable/reference/generated/numpy.where.html\n",
    "    \n",
    "```\n",
    "np.where ('condition: if exceeding the package limit', 'multiply the difference by the price of additional services', '0')\n",
    "```\n",
    "\n",
    "    \n",
    "Great thing about python is that there are so many libraries and ready-to-use functions. For example, this task can also be solved using `.clip()` (a useful method in many tasks). You can read it here: https://www.pythonpool.com/numpy-clip/\n",
    " \n",
    "Also, it is better to avoid hard-coding in your functions of all values from the data plans. These values could be frequently updated and it will be annoyingly inconvenient to update them once again in the function. I would recommend using an actual table with values or create a separate data dictionary - https://towardsdatascience.com/12-examples-to-master-python-dictionaries-5a8bcd688c6d"
   ]
  },
  {
   "cell_type": "markdown",
   "metadata": {},
   "source": [
    "## Study user behaviour"
   ]
  },
  {
   "cell_type": "markdown",
   "metadata": {},
   "source": [
    "[Calculate some useful descriptive statistics for the aggregated and merged data, which typically reveal an overall picture captured by the data. Draw useful plots to help the understanding. Given that the main task is to compare the plans and decide on which one is more profitable, the statistics and the plots should be calculated on a per-plan basis.]\n",
    "\n",
    "[There are relevant hints in the comments for Calls but they are not provided for Messages and Internet though the principle of statistical study is the same for them as for Calls.]"
   ]
  },
  {
   "cell_type": "markdown",
   "metadata": {},
   "source": [
    "### Calls"
   ]
  },
  {
   "cell_type": "code",
   "execution_count": 36,
   "metadata": {
    "scrolled": false
   },
   "outputs": [
    {
     "data": {
      "image/png": "[encoded data removed]",
      "text/plain": [
       "<Figure size 1200x600 with 1 Axes>"
      ]
     },
     "metadata": {},
     "output_type": "display_data"
    }
   ],
   "source": [
    "# Compare average duration of calls per each plan per each distinct month. Plot a bar plat to visualize it.\n",
    "# Calculate the average call duration per plan per month\n",
    "avg_call_duration_per_plan_month = (\n",
    "    monthly_data.groupby(['plan', 'month'])['total_minutes']\n",
    "    .mean()\n",
    "    .reset_index()\n",
    ")\n",
    "\n",
    "# Plotting\n",
    "plt.figure(figsize=(12, 6))\n",
    "sns.barplot(\n",
    "    data=avg_call_duration_per_plan_month,\n",
    "    x='month',\n",
    "    y='total_minutes',\n",
    "    hue='plan'\n",
    ")\n",
    "plt.title(\"Average Call Duration per Month for Each Plan\")\n",
    "plt.xlabel(\"Month\")\n",
    "plt.ylabel(\"Average Call Duration (minutes)\")\n",
    "plt.legend(title=\"Plan\")\n",
    "plt.xticks(range(12), labels=['Jan', 'Feb', 'Mar', 'Apr', 'May', 'Jun', 'Jul', 'Aug', 'Sep', 'Oct', 'Nov', 'Dec'])\n",
    "plt.show()\n"
   ]
  },
  {
   "cell_type": "markdown",
   "metadata": {},
   "source": [
    "<div class=\"alert alert-info\">\n",
    "<h2> Student's comment </h2>\n",
    "Based on the graph, both Surf and Ultimate plan users seem to follow a similar trend. Phone call duration starts off lower in the beginning of the year (<200 for both plans in January) and gradually increases as the months go by. This can possibly be explained by there being more holidays in the later months such as October, November and December so users are calling more family members and friends during this time leading to more chances for longer phone calls. However, there is a significant spike in call duration for Ultimate plan users during February.\n",
    "</div>"
   ]
  },
  {
   "cell_type": "code",
   "execution_count": 37,
   "metadata": {},
   "outputs": [
    {
     "data": {
      "image/png": "[encoded data removed]",
      "text/plain": [
       "<Figure size 1200x600 with 1 Axes>"
      ]
     },
     "metadata": {},
     "output_type": "display_data"
    }
   ],
   "source": [
    "# Compare the number of minutes users of each plan require each month. Plot a histogram.\n",
    "# Filter data for each plan\n",
    "surf_minutes = monthly_data[monthly_data['plan'] == 'surf']['total_minutes']\n",
    "ultimate_minutes = monthly_data[monthly_data['plan'] == 'ultimate']['total_minutes']\n",
    "\n",
    "# Plot histograms\n",
    "plt.figure(figsize=(12, 6))\n",
    "plt.hist(surf_minutes, bins=30, alpha=0.5, label='surf', color='blue')\n",
    "plt.hist(ultimate_minutes, bins=30, alpha=0.5, label='ultimate', color='green')\n",
    "\n",
    "# Adding labels and title\n",
    "plt.title(\"Distribution of Monthly Call Minutes for Each Plan\")\n",
    "plt.xlabel(\"Total Minutes\")\n",
    "plt.ylabel(\"Number of Users\")\n",
    "plt.legend(title=\"Plan\")\n",
    "\n",
    "plt.show()\n"
   ]
  },
  {
   "cell_type": "markdown",
   "metadata": {},
   "source": [
    "[Calculate the mean and the variable of the call duration to reason on whether users on the different plans have different behaviours for their calls.]"
   ]
  },
  {
   "cell_type": "markdown",
   "metadata": {},
   "source": [
    "<div class=\"alert alert-info\">\n",
    "<h2> Student's comment </h2>\n",
    "Based on the graph, the distribution of call minutes required by users of each plan are very similar where the peak number of users require around 400 total minutes of call time. This suggests that Ultimate plan users are not fully utilizing the higher plan limit of 3000 minutes while most Surf plan users do as their limit is 500 minutes. Note that the Surf plan also clearly has more users, likely due to the lower cost of the plan. The graph also shows despite most Surf plan users using less than 500 minutes, many still exceed their limit. The surf plan has a higher overage charge of 3 cents per minute compared to the 1 cent per minute in the Ultimate plan. It may be likely that the Surf plan generates more consistent revenue when it comes to overage charges for phone call limits compared to the Ultimate plan as very few people if any exceed the 3000 minute limit.\n",
    "</div>"
   ]
  },
  {
   "cell_type": "code",
   "execution_count": 38,
   "metadata": {
    "scrolled": true
   },
   "outputs": [
    {
     "data": {
      "text/html": [
       "<div>\n",
       "<style scoped>\n",
       "    .dataframe tbody tr th:only-of-type {\n",
       "        vertical-align: middle;\n",
       "    }\n",
       "\n",
       "    .dataframe tbody tr th {\n",
       "        vertical-align: top;\n",
       "    }\n",
       "\n",
       "    .dataframe thead th {\n",
       "        text-align: right;\n",
       "    }\n",
       "</style>\n",
       "<table border=\"1\" class=\"dataframe\">\n",
       "  <thead>\n",
       "    <tr style=\"text-align: right;\">\n",
       "      <th></th>\n",
       "      <th>mean</th>\n",
       "      <th>var</th>\n",
       "    </tr>\n",
       "    <tr>\n",
       "      <th>plan</th>\n",
       "      <th></th>\n",
       "      <th></th>\n",
       "    </tr>\n",
       "  </thead>\n",
       "  <tbody>\n",
       "    <tr>\n",
       "      <th>surf</th>\n",
       "      <td>387.940453</td>\n",
       "      <td>41840.369509</td>\n",
       "    </tr>\n",
       "    <tr>\n",
       "      <th>ultimate</th>\n",
       "      <td>386.042076</td>\n",
       "      <td>44938.725755</td>\n",
       "    </tr>\n",
       "  </tbody>\n",
       "</table>\n",
       "</div>"
      ],
      "text/plain": [
       "                mean           var\n",
       "plan                              \n",
       "surf      387.940453  41840.369509\n",
       "ultimate  386.042076  44938.725755"
      ]
     },
     "metadata": {},
     "output_type": "display_data"
    }
   ],
   "source": [
    "# Calculate the mean and the variance of the monthly call duration\n",
    "call_duration_stats = monthly_data.groupby('plan')['total_minutes'].agg(['mean', 'var'])\n",
    "\n",
    "# Display the statistics\n",
    "display(call_duration_stats)"
   ]
  },
  {
   "cell_type": "code",
   "execution_count": 39,
   "metadata": {},
   "outputs": [
    {
     "data": {
      "image/png": "[encoded data removed]",
      "text/plain": [
       "<Figure size 1000x600 with 1 Axes>"
      ]
     },
     "metadata": {},
     "output_type": "display_data"
    }
   ],
   "source": [
    "# Plot a boxplot to visualize the distribution of the monthly call duration\n",
    "# Set plot style\n",
    "sns.set(style=\"whitegrid\")\n",
    "\n",
    "# Plot boxplot for monthly call duration (total_minutes) by plan\n",
    "plt.figure(figsize=(10, 6))\n",
    "sns.boxplot(data=monthly_data, x='plan', y='total_minutes')\n",
    "\n",
    "# Add title and labels\n",
    "plt.title(\"Distribution of Monthly Call Duration by Plan\")\n",
    "plt.xlabel(\"Plan\")\n",
    "plt.ylabel(\"Total Minutes per Month\")\n",
    "\n",
    "# Show plot\n",
    "plt.show()\n"
   ]
  },
  {
   "cell_type": "markdown",
   "metadata": {},
   "source": [
    "[Formulate conclusions on how the users behave in terms of calling. Is their behaviour different between the plans?]"
   ]
  },
  {
   "cell_type": "markdown",
   "metadata": {},
   "source": [
    "<div class=\"alert alert-info\">\n",
    "<h2> Student's comment </h2>\n",
    "The mean call durations for Surf and Ultimate are nearly identical. This indicates that, on average, users of both plans have similar calling needs. This similarity suggests the idea that calling time may not be a primary factor influencing users' plan choices. Surf has a slightly lower variance than Ultimate. This suggests that Surf users’ call durations are more consistent, clustering closer to the mean, but Ultimate users show a bit more variability in their monthly call duration. This could imply that Surf users tend to be more mindful of staying within the 500-minute limit to avoid extra charges, whereas Ultimate users may feel less constrained given their much higher limit. Since Surf users are consistently close to the 500-minute limit, they might contribute more to revenue from overage charges compared to Ultimate users. The box-plot for the distribution of monthly call duration between plans are very similar despite the 2500 minute difference in limit so Megaline customers behave similarly when it comes to their calling duration no matter what plan they have. \n",
    "</div>"
   ]
  },
  {
   "cell_type": "markdown",
   "metadata": {},
   "source": [
    "<div class=\"alert alert-warning\">\n",
    "<b>Reviewer's comment v1:</b>\n",
    "    \n",
    "To avoid repetitive code you could utilize functions. "
   ]
  },
  {
   "cell_type": "markdown",
   "metadata": {},
   "source": [
    " "
   ]
  },
  {
   "cell_type": "markdown",
   "metadata": {},
   "source": [
    "### Messages"
   ]
  },
  {
   "cell_type": "code",
   "execution_count": 40,
   "metadata": {},
   "outputs": [
    {
     "name": "stdout",
     "output_type": "stream",
     "text": [
      "Message statistics per plan:\n",
      "                mean  median          var\n",
      "plan                                    \n",
      "surf      40.109656    32.0  1091.344231\n",
      "ultimate  46.296233    41.0  1085.183108\n"
     ]
    },
    {
     "data": {
      "image/png": "[encoded data removed]",
      "text/plain": [
       "<Figure size 1400x600 with 1 Axes>"
      ]
     },
     "metadata": {},
     "output_type": "display_data"
    },
    {
     "data": {
      "image/png": "[encoded data removed]",
      "text/plain": [
       "<Figure size 1000x600 with 1 Axes>"
      ]
     },
     "metadata": {},
     "output_type": "display_data"
    }
   ],
   "source": [
    "# Compare the number of messages users of each plan tend to send each month\n",
    "message_stats = monthly_data.groupby('plan')['total_messages'].agg(['mean', 'median', 'var'])\n",
    "print(\"Message statistics per plan:\\n\", message_stats)\n",
    "\n",
    "# Plotting histograms\n",
    "plt.figure(figsize=(14, 6))\n",
    "sns.histplot(data=monthly_data, x='total_messages', hue='plan', multiple='stack', bins=20)\n",
    "plt.title('Monthly Messages Distribution by Plan')\n",
    "plt.xlabel('Number of Messages Sent')\n",
    "plt.ylabel('Frequency')\n",
    "plt.legend(title='Plan', labels=['Surf', 'Ultimate'])\n",
    "plt.show()\n",
    "\n",
    "# Plotting boxplots\n",
    "plt.figure(figsize=(10, 6))\n",
    "sns.boxplot(data=monthly_data, x='plan', y='total_messages')\n",
    "plt.title('Monthly Messages Distribution by Plan')\n",
    "plt.xlabel('Plan')\n",
    "plt.ylabel('Number of Messages Sent')\n",
    "plt.show()\n"
   ]
  },
  {
   "cell_type": "markdown",
   "metadata": {},
   "source": [
    "[Formulate conclusions on how the users behave in terms of messaging. Is their behaviour different between the plans?]"
   ]
  },
  {
   "cell_type": "markdown",
   "metadata": {},
   "source": [
    "<div class=\"alert alert-info\">\n",
    "<h2> Student's comment </h2>\n",
    "The Ultimate plan users have a higher mean and median (46.30, 41.0) than Surf plan users (40.11, 32.0). This suggests that Ultimate plan users are more active in sending texts, likely due to the 1000 text message limit so they are not as averse to a risk of overage charges. Keep in mind that Surf plan users only have a 50 text limit with a higher overage charge of 3 cents per text compared to 1 cent per text for Ultimate users. All of the Ultimate plan users are nowhere near the 1000 text message limit, whereas many Surf plan users exceed the 50 text limit as seen in the histogram and box-plot. The box-plot displays that the Surf plan data has more outliers with some users exceeding 200 texts per month. This suggests that although the Ultimate plan creates more consistent revenue with the higher monthly fee, the Surf plan also generates a lot of revenue from the overage charges."
   ]
  },
  {
   "cell_type": "markdown",
   "metadata": {},
   "source": [
    " "
   ]
  },
  {
   "cell_type": "markdown",
   "metadata": {},
   "source": [
    "### Internet"
   ]
  },
  {
   "cell_type": "code",
   "execution_count": 41,
   "metadata": {
    "scrolled": false
   },
   "outputs": [
    {
     "name": "stdout",
     "output_type": "stream",
     "text": [
      "Internet traffic statistics per plan:\n",
      "                mean  median        var\n",
      "plan                                  \n",
      "surf      16.831194    17.0  59.473734\n",
      "ultimate  17.331015    17.0  58.494733\n"
     ]
    },
    {
     "data": {
      "image/png": "[encoded data removed]",
      "text/plain": [
       "<Figure size 1400x600 with 1 Axes>"
      ]
     },
     "metadata": {},
     "output_type": "display_data"
    },
    {
     "data": {
      "image/png": "[encoded data removed]",
      "text/plain": [
       "<Figure size 1000x600 with 1 Axes>"
      ]
     },
     "metadata": {},
     "output_type": "display_data"
    }
   ],
   "source": [
    "# Compare the amount of internet traffic consumed by users per plan\n",
    "# Calculate descriptive statistics for internet usage per plan\n",
    "internet_stats = monthly_data.groupby('plan')['gb_used'].agg(['mean', 'median', 'var'])\n",
    "print(\"Internet traffic statistics per plan:\\n\", internet_stats)\n",
    "\n",
    "# Plot histogram to visualize the distribution of internet usage by plan\n",
    "plt.figure(figsize=(14, 6))\n",
    "sns.histplot(data=monthly_data, x='gb_used', hue='plan', bins=20)\n",
    "plt.title('Monthly Internet Traffic Distribution by Plan')\n",
    "plt.xlabel('GB Used')\n",
    "plt.ylabel('Frequency')\n",
    "plt.legend(title='Plan', labels=['Surf', 'Ultimate'])\n",
    "plt.show()\n",
    "\n",
    "# Plot boxplot to visualize the distribution of internet usage by plan\n",
    "plt.figure(figsize=(10, 6))\n",
    "sns.boxplot(data=monthly_data, x='plan', y='gb_used')\n",
    "plt.title('Monthly Internet Traffic Distribution by Plan')\n",
    "plt.xlabel('Plan')\n",
    "plt.ylabel('GB Used')\n",
    "plt.show()\n"
   ]
  },
  {
   "cell_type": "markdown",
   "metadata": {},
   "source": [
    "[Formulate conclusions on how the users tend to consume the internet traffic? Is their behaviour different between the plans?]"
   ]
  },
  {
   "cell_type": "markdown",
   "metadata": {},
   "source": [
    "<div class=\"alert alert-info\">\n",
    "<h2> Student's comment </h2>\n",
    "Based on the mean and variance and box-plot of both plans, users tend to consumer a very similar amount of data despite the difference in limits. However, the box-plot also reveals that there are more outliers for the Surf plan with some users even exceeding 60 GB of data per month. The overage charge for the Surf plan is 3 more dollars per GB (7 USD for Ultimate and 10 USD for Surf). The distribution of the monthly internet traffic based on the histograms are also very similar with both plans peaking at around 15 GB per month. This suggests that many Surf users are right on the monthly limit and many are exceeding it resulting in overage charges that may increase revenue significantly.\n",
    "</div>"
   ]
  },
  {
   "cell_type": "markdown",
   "metadata": {},
   "source": [
    " "
   ]
  },
  {
   "cell_type": "markdown",
   "metadata": {},
   "source": [
    "## Revenue"
   ]
  },
  {
   "cell_type": "markdown",
   "metadata": {},
   "source": [
    "[Likewise you have studied the user behaviour, statistically describe the revenue between the plans.]"
   ]
  },
  {
   "cell_type": "code",
   "execution_count": 42,
   "metadata": {},
   "outputs": [
    {
     "name": "stdout",
     "output_type": "stream",
     "text": [
      "Revenue statistics per plan:\n",
      "                mean  median          var\n",
      "plan                                    \n",
      "surf      59.994094    40.0  3040.956283\n",
      "ultimate  72.313889    70.0   129.848486\n"
     ]
    },
    {
     "data": {
      "image/png": "[encoded data removed]",
      "text/plain": [
       "<Figure size 1000x600 with 1 Axes>"
      ]
     },
     "metadata": {},
     "output_type": "display_data"
    }
   ],
   "source": [
    "revenue_stats = monthly_data.groupby('plan')['monthly_revenue'].agg(['mean', 'median', 'var'])\n",
    "print(\"Revenue statistics per plan:\\n\", revenue_stats)\n",
    "# Create the boxplot for monthly revenue by plan type\n",
    "plt.figure(figsize=(10, 6))\n",
    "sns.boxplot(data=monthly_data, x='plan', y='monthly_revenue')\n",
    "\n",
    "# Label the plot\n",
    "plt.title('Monthly Revenue Comparison Between Plans')\n",
    "plt.xlabel('Plan')\n",
    "plt.ylabel('Monthly Revenue ($)')\n",
    "plt.show()"
   ]
  },
  {
   "cell_type": "markdown",
   "metadata": {},
   "source": [
    "<div class=\"alert alert-info\">\n",
    "<h2> Student's comment </h2>\n",
    "As suspected based on the previous analysis of call, text and internet usage between each plan and looking at the revenue box-plot: Ultimate plan generates a more consistent higher average monthly revenue per user (72.31) compared to the Surf plan (59.99), likely driven by the higher monthly fee of 70 USD to 20 USD. However, we can see that the overage charges due to the significantly lower limits add a considerable amount of revenue to the Surf plan as the average is close to 60, only 12 less than the average revenue for the Ultimate plan. Revenue distribution for Surf users is broader and more variable as seen in the difference between the variances of the two plans. Some Surf plan users regularly exceed the plan’s limits on calls, messages, or data. These additional charges create a wider revenue range, where certain high-usage months may result in revenue figures closer to that of Ultimate plan users. The box-plot also shows this huge variance in Surf plan revenue compared to the Ultimate revenue. \n",
    "\n",
    "</div>"
   ]
  },
  {
   "cell_type": "markdown",
   "metadata": {},
   "source": [
    "[Formulate conclusions about how the revenue differs between the plans.]"
   ]
  },
  {
   "cell_type": "markdown",
   "metadata": {},
   "source": [
    "<div class=\"alert alert-success\">\n",
    "<b>Reviewer's comment v1:</b>\n",
    "    \n",
    "I will write overall thoughts about the data analysis section:\n",
    "- Very nice visualization of the data. It's great that you combined both plans in one graph for comparison and also used different graph types to check the available data.\n",
    "- If you have time and are willing to practice, you can display two charts (a histogram and a boxplot) using a two-column subplot.\n",
    "\n",
    "```\n",
    "    # Create one row with 2 columns\n",
    "\t  fig, axes = plt.subplots(1, 2, figsize=(16, 5))\n",
    "\n",
    "\t  # Create a histogram for the surf plan\n",
    "\t  sns.distplot(... ax=axes[0])\n",
    "\t  # Create a histogram for the second plan\n",
    "\t  sns.distplot(... ax=axes[0])\n",
    "\t\n",
    "\t  # Create a boxplot for both plans\n",
    "\t  sns.boxplot(... ax=axes[1])\n",
    "```"
   ]
  },
  {
   "cell_type": "markdown",
   "metadata": {},
   "source": [
    " "
   ]
  },
  {
   "cell_type": "markdown",
   "metadata": {},
   "source": [
    "## Test statistical hypotheses"
   ]
  },
  {
   "cell_type": "markdown",
   "metadata": {},
   "source": [
    "[Test the hypothesis that the average revenue from users of the Ultimate and Surf calling plans differs.]"
   ]
  },
  {
   "cell_type": "markdown",
   "metadata": {},
   "source": [
    "[Formulate the null and the alternative hypotheses, choose the statistical test, decide on the alpha value.]"
   ]
  },
  {
   "cell_type": "code",
   "execution_count": 43,
   "metadata": {},
   "outputs": [
    {
     "name": "stdout",
     "output_type": "stream",
     "text": [
      "T-statistic: -8.4741\n",
      "P-value: 0.0000\n",
      "Reject the null hypothesis. There is a significant difference in average revenue between the plans.\n"
     ]
    }
   ],
   "source": [
    "# Test the hypotheses\n",
    "# Separate revenue data by plan\n",
    "surf_revenue = monthly_data[monthly_data['plan'] == 'surf']['monthly_revenue']\n",
    "ultimate_revenue = monthly_data[monthly_data['plan'] == 'ultimate']['monthly_revenue']\n",
    "\n",
    "# Conduct the two-sample t-test\n",
    "t_stat, p_value = stats.ttest_ind(surf_revenue, ultimate_revenue, equal_var=False)\n",
    "\n",
    "# Output the result\n",
    "print(f\"T-statistic: {t_stat:.4f}\")\n",
    "print(f\"P-value: {p_value:.4f}\")\n",
    "\n",
    "# Conclusion based on p-value\n",
    "alpha = 0.05\n",
    "if p_value < alpha:\n",
    "    print(\"Reject the null hypothesis. There is a significant difference in average revenue between the plans.\")\n",
    "else:\n",
    "    print(\"Fail to reject the null hypothesis. No significant difference in average revenue between the plans.\")\n"
   ]
  },
  {
   "cell_type": "markdown",
   "metadata": {},
   "source": [
    "<div class=\"alert alert-info\">\n",
    "<h2> Student's comment </h2>\n",
    "Chose two-sample t-test as we are comparting the means of two independent groups. Chose a 5% significance level. Since the p-value is less than the alpha value chosen, the null hypothesis is rejected. There is a significant difference in average revenue between the plans. The negative T-statistic indicates that the average revenue of the Ultimate plan is higher than that of the Surf plan which supports the results in the monthly_revenue analysis. \n",
    "</div>"
   ]
  },
  {
   "cell_type": "markdown",
   "metadata": {},
   "source": [
    "[Test the hypothesis that the average revenue from users in the NY-NJ area is different from that of the users from the other regions.]"
   ]
  },
  {
   "cell_type": "markdown",
   "metadata": {},
   "source": [
    "[Formulate the null and the alternative hypotheses, choose the statistical test, decide on the alpha value.]"
   ]
  },
  {
   "cell_type": "code",
   "execution_count": 44,
   "metadata": {
    "scrolled": true
   },
   "outputs": [
    {
     "name": "stdout",
     "output_type": "stream",
     "text": [
      "T-statistic: -2.1832\n",
      "P-value: 0.0294\n",
      "Reject the null hypothesis. There is a significant difference in average revenue.\n"
     ]
    }
   ],
   "source": [
    "# Test the hypotheses\n",
    "# Define the groups based on the city\n",
    "ny_area = ['New York-Newark-Jersey City']  # Modify this based on exact city names in your data\n",
    "ny_users_revenue = monthly_data[monthly_data['city'].isin(ny_area)]['monthly_revenue']\n",
    "other_users_revenue = monthly_data[~monthly_data['city'].isin(ny_area)]['monthly_revenue']\n",
    "\n",
    "# Conduct an independent t-test\n",
    "t_stat, p_value = stats.ttest_ind(ny_users_revenue, other_users_revenue, equal_var=False)\n",
    "\n",
    "# Step 3: Print results\n",
    "print(f\"T-statistic: {t_stat:.4f}\")\n",
    "print(f\"P-value: {p_value:.4f}\")\n",
    "\n",
    "# Step 4: Interpretation of results\n",
    "alpha = 0.05\n",
    "if p_value < alpha:\n",
    "    print(\"Reject the null hypothesis. There is a significant difference in average revenue.\")\n",
    "else:\n",
    "    print(\"Fail to reject the null hypothesis. No significant difference in average revenue.\")\n"
   ]
  },
  {
   "cell_type": "markdown",
   "metadata": {},
   "source": [
    "<div class=\"alert alert-info\">\n",
    "<h2> Student's comment </h2>\n",
    "Chose two-sample t-test as we are comparing the means of two independent groups. Chose a 5% significance level. Since the p-value is less than the alpha value chosen, the null hypothesis is rejected. There is a significant difference in average revenue between the NY-NJ region compared to other regions. The negative T-statistic indicates that the average revenue of the other regions are higher than that of the NY-NJ regions.\n",
    "\n",
    "</div>"
   ]
  },
  {
   "cell_type": "markdown",
   "metadata": {},
   "source": [
    "<div class=\"alert alert-success\">\n",
    "<b>Reviewer's comment v1:</b>\n",
    "    \n",
    "- Everything is correct here. Hypotheses have been formulated correctly. \n",
    "- Second one should be still updated based on the new filtering logic i've shared. \n",
    "- Your conclusions based on the results are also correct.\n",
    "- You can also additionally compare the variances of the samples before testing hypotheses in order to understand with which equal_var parameter to use the ttest_ind test method (by default, True). Here you can manually calculate variances, or use Levene's statistic test (https://docs.scipy.org/doc/scipy/reference/generated/scipy.stats.levene.html) or Barlett's test (https: //docs.scipy .org / doc / scipy / reference / generated / scipy.stats.bartlett.html # scipy.stats.bartlett)\n",
    "    "
   ]
  },
  {
   "cell_type": "markdown",
   "metadata": {},
   "source": [
    "## General conclusion\n",
    "\n",
    "[List your important conclusions in this final section, make sure they cover all those important decisions (assumptions) that you've made and that led you to the way you processed and analyzed the data.]"
   ]
  },
  {
   "cell_type": "markdown",
   "metadata": {},
   "source": [
    "<div class=\"alert alert-info\">\n",
    "<h2> Conclusion </h2>\n",
    "This analysis of Megaline's Surf and Ultimate plans provides valuable insights into customer behavior, revenue generation, and regional differences. As stated in the introduction, the main goal of this analysis was to determine which plan generates more revenue to optimize Megaline's advertising.\n",
    "\n",
    "After cleaning and preparing the data, including adjustments to city names, churn date, and data rounding for calls and internet usage, we calculated monthly revenue per user. Examining call usage, we found that users of both plans exhibit similar calling behavior, with mean call durations nearly identical. However, Surf users are more clustered around their 500-minute limit, likely to avoid overage charges while utilizing most of their limit, while Ultimate users display slightly more variability in monthly call duration due to the higher 3000-minute limit.\n",
    "\n",
    "For messaging and internet usage, Ultimate plan users benefit from generous limits, leading to fewer overage charges compared to Surf users. Despite this, revenue from Surf users is increased by these overage charges, which often elevate their monthly fees close to those of Ultimate plan users. Nevertheless, the Ultimate plan consistently brings in higher revenue per user, with an average of 72.31 USD versus 59.99 USD for Surf.\n",
    "\n",
    "Hypothesis testing confirmed significant differences in revenue between the plans and between users in the New York-Newark-Jersey City area and other regions. The Ultimate plan yields more consistent revenue due to its higher monthly fee, while the Surf plan’s revenue is more variable, largely dependent on additional charges.\n",
    "\n",
    "In conclusion, while overage charges from Surf users contribute to revenue, the Ultimate plan is the more consistent and profitable option. Thus, focusing marketing efforts on the Ultimate plan may maximize long-term revenue.\n",
    "</div>"
   ]
  },
  {
   "cell_type": "markdown",
   "metadata": {},
   "source": [
    "<div class=\"alert alert-success\" role=\"alert\">\n",
    "<b>Reviewer's comment v1:</b>\n",
    "    \n",
    "- Overall you conducted great research with correct interim findings, clean code and nice visualisation.\n",
    "- I also like your overall conclusions. It is very structured and provides insights about what you accomplished and recommendations to the business.\n",
    "    "
   ]
  }
 ],
 "metadata": {
  "ExecuteTimeLog": [
   {
    "duration": 828,
    "start_time": "2021-11-16T09:21:11.304Z"
   },
   {
    "duration": 893,
    "start_time": "2021-11-16T09:21:17.728Z"
   },
   {
    "duration": 1150,
    "start_time": "2021-11-16T09:21:29.568Z"
   },
   {
    "duration": 3,
    "start_time": "2021-11-16T09:24:14.495Z"
   },
   {
    "duration": 120,
    "start_time": "2021-11-16T09:24:46.630Z"
   },
   {
    "duration": 3,
    "start_time": "2021-11-16T09:28:27.882Z"
   },
   {
    "duration": 4,
    "start_time": "2021-11-16T09:29:54.281Z"
   },
   {
    "duration": 3,
    "start_time": "2021-11-16T09:30:45.936Z"
   },
   {
    "duration": 4,
    "start_time": "2021-11-16T09:31:06.300Z"
   },
   {
    "duration": 113,
    "start_time": "2021-11-16T09:31:37.208Z"
   },
   {
    "duration": 143,
    "start_time": "2021-11-16T09:31:48.656Z"
   },
   {
    "duration": 98,
    "start_time": "2021-11-16T09:31:55.678Z"
   },
   {
    "duration": 3,
    "start_time": "2021-11-16T09:32:08.535Z"
   },
   {
    "duration": 111,
    "start_time": "2021-11-16T09:32:10.120Z"
   },
   {
    "duration": 3,
    "start_time": "2021-11-16T09:32:15.732Z"
   },
   {
    "duration": 4,
    "start_time": "2021-11-16T09:32:29.423Z"
   },
   {
    "duration": 3,
    "start_time": "2021-11-16T10:03:03.074Z"
   },
   {
    "duration": 3,
    "start_time": "2021-11-16T10:10:01.288Z"
   },
   {
    "duration": 3,
    "start_time": "2021-11-16T10:10:46.923Z"
   },
   {
    "duration": 121,
    "start_time": "2021-11-16T10:37:46.494Z"
   },
   {
    "duration": 125,
    "start_time": "2021-11-16T10:38:20.632Z"
   },
   {
    "duration": 112,
    "start_time": "2021-11-16T10:46:53.001Z"
   },
   {
    "duration": 110,
    "start_time": "2021-11-16T10:48:25.775Z"
   },
   {
    "duration": 3,
    "start_time": "2021-11-16T10:50:18.720Z"
   },
   {
    "duration": 4,
    "start_time": "2021-11-16T10:50:37.649Z"
   },
   {
    "duration": 2,
    "start_time": "2021-11-16T10:50:51.884Z"
   },
   {
    "duration": 3,
    "start_time": "2021-11-16T10:51:56.237Z"
   },
   {
    "duration": 101,
    "start_time": "2021-11-16T10:53:13.791Z"
   },
   {
    "duration": 3,
    "start_time": "2021-11-16T10:55:59.186Z"
   },
   {
    "duration": 3,
    "start_time": "2021-11-16T10:56:10.751Z"
   },
   {
    "duration": 3,
    "start_time": "2021-11-16T10:56:49.038Z"
   },
   {
    "duration": 3,
    "start_time": "2021-11-16T10:56:49.174Z"
   },
   {
    "duration": 4,
    "start_time": "2021-11-16T10:56:49.414Z"
   },
   {
    "duration": 3,
    "start_time": "2021-11-16T10:56:49.680Z"
   },
   {
    "duration": 3,
    "start_time": "2021-11-16T10:56:50.370Z"
   },
   {
    "duration": 114,
    "start_time": "2021-11-16T10:59:34.518Z"
   },
   {
    "duration": 3,
    "start_time": "2021-11-16T11:01:41.201Z"
   },
   {
    "duration": 116,
    "start_time": "2021-11-16T11:01:48.754Z"
   },
   {
    "duration": 3,
    "start_time": "2021-11-16T11:02:16.685Z"
   },
   {
    "duration": 3,
    "start_time": "2021-11-16T11:02:19.479Z"
   },
   {
    "duration": 3,
    "start_time": "2021-11-16T11:02:47.067Z"
   },
   {
    "duration": 3,
    "start_time": "2021-11-16T11:02:49.353Z"
   },
   {
    "duration": 3,
    "start_time": "2021-11-16T11:03:07.835Z"
   },
   {
    "duration": 3,
    "start_time": "2021-11-16T11:03:07.953Z"
   },
   {
    "duration": 112,
    "start_time": "2021-11-16T11:07:52.072Z"
   },
   {
    "duration": 187,
    "start_time": "2021-11-16T11:09:23.468Z"
   },
   {
    "duration": 4,
    "start_time": "2021-11-16T11:10:01.455Z"
   },
   {
    "duration": 3,
    "start_time": "2021-11-16T11:10:05.069Z"
   },
   {
    "duration": 4,
    "start_time": "2021-11-16T11:10:13.376Z"
   },
   {
    "duration": 3,
    "start_time": "2021-11-16T11:10:14.434Z"
   },
   {
    "duration": 3,
    "start_time": "2021-11-16T11:10:22.853Z"
   },
   {
    "duration": 4,
    "start_time": "2021-11-16T11:27:29.279Z"
   },
   {
    "duration": 4,
    "start_time": "2021-11-16T11:29:08.919Z"
   },
   {
    "duration": 118,
    "start_time": "2021-11-16T11:29:46.703Z"
   },
   {
    "duration": 437,
    "start_time": "2021-11-16T11:36:02.181Z"
   },
   {
    "duration": 157,
    "start_time": "2021-11-16T11:36:14.388Z"
   },
   {
    "duration": 207,
    "start_time": "2021-11-16T11:47:15.898Z"
   },
   {
    "duration": 3,
    "start_time": "2021-11-16T11:53:52.092Z"
   },
   {
    "duration": 3,
    "start_time": "2021-11-16T11:53:52.236Z"
   },
   {
    "duration": 3,
    "start_time": "2021-11-16T11:59:12.005Z"
   },
   {
    "duration": 112,
    "start_time": "2021-11-16T12:00:33.446Z"
   },
   {
    "duration": 3,
    "start_time": "2021-11-16T12:02:14.453Z"
   },
   {
    "duration": 3,
    "start_time": "2021-11-16T12:02:39.512Z"
   },
   {
    "duration": 106,
    "start_time": "2021-11-16T12:03:03.460Z"
   },
   {
    "duration": 3,
    "start_time": "2021-11-17T20:37:21.139Z"
   },
   {
    "duration": 3,
    "start_time": "2021-11-17T20:37:22.229Z"
   },
   {
    "duration": 3,
    "start_time": "2021-11-17T20:38:38.806Z"
   },
   {
    "duration": 3,
    "start_time": "2021-11-17T20:38:41.958Z"
   },
   {
    "duration": 3,
    "start_time": "2021-11-17T20:43:46.551Z"
   },
   {
    "duration": 4,
    "start_time": "2021-11-17T20:58:21.835Z"
   },
   {
    "duration": 3,
    "start_time": "2021-11-17T20:59:21.872Z"
   },
   {
    "duration": 4,
    "start_time": "2021-11-17T20:59:45.352Z"
   },
   {
    "duration": 4,
    "start_time": "2021-11-17T20:59:49.646Z"
   },
   {
    "duration": 159,
    "start_time": "2021-11-17T21:02:26.949Z"
   },
   {
    "duration": 3,
    "start_time": "2021-11-17T21:03:53.461Z"
   },
   {
    "duration": 3,
    "start_time": "2021-11-17T21:03:53.694Z"
   },
   {
    "duration": 3,
    "start_time": "2021-11-17T21:05:28.145Z"
   },
   {
    "duration": 116,
    "start_time": "2021-11-17T21:05:57.787Z"
   },
   {
    "duration": 3,
    "start_time": "2021-11-17T21:06:37.993Z"
   },
   {
    "duration": 3,
    "start_time": "2021-11-17T21:06:38.261Z"
   },
   {
    "duration": 3,
    "start_time": "2021-11-17T21:11:54.358Z"
   },
   {
    "duration": 3,
    "start_time": "2021-11-17T21:12:43.846Z"
   },
   {
    "duration": 4,
    "start_time": "2021-11-17T21:13:08.773Z"
   },
   {
    "duration": 3,
    "start_time": "2021-11-17T21:14:44.441Z"
   },
   {
    "duration": 3,
    "start_time": "2021-11-17T21:15:42.059Z"
   },
   {
    "duration": 4,
    "start_time": "2021-11-17T21:15:51.995Z"
   },
   {
    "duration": 3,
    "start_time": "2021-11-17T21:15:53.923Z"
   },
   {
    "duration": 3,
    "start_time": "2021-11-17T21:15:55.282Z"
   },
   {
    "duration": 3,
    "start_time": "2021-11-17T21:16:28.492Z"
   },
   {
    "duration": 3,
    "start_time": "2021-11-17T21:16:32.603Z"
   },
   {
    "duration": 3,
    "start_time": "2021-11-17T21:17:06.941Z"
   },
   {
    "duration": 98,
    "start_time": "2021-11-17T21:18:05.733Z"
   },
   {
    "duration": 4,
    "start_time": "2021-11-17T21:21:35.255Z"
   },
   {
    "duration": 3,
    "start_time": "2021-11-17T21:21:37.804Z"
   },
   {
    "duration": 4,
    "start_time": "2021-11-17T21:23:06.071Z"
   },
   {
    "duration": 3,
    "start_time": "2021-11-17T21:23:24.799Z"
   },
   {
    "duration": 3,
    "start_time": "2021-11-17T21:23:32.591Z"
   },
   {
    "duration": 98,
    "start_time": "2021-11-17T21:28:31.559Z"
   },
   {
    "duration": 3,
    "start_time": "2021-11-17T21:28:45.448Z"
   },
   {
    "duration": 3,
    "start_time": "2021-11-17T21:29:17.303Z"
   },
   {
    "duration": 3,
    "start_time": "2021-11-17T21:29:29.617Z"
   },
   {
    "duration": 3,
    "start_time": "2021-11-17T21:29:32.681Z"
   },
   {
    "duration": 3,
    "start_time": "2021-11-17T21:36:11.474Z"
   },
   {
    "duration": 3,
    "start_time": "2021-11-17T21:36:14.791Z"
   },
   {
    "duration": 3,
    "start_time": "2021-11-17T21:36:53.943Z"
   },
   {
    "duration": 3,
    "start_time": "2021-11-17T21:36:56.165Z"
   },
   {
    "duration": 4,
    "start_time": "2021-11-17T21:37:16.590Z"
   },
   {
    "duration": 3,
    "start_time": "2021-11-17T21:37:22.702Z"
   },
   {
    "duration": 4,
    "start_time": "2021-11-17T21:38:03.479Z"
   },
   {
    "duration": 3,
    "start_time": "2021-11-17T21:38:08.601Z"
   },
   {
    "duration": 3,
    "start_time": "2021-11-17T21:38:12.928Z"
   },
   {
    "duration": 3,
    "start_time": "2021-11-17T21:38:48.896Z"
   },
   {
    "duration": 2,
    "start_time": "2021-11-17T21:38:49.171Z"
   },
   {
    "duration": 4,
    "start_time": "2021-11-17T21:39:57.889Z"
   },
   {
    "duration": 3,
    "start_time": "2021-11-17T21:39:58.057Z"
   },
   {
    "duration": 3,
    "start_time": "2021-11-17T21:41:20.108Z"
   },
   {
    "duration": 3,
    "start_time": "2021-11-17T21:41:20.629Z"
   },
   {
    "duration": 3,
    "start_time": "2021-11-17T21:42:49.136Z"
   },
   {
    "duration": 3,
    "start_time": "2021-11-17T21:43:15.137Z"
   },
   {
    "duration": 4,
    "start_time": "2021-11-17T21:43:16.766Z"
   },
   {
    "duration": 4,
    "start_time": "2021-11-17T21:43:31.711Z"
   },
   {
    "duration": 3,
    "start_time": "2021-11-17T21:43:36.312Z"
   },
   {
    "duration": 4,
    "start_time": "2021-11-17T21:45:08.825Z"
   },
   {
    "duration": 4,
    "start_time": "2021-11-17T21:45:10.119Z"
   },
   {
    "duration": 4,
    "start_time": "2021-11-17T21:45:13.748Z"
   },
   {
    "duration": 3,
    "start_time": "2021-11-17T21:45:22.219Z"
   },
   {
    "duration": 3,
    "start_time": "2021-11-17T21:45:33.412Z"
   },
   {
    "duration": 2,
    "start_time": "2021-11-17T21:46:01.885Z"
   },
   {
    "duration": 3,
    "start_time": "2021-11-17T21:46:03.628Z"
   },
   {
    "duration": 107,
    "start_time": "2021-11-17T21:47:32.512Z"
   },
   {
    "duration": 103,
    "start_time": "2021-11-17T21:50:36.243Z"
   },
   {
    "duration": 3,
    "start_time": "2021-11-18T06:28:31.440Z"
   },
   {
    "duration": 3,
    "start_time": "2021-11-18T06:29:00.168Z"
   },
   {
    "duration": 3,
    "start_time": "2021-11-18T06:31:27.008Z"
   },
   {
    "duration": 2,
    "start_time": "2021-11-18T06:35:34.288Z"
   },
   {
    "duration": 2,
    "start_time": "2021-11-18T06:38:04.527Z"
   },
   {
    "duration": 2300,
    "start_time": "2024-10-22T22:09:09.766Z"
   },
   {
    "duration": 633,
    "start_time": "2024-10-22T22:09:12.068Z"
   },
   {
    "duration": 423,
    "start_time": "2024-10-22T22:09:25.219Z"
   },
   {
    "duration": 232,
    "start_time": "2024-10-22T22:09:28.507Z"
   },
   {
    "duration": 31,
    "start_time": "2024-10-22T22:09:30.978Z"
   },
   {
    "duration": 31,
    "start_time": "2024-10-22T22:12:16.211Z"
   },
   {
    "duration": 20,
    "start_time": "2024-10-22T22:14:34.610Z"
   },
   {
    "duration": 18,
    "start_time": "2024-10-22T22:14:48.487Z"
   },
   {
    "duration": 8,
    "start_time": "2024-10-22T22:19:47.609Z"
   },
   {
    "duration": 14,
    "start_time": "2024-10-22T22:20:07.425Z"
   },
   {
    "duration": 26,
    "start_time": "2024-10-22T22:20:39.248Z"
   },
   {
    "duration": 190,
    "start_time": "2024-10-25T03:33:24.695Z"
   },
   {
    "duration": 2255,
    "start_time": "2024-10-25T03:33:39.744Z"
   },
   {
    "duration": 260,
    "start_time": "2024-10-25T03:33:42.005Z"
   },
   {
    "duration": 29,
    "start_time": "2024-10-25T03:33:42.266Z"
   },
   {
    "duration": 21,
    "start_time": "2024-10-25T03:34:01.839Z"
   },
   {
    "duration": 11,
    "start_time": "2024-10-25T03:34:17.254Z"
   },
   {
    "duration": 255,
    "start_time": "2024-10-25T03:34:21.857Z"
   },
   {
    "duration": 8,
    "start_time": "2024-10-25T03:34:25.604Z"
   },
   {
    "duration": 32,
    "start_time": "2024-10-25T03:37:41.121Z"
   },
   {
    "duration": 7,
    "start_time": "2024-10-25T03:38:48.138Z"
   },
   {
    "duration": 10,
    "start_time": "2024-10-25T04:39:33.916Z"
   },
   {
    "duration": 14,
    "start_time": "2024-10-25T04:39:43.150Z"
   },
   {
    "duration": 18,
    "start_time": "2024-10-25T04:39:55.434Z"
   },
   {
    "duration": 8,
    "start_time": "2024-10-25T04:40:00.630Z"
   },
   {
    "duration": 8,
    "start_time": "2024-10-25T04:40:04.384Z"
   },
   {
    "duration": 8,
    "start_time": "2024-10-25T06:42:47.477Z"
   },
   {
    "duration": 28,
    "start_time": "2024-10-25T06:48:19.932Z"
   },
   {
    "duration": 12,
    "start_time": "2024-10-25T06:48:31.036Z"
   },
   {
    "duration": 20,
    "start_time": "2024-10-25T06:50:03.181Z"
   },
   {
    "duration": 9,
    "start_time": "2024-10-25T06:51:03.426Z"
   },
   {
    "duration": 25,
    "start_time": "2024-10-25T06:52:47.788Z"
   },
   {
    "duration": 10,
    "start_time": "2024-10-25T06:53:18.381Z"
   },
   {
    "duration": 156,
    "start_time": "2024-10-26T05:24:33.725Z"
   },
   {
    "duration": 2143,
    "start_time": "2024-10-26T05:24:41.311Z"
   },
   {
    "duration": 215,
    "start_time": "2024-10-26T05:24:43.458Z"
   },
   {
    "duration": 26,
    "start_time": "2024-10-26T05:24:43.675Z"
   },
   {
    "duration": 19,
    "start_time": "2024-10-26T05:24:43.703Z"
   },
   {
    "duration": 7,
    "start_time": "2024-10-26T05:24:43.724Z"
   },
   {
    "duration": 15,
    "start_time": "2024-10-26T05:24:43.733Z"
   },
   {
    "duration": 10,
    "start_time": "2024-10-26T05:24:43.751Z"
   },
   {
    "duration": 53,
    "start_time": "2024-10-26T05:24:43.762Z"
   },
   {
    "duration": 11,
    "start_time": "2024-10-26T05:24:43.816Z"
   },
   {
    "duration": 235,
    "start_time": "2024-10-26T05:24:43.828Z"
   },
   {
    "duration": 20,
    "start_time": "2024-10-26T05:25:10.779Z"
   },
   {
    "duration": 5,
    "start_time": "2024-10-26T05:30:52.340Z"
   },
   {
    "duration": 33,
    "start_time": "2024-10-26T05:32:57.914Z"
   },
   {
    "duration": 6,
    "start_time": "2024-10-26T05:33:40.543Z"
   },
   {
    "duration": 7,
    "start_time": "2024-10-26T05:34:44.173Z"
   },
   {
    "duration": 26,
    "start_time": "2024-10-26T05:35:06.519Z"
   },
   {
    "duration": 10,
    "start_time": "2024-10-26T05:35:44.745Z"
   },
   {
    "duration": 12,
    "start_time": "2024-10-26T05:36:25.325Z"
   },
   {
    "duration": 6,
    "start_time": "2024-10-26T05:38:37.310Z"
   },
   {
    "duration": 5,
    "start_time": "2024-10-26T05:40:54.955Z"
   },
   {
    "duration": 6,
    "start_time": "2024-10-26T05:44:53.791Z"
   },
   {
    "duration": 11,
    "start_time": "2024-10-26T05:45:22.974Z"
   },
   {
    "duration": 27,
    "start_time": "2024-10-26T05:51:22.633Z"
   },
   {
    "duration": 38,
    "start_time": "2024-10-26T06:02:16.829Z"
   },
   {
    "duration": 36,
    "start_time": "2024-10-26T06:10:40.303Z"
   },
   {
    "duration": 37,
    "start_time": "2024-10-26T06:11:11.308Z"
   },
   {
    "duration": 27,
    "start_time": "2024-10-26T06:11:48.640Z"
   },
   {
    "duration": 163,
    "start_time": "2024-10-26T06:16:34.001Z"
   },
   {
    "duration": 461,
    "start_time": "2024-10-26T06:16:42.025Z"
   },
   {
    "duration": 196,
    "start_time": "2024-10-26T06:16:42.488Z"
   },
   {
    "duration": 28,
    "start_time": "2024-10-26T06:16:42.686Z"
   },
   {
    "duration": 38,
    "start_time": "2024-10-26T06:16:42.717Z"
   },
   {
    "duration": 48,
    "start_time": "2024-10-26T06:16:42.758Z"
   },
   {
    "duration": 10,
    "start_time": "2024-10-26T06:16:42.807Z"
   },
   {
    "duration": 16,
    "start_time": "2024-10-26T06:16:42.819Z"
   },
   {
    "duration": 8,
    "start_time": "2024-10-26T06:16:42.837Z"
   },
   {
    "duration": 4,
    "start_time": "2024-10-26T06:16:42.847Z"
   },
   {
    "duration": 5,
    "start_time": "2024-10-26T06:16:42.853Z"
   },
   {
    "duration": 5,
    "start_time": "2024-10-26T06:16:42.860Z"
   },
   {
    "duration": 40,
    "start_time": "2024-10-26T06:16:42.867Z"
   },
   {
    "duration": 29,
    "start_time": "2024-10-26T06:16:42.910Z"
   },
   {
    "duration": 9,
    "start_time": "2024-10-26T06:16:42.943Z"
   },
   {
    "duration": 16,
    "start_time": "2024-10-26T06:16:42.953Z"
   },
   {
    "duration": 54,
    "start_time": "2024-10-26T06:16:42.971Z"
   },
   {
    "duration": 6,
    "start_time": "2024-10-26T06:16:43.028Z"
   },
   {
    "duration": 18,
    "start_time": "2024-10-26T06:16:43.036Z"
   },
   {
    "duration": 7,
    "start_time": "2024-10-26T06:16:43.056Z"
   },
   {
    "duration": 10,
    "start_time": "2024-10-26T06:16:43.065Z"
   },
   {
    "duration": 26,
    "start_time": "2024-10-26T06:16:43.105Z"
   },
   {
    "duration": 9,
    "start_time": "2024-10-26T06:16:43.132Z"
   },
   {
    "duration": 12,
    "start_time": "2024-10-26T06:16:43.144Z"
   },
   {
    "duration": 54,
    "start_time": "2024-10-26T06:16:43.158Z"
   },
   {
    "duration": 36,
    "start_time": "2024-10-26T06:16:43.214Z"
   },
   {
    "duration": 38,
    "start_time": "2024-10-26T06:16:43.251Z"
   },
   {
    "duration": 21,
    "start_time": "2024-10-26T06:16:43.305Z"
   },
   {
    "duration": 6,
    "start_time": "2024-10-26T06:19:23.060Z"
   },
   {
    "duration": 11,
    "start_time": "2024-10-26T06:20:41.289Z"
   },
   {
    "duration": 181,
    "start_time": "2024-10-26T06:21:03.400Z"
   },
   {
    "duration": 7,
    "start_time": "2024-10-26T06:21:12.787Z"
   },
   {
    "duration": 18,
    "start_time": "2024-10-26T06:22:58.703Z"
   },
   {
    "duration": 19,
    "start_time": "2024-10-26T06:23:30.995Z"
   },
   {
    "duration": 176,
    "start_time": "2024-10-26T06:23:53.010Z"
   },
   {
    "duration": 385,
    "start_time": "2024-10-26T06:25:28.892Z"
   },
   {
    "duration": 182,
    "start_time": "2024-10-26T06:25:29.279Z"
   },
   {
    "duration": 27,
    "start_time": "2024-10-26T06:25:29.462Z"
   },
   {
    "duration": 49,
    "start_time": "2024-10-26T06:25:29.491Z"
   },
   {
    "duration": 19,
    "start_time": "2024-10-26T06:25:29.542Z"
   },
   {
    "duration": 7,
    "start_time": "2024-10-26T06:25:29.563Z"
   },
   {
    "duration": 47,
    "start_time": "2024-10-26T06:25:29.572Z"
   },
   {
    "duration": 8,
    "start_time": "2024-10-26T06:25:29.621Z"
   },
   {
    "duration": 4,
    "start_time": "2024-10-26T06:25:29.631Z"
   },
   {
    "duration": 5,
    "start_time": "2024-10-26T06:25:29.638Z"
   },
   {
    "duration": 5,
    "start_time": "2024-10-26T06:25:29.644Z"
   },
   {
    "duration": 4,
    "start_time": "2024-10-26T06:25:29.651Z"
   },
   {
    "duration": 66,
    "start_time": "2024-10-26T06:25:29.657Z"
   },
   {
    "duration": 9,
    "start_time": "2024-10-26T06:25:29.724Z"
   },
   {
    "duration": 16,
    "start_time": "2024-10-26T06:25:29.734Z"
   },
   {
    "duration": 26,
    "start_time": "2024-10-26T06:25:29.752Z"
   },
   {
    "duration": 26,
    "start_time": "2024-10-26T06:25:29.780Z"
   },
   {
    "duration": 18,
    "start_time": "2024-10-26T06:25:29.808Z"
   },
   {
    "duration": 8,
    "start_time": "2024-10-26T06:25:29.828Z"
   },
   {
    "duration": 10,
    "start_time": "2024-10-26T06:25:29.838Z"
   },
   {
    "duration": 24,
    "start_time": "2024-10-26T06:25:29.849Z"
   },
   {
    "duration": 9,
    "start_time": "2024-10-26T06:25:29.905Z"
   },
   {
    "duration": 12,
    "start_time": "2024-10-26T06:25:29.915Z"
   },
   {
    "duration": 34,
    "start_time": "2024-10-26T06:25:29.929Z"
   },
   {
    "duration": 57,
    "start_time": "2024-10-26T06:25:29.965Z"
   },
   {
    "duration": 38,
    "start_time": "2024-10-26T06:25:30.023Z"
   },
   {
    "duration": 19,
    "start_time": "2024-10-26T06:25:30.063Z"
   },
   {
    "duration": 24,
    "start_time": "2024-10-26T06:25:30.086Z"
   },
   {
    "duration": 10,
    "start_time": "2024-10-26T06:25:30.112Z"
   },
   {
    "duration": 5,
    "start_time": "2024-10-26T06:25:30.124Z"
   },
   {
    "duration": 691,
    "start_time": "2024-10-26T06:33:05.339Z"
   },
   {
    "duration": 12,
    "start_time": "2024-10-26T06:43:12.128Z"
   },
   {
    "duration": 134,
    "start_time": "2024-10-26T06:50:14.674Z"
   },
   {
    "duration": 71,
    "start_time": "2024-10-26T06:50:45.055Z"
   },
   {
    "duration": 46,
    "start_time": "2024-10-26T06:51:45.960Z"
   },
   {
    "duration": 16,
    "start_time": "2024-10-26T06:56:53.871Z"
   },
   {
    "duration": 46,
    "start_time": "2024-10-26T06:57:37.538Z"
   },
   {
    "duration": 50,
    "start_time": "2024-10-26T06:59:06.475Z"
   },
   {
    "duration": 50,
    "start_time": "2024-10-26T07:06:24.099Z"
   },
   {
    "duration": 36,
    "start_time": "2024-10-26T07:07:13.482Z"
   },
   {
    "duration": 2463,
    "start_time": "2024-10-29T02:53:08.583Z"
   },
   {
    "duration": 224,
    "start_time": "2024-10-29T02:53:11.048Z"
   },
   {
    "duration": 28,
    "start_time": "2024-10-29T02:53:11.274Z"
   },
   {
    "duration": 37,
    "start_time": "2024-10-29T02:53:11.305Z"
   },
   {
    "duration": 20,
    "start_time": "2024-10-29T02:53:11.343Z"
   },
   {
    "duration": 7,
    "start_time": "2024-10-29T02:53:11.364Z"
   },
   {
    "duration": 48,
    "start_time": "2024-10-29T02:53:11.373Z"
   },
   {
    "duration": 8,
    "start_time": "2024-10-29T02:53:11.422Z"
   },
   {
    "duration": 4,
    "start_time": "2024-10-29T02:53:11.432Z"
   },
   {
    "duration": 5,
    "start_time": "2024-10-29T02:53:11.440Z"
   },
   {
    "duration": 9,
    "start_time": "2024-10-29T02:53:11.447Z"
   },
   {
    "duration": 5,
    "start_time": "2024-10-29T02:53:11.457Z"
   },
   {
    "duration": 61,
    "start_time": "2024-10-29T02:53:11.464Z"
   },
   {
    "duration": 9,
    "start_time": "2024-10-29T02:53:11.527Z"
   },
   {
    "duration": 17,
    "start_time": "2024-10-29T02:53:11.537Z"
   },
   {
    "duration": 25,
    "start_time": "2024-10-29T02:53:11.555Z"
   },
   {
    "duration": 31,
    "start_time": "2024-10-29T02:53:11.582Z"
   },
   {
    "duration": 18,
    "start_time": "2024-10-29T02:53:11.615Z"
   },
   {
    "duration": 8,
    "start_time": "2024-10-29T02:53:11.634Z"
   },
   {
    "duration": 10,
    "start_time": "2024-10-29T02:53:11.643Z"
   },
   {
    "duration": 25,
    "start_time": "2024-10-29T02:53:11.654Z"
   },
   {
    "duration": 40,
    "start_time": "2024-10-29T02:53:11.680Z"
   },
   {
    "duration": 12,
    "start_time": "2024-10-29T02:53:11.721Z"
   },
   {
    "duration": 34,
    "start_time": "2024-10-29T02:53:11.735Z"
   },
   {
    "duration": 56,
    "start_time": "2024-10-29T02:53:11.770Z"
   },
   {
    "duration": 46,
    "start_time": "2024-10-29T02:53:11.828Z"
   },
   {
    "duration": 36,
    "start_time": "2024-10-29T02:53:11.876Z"
   },
   {
    "duration": 8,
    "start_time": "2024-10-29T02:53:11.916Z"
   },
   {
    "duration": 10,
    "start_time": "2024-10-29T02:53:11.926Z"
   },
   {
    "duration": 15,
    "start_time": "2024-10-29T02:53:11.938Z"
   },
   {
    "duration": 58,
    "start_time": "2024-10-29T02:53:11.954Z"
   },
   {
    "duration": 221,
    "start_time": "2024-10-29T02:57:15.023Z"
   },
   {
    "duration": 254,
    "start_time": "2024-10-29T02:58:04.813Z"
   },
   {
    "duration": 820,
    "start_time": "2024-10-29T02:59:26.765Z"
   },
   {
    "duration": 162,
    "start_time": "2024-10-29T02:59:27.588Z"
   },
   {
    "duration": 27,
    "start_time": "2024-10-29T02:59:27.752Z"
   },
   {
    "duration": 72,
    "start_time": "2024-10-29T02:59:27.782Z"
   },
   {
    "duration": 19,
    "start_time": "2024-10-29T02:59:27.856Z"
   },
   {
    "duration": 7,
    "start_time": "2024-10-29T02:59:27.878Z"
   },
   {
    "duration": 33,
    "start_time": "2024-10-29T02:59:27.886Z"
   },
   {
    "duration": 11,
    "start_time": "2024-10-29T02:59:27.932Z"
   },
   {
    "duration": 4,
    "start_time": "2024-10-29T02:59:27.945Z"
   },
   {
    "duration": 5,
    "start_time": "2024-10-29T02:59:27.952Z"
   },
   {
    "duration": 5,
    "start_time": "2024-10-29T02:59:27.959Z"
   },
   {
    "duration": 4,
    "start_time": "2024-10-29T02:59:27.966Z"
   },
   {
    "duration": 56,
    "start_time": "2024-10-29T02:59:27.971Z"
   },
   {
    "duration": 14,
    "start_time": "2024-10-29T02:59:28.036Z"
   },
   {
    "duration": 17,
    "start_time": "2024-10-29T02:59:28.052Z"
   },
   {
    "duration": 26,
    "start_time": "2024-10-29T02:59:28.071Z"
   },
   {
    "duration": 7,
    "start_time": "2024-10-29T02:59:28.098Z"
   },
   {
    "duration": 41,
    "start_time": "2024-10-29T02:59:28.106Z"
   },
   {
    "duration": 7,
    "start_time": "2024-10-29T02:59:28.149Z"
   },
   {
    "duration": 9,
    "start_time": "2024-10-29T02:59:28.158Z"
   },
   {
    "duration": 24,
    "start_time": "2024-10-29T02:59:28.168Z"
   },
   {
    "duration": 8,
    "start_time": "2024-10-29T02:59:28.194Z"
   },
   {
    "duration": 21,
    "start_time": "2024-10-29T02:59:28.224Z"
   },
   {
    "duration": 35,
    "start_time": "2024-10-29T02:59:28.246Z"
   },
   {
    "duration": 57,
    "start_time": "2024-10-29T02:59:28.282Z"
   },
   {
    "duration": 50,
    "start_time": "2024-10-29T02:59:28.344Z"
   },
   {
    "duration": 73,
    "start_time": "2024-10-29T02:59:28.395Z"
   },
   {
    "duration": 7,
    "start_time": "2024-10-29T02:59:28.471Z"
   },
   {
    "duration": 9,
    "start_time": "2024-10-29T02:59:28.480Z"
   },
   {
    "duration": 49,
    "start_time": "2024-10-29T02:59:28.491Z"
   },
   {
    "duration": 36,
    "start_time": "2024-10-29T02:59:28.543Z"
   },
   {
    "duration": 276,
    "start_time": "2024-10-29T02:59:31.576Z"
   },
   {
    "duration": 240,
    "start_time": "2024-10-29T02:59:35.699Z"
   },
   {
    "duration": 10,
    "start_time": "2024-10-29T03:02:09.256Z"
   },
   {
    "duration": 238,
    "start_time": "2024-10-29T03:02:09.435Z"
   },
   {
    "duration": 249,
    "start_time": "2024-10-29T03:03:00.420Z"
   },
   {
    "duration": 10,
    "start_time": "2024-10-29T03:04:37.149Z"
   },
   {
    "duration": 8,
    "start_time": "2024-10-29T03:04:53.635Z"
   },
   {
    "duration": 137,
    "start_time": "2024-10-29T03:06:19.960Z"
   },
   {
    "duration": 573,
    "start_time": "2024-10-29T04:07:32.294Z"
   },
   {
    "duration": 349,
    "start_time": "2024-10-29T04:08:30.854Z"
   },
   {
    "duration": 345,
    "start_time": "2024-10-29T04:10:04.068Z"
   },
   {
    "duration": 516,
    "start_time": "2024-10-29T04:18:46.630Z"
   },
   {
    "duration": 359,
    "start_time": "2024-10-29T04:19:10.028Z"
   },
   {
    "duration": 160,
    "start_time": "2024-10-30T00:23:48.792Z"
   },
   {
    "duration": 2693,
    "start_time": "2024-10-30T00:23:55.755Z"
   },
   {
    "duration": 223,
    "start_time": "2024-10-30T00:23:58.451Z"
   },
   {
    "duration": 26,
    "start_time": "2024-10-30T00:23:58.676Z"
   },
   {
    "duration": 37,
    "start_time": "2024-10-30T00:23:58.704Z"
   },
   {
    "duration": 20,
    "start_time": "2024-10-30T00:23:58.743Z"
   },
   {
    "duration": 8,
    "start_time": "2024-10-30T00:23:58.765Z"
   },
   {
    "duration": 44,
    "start_time": "2024-10-30T00:23:58.774Z"
   },
   {
    "duration": 9,
    "start_time": "2024-10-30T00:23:58.819Z"
   },
   {
    "duration": 4,
    "start_time": "2024-10-30T00:23:58.830Z"
   },
   {
    "duration": 6,
    "start_time": "2024-10-30T00:23:58.837Z"
   },
   {
    "duration": 4,
    "start_time": "2024-10-30T00:23:58.845Z"
   },
   {
    "duration": 5,
    "start_time": "2024-10-30T00:23:58.851Z"
   },
   {
    "duration": 62,
    "start_time": "2024-10-30T00:23:58.857Z"
   },
   {
    "duration": 9,
    "start_time": "2024-10-30T00:23:58.921Z"
   },
   {
    "duration": 17,
    "start_time": "2024-10-30T00:23:58.932Z"
   },
   {
    "duration": 28,
    "start_time": "2024-10-30T00:23:58.951Z"
   },
   {
    "duration": 34,
    "start_time": "2024-10-30T00:23:58.981Z"
   },
   {
    "duration": 19,
    "start_time": "2024-10-30T00:23:59.017Z"
   },
   {
    "duration": 8,
    "start_time": "2024-10-30T00:23:59.037Z"
   },
   {
    "duration": 11,
    "start_time": "2024-10-30T00:23:59.047Z"
   },
   {
    "duration": 55,
    "start_time": "2024-10-30T00:23:59.059Z"
   },
   {
    "duration": 8,
    "start_time": "2024-10-30T00:23:59.116Z"
   },
   {
    "duration": 12,
    "start_time": "2024-10-30T00:23:59.126Z"
   },
   {
    "duration": 38,
    "start_time": "2024-10-30T00:23:59.141Z"
   },
   {
    "duration": 54,
    "start_time": "2024-10-30T00:23:59.181Z"
   },
   {
    "duration": 38,
    "start_time": "2024-10-30T00:23:59.237Z"
   },
   {
    "duration": 38,
    "start_time": "2024-10-30T00:23:59.276Z"
   },
   {
    "duration": 7,
    "start_time": "2024-10-30T00:23:59.317Z"
   },
   {
    "duration": 11,
    "start_time": "2024-10-30T00:23:59.325Z"
   },
   {
    "duration": 15,
    "start_time": "2024-10-30T00:23:59.337Z"
   },
   {
    "duration": 61,
    "start_time": "2024-10-30T00:23:59.354Z"
   },
   {
    "duration": 225,
    "start_time": "2024-10-30T00:23:59.416Z"
   },
   {
    "duration": 248,
    "start_time": "2024-10-30T00:23:59.643Z"
   },
   {
    "duration": 17,
    "start_time": "2024-10-30T00:23:59.893Z"
   },
   {
    "duration": 199,
    "start_time": "2024-10-30T00:23:59.911Z"
   },
   {
    "duration": 382,
    "start_time": "2024-10-30T00:24:00.112Z"
   },
   {
    "duration": 384,
    "start_time": "2024-10-30T00:24:00.496Z"
   },
   {
    "duration": 131,
    "start_time": "2024-10-30T00:24:00.883Z"
   },
   {
    "duration": 128,
    "start_time": "2024-10-30T00:24:25.357Z"
   },
   {
    "duration": 182,
    "start_time": "2024-10-30T00:25:28.295Z"
   },
   {
    "duration": 178,
    "start_time": "2024-10-30T00:25:43.559Z"
   },
   {
    "duration": 37,
    "start_time": "2024-10-30T00:26:14.143Z"
   },
   {
    "duration": 53,
    "start_time": "2024-10-30T00:26:27.180Z"
   },
   {
    "duration": 422,
    "start_time": "2024-10-30T00:28:11.197Z"
   },
   {
    "duration": 41,
    "start_time": "2024-10-30T00:29:24.339Z"
   },
   {
    "duration": 38,
    "start_time": "2024-10-30T00:29:38.221Z"
   },
   {
    "duration": 41,
    "start_time": "2024-10-30T00:29:59.905Z"
   },
   {
    "duration": 42,
    "start_time": "2024-10-30T00:31:47.319Z"
   },
   {
    "duration": 41,
    "start_time": "2024-10-30T00:31:58.293Z"
   },
   {
    "duration": 40,
    "start_time": "2024-10-30T00:32:04.110Z"
   },
   {
    "duration": 40,
    "start_time": "2024-10-30T00:32:08.825Z"
   },
   {
    "duration": 159,
    "start_time": "2024-10-30T04:15:48.238Z"
   },
   {
    "duration": 2478,
    "start_time": "2024-10-30T04:15:56.282Z"
   },
   {
    "duration": 205,
    "start_time": "2024-10-30T04:15:58.762Z"
   },
   {
    "duration": 27,
    "start_time": "2024-10-30T04:15:58.968Z"
   },
   {
    "duration": 38,
    "start_time": "2024-10-30T04:15:58.997Z"
   },
   {
    "duration": 33,
    "start_time": "2024-10-30T04:16:02.674Z"
   },
   {
    "duration": 2,
    "start_time": "2024-10-30T04:21:40.182Z"
   },
   {
    "duration": 163,
    "start_time": "2024-10-30T04:21:40.188Z"
   },
   {
    "duration": 24,
    "start_time": "2024-10-30T04:21:40.353Z"
   },
   {
    "duration": 54,
    "start_time": "2024-10-30T04:21:40.379Z"
   },
   {
    "duration": 31,
    "start_time": "2024-10-30T04:21:40.435Z"
   },
   {
    "duration": 43,
    "start_time": "2024-10-30T04:21:40.469Z"
   },
   {
    "duration": 8,
    "start_time": "2024-10-30T04:21:40.514Z"
   },
   {
    "duration": 16,
    "start_time": "2024-10-30T04:21:40.523Z"
   },
   {
    "duration": 9,
    "start_time": "2024-10-30T04:21:40.540Z"
   },
   {
    "duration": 5,
    "start_time": "2024-10-30T04:21:40.551Z"
   },
   {
    "duration": 6,
    "start_time": "2024-10-30T04:21:40.557Z"
   },
   {
    "duration": 5,
    "start_time": "2024-10-30T04:21:40.565Z"
   },
   {
    "duration": 5,
    "start_time": "2024-10-30T04:21:40.611Z"
   },
   {
    "duration": 28,
    "start_time": "2024-10-30T04:21:40.619Z"
   },
   {
    "duration": 9,
    "start_time": "2024-10-30T04:21:40.651Z"
   },
   {
    "duration": 16,
    "start_time": "2024-10-30T04:21:40.662Z"
   },
   {
    "duration": 56,
    "start_time": "2024-10-30T04:21:40.680Z"
   },
   {
    "duration": 6,
    "start_time": "2024-10-30T04:21:40.738Z"
   },
   {
    "duration": 18,
    "start_time": "2024-10-30T04:21:40.745Z"
   },
   {
    "duration": 7,
    "start_time": "2024-10-30T04:21:40.764Z"
   },
   {
    "duration": 39,
    "start_time": "2024-10-30T04:21:40.772Z"
   },
   {
    "duration": 25,
    "start_time": "2024-10-30T04:21:40.813Z"
   },
   {
    "duration": 9,
    "start_time": "2024-10-30T04:21:40.840Z"
   },
   {
    "duration": 12,
    "start_time": "2024-10-30T04:21:40.850Z"
   },
   {
    "duration": 64,
    "start_time": "2024-10-30T04:21:40.864Z"
   },
   {
    "duration": 38,
    "start_time": "2024-10-30T04:21:40.930Z"
   },
   {
    "duration": 43,
    "start_time": "2024-10-30T04:21:40.969Z"
   },
   {
    "duration": 21,
    "start_time": "2024-10-30T04:21:41.015Z"
   },
   {
    "duration": 7,
    "start_time": "2024-10-30T04:21:41.037Z"
   },
   {
    "duration": 10,
    "start_time": "2024-10-30T04:21:41.046Z"
   },
   {
    "duration": 19,
    "start_time": "2024-10-30T04:21:41.057Z"
   },
   {
    "duration": 11,
    "start_time": "2024-10-30T04:25:42.894Z"
   },
   {
    "duration": 30,
    "start_time": "2024-10-30T04:27:11.626Z"
   },
   {
    "duration": 792,
    "start_time": "2024-10-30T04:27:27.509Z"
   },
   {
    "duration": 148,
    "start_time": "2024-10-30T04:27:28.305Z"
   },
   {
    "duration": 26,
    "start_time": "2024-10-30T04:27:28.455Z"
   },
   {
    "duration": 63,
    "start_time": "2024-10-30T04:27:28.483Z"
   },
   {
    "duration": 35,
    "start_time": "2024-10-30T04:27:28.550Z"
   },
   {
    "duration": 43,
    "start_time": "2024-10-30T04:27:28.587Z"
   },
   {
    "duration": 7,
    "start_time": "2024-10-30T04:27:28.631Z"
   },
   {
    "duration": 15,
    "start_time": "2024-10-30T04:27:28.640Z"
   },
   {
    "duration": 8,
    "start_time": "2024-10-30T04:27:28.657Z"
   },
   {
    "duration": 4,
    "start_time": "2024-10-30T04:27:28.669Z"
   },
   {
    "duration": 37,
    "start_time": "2024-10-30T04:27:28.675Z"
   },
   {
    "duration": 5,
    "start_time": "2024-10-30T04:27:28.714Z"
   },
   {
    "duration": 5,
    "start_time": "2024-10-30T04:27:28.721Z"
   },
   {
    "duration": 29,
    "start_time": "2024-10-30T04:27:28.728Z"
   },
   {
    "duration": 8,
    "start_time": "2024-10-30T04:27:28.759Z"
   },
   {
    "duration": 48,
    "start_time": "2024-10-30T04:27:28.769Z"
   },
   {
    "duration": 29,
    "start_time": "2024-10-30T04:27:28.818Z"
   },
   {
    "duration": 6,
    "start_time": "2024-10-30T04:27:28.848Z"
   },
   {
    "duration": 18,
    "start_time": "2024-10-30T04:27:28.855Z"
   },
   {
    "duration": 37,
    "start_time": "2024-10-30T04:27:28.874Z"
   },
   {
    "duration": 11,
    "start_time": "2024-10-30T04:27:28.913Z"
   },
   {
    "duration": 24,
    "start_time": "2024-10-30T04:27:28.926Z"
   },
   {
    "duration": 10,
    "start_time": "2024-10-30T04:27:28.951Z"
   },
   {
    "duration": 13,
    "start_time": "2024-10-30T04:27:28.962Z"
   },
   {
    "duration": 61,
    "start_time": "2024-10-30T04:27:28.977Z"
   },
   {
    "duration": 37,
    "start_time": "2024-10-30T04:27:29.039Z"
   },
   {
    "duration": 51,
    "start_time": "2024-10-30T04:27:29.077Z"
   },
   {
    "duration": 62,
    "start_time": "2024-10-30T04:27:29.132Z"
   },
   {
    "duration": 22,
    "start_time": "2024-10-30T04:27:29.196Z"
   },
   {
    "duration": 15,
    "start_time": "2024-10-30T04:27:29.221Z"
   },
   {
    "duration": 17,
    "start_time": "2024-10-30T04:27:29.238Z"
   },
   {
    "duration": 59,
    "start_time": "2024-10-30T04:27:29.257Z"
   },
   {
    "duration": 229,
    "start_time": "2024-10-30T04:27:29.319Z"
   },
   {
    "duration": 230,
    "start_time": "2024-10-30T04:27:29.550Z"
   },
   {
    "duration": 9,
    "start_time": "2024-10-30T04:27:29.782Z"
   },
   {
    "duration": 155,
    "start_time": "2024-10-30T04:27:29.793Z"
   },
   {
    "duration": 420,
    "start_time": "2024-10-30T04:27:29.949Z"
   },
   {
    "duration": 381,
    "start_time": "2024-10-30T04:27:30.371Z"
   },
   {
    "duration": 187,
    "start_time": "2024-10-30T04:27:30.756Z"
   },
   {
    "duration": 2,
    "start_time": "2024-10-30T04:27:30.945Z"
   },
   {
    "duration": 3,
    "start_time": "2024-10-30T04:27:30.949Z"
   },
   {
    "duration": 218,
    "start_time": "2024-10-30T04:30:07.028Z"
   },
   {
    "duration": 928,
    "start_time": "2024-10-30T04:30:35.523Z"
   },
   {
    "duration": 160,
    "start_time": "2024-10-30T04:30:36.453Z"
   },
   {
    "duration": 27,
    "start_time": "2024-10-30T04:30:36.615Z"
   },
   {
    "duration": 69,
    "start_time": "2024-10-30T04:30:36.644Z"
   },
   {
    "duration": 34,
    "start_time": "2024-10-30T04:30:36.715Z"
   },
   {
    "duration": 19,
    "start_time": "2024-10-30T04:30:36.751Z"
   },
   {
    "duration": 7,
    "start_time": "2024-10-30T04:30:36.772Z"
   },
   {
    "duration": 43,
    "start_time": "2024-10-30T04:30:36.781Z"
   },
   {
    "duration": 8,
    "start_time": "2024-10-30T04:30:36.826Z"
   },
   {
    "duration": 4,
    "start_time": "2024-10-30T04:30:36.838Z"
   },
   {
    "duration": 6,
    "start_time": "2024-10-30T04:30:36.844Z"
   },
   {
    "duration": 5,
    "start_time": "2024-10-30T04:30:36.852Z"
   },
   {
    "duration": 4,
    "start_time": "2024-10-30T04:30:36.859Z"
   },
   {
    "duration": 68,
    "start_time": "2024-10-30T04:30:36.865Z"
   },
   {
    "duration": 9,
    "start_time": "2024-10-30T04:30:36.935Z"
   },
   {
    "duration": 16,
    "start_time": "2024-10-30T04:30:36.946Z"
   },
   {
    "duration": 48,
    "start_time": "2024-10-30T04:30:36.964Z"
   },
   {
    "duration": 7,
    "start_time": "2024-10-30T04:30:37.014Z"
   },
   {
    "duration": 19,
    "start_time": "2024-10-30T04:30:37.023Z"
   },
   {
    "duration": 7,
    "start_time": "2024-10-30T04:30:37.043Z"
   },
   {
    "duration": 10,
    "start_time": "2024-10-30T04:30:37.052Z"
   },
   {
    "duration": 58,
    "start_time": "2024-10-30T04:30:37.064Z"
   },
   {
    "duration": 8,
    "start_time": "2024-10-30T04:30:37.124Z"
   },
   {
    "duration": 12,
    "start_time": "2024-10-30T04:30:37.134Z"
   },
   {
    "duration": 38,
    "start_time": "2024-10-30T04:30:37.148Z"
   },
   {
    "duration": 62,
    "start_time": "2024-10-30T04:30:37.189Z"
   },
   {
    "duration": 40,
    "start_time": "2024-10-30T04:30:37.252Z"
   },
   {
    "duration": 68,
    "start_time": "2024-10-30T04:30:37.312Z"
   },
   {
    "duration": 7,
    "start_time": "2024-10-30T04:30:37.382Z"
   },
   {
    "duration": 30,
    "start_time": "2024-10-30T04:30:37.391Z"
   },
   {
    "duration": 20,
    "start_time": "2024-10-30T04:30:37.423Z"
   },
   {
    "duration": 43,
    "start_time": "2024-10-30T04:30:37.445Z"
   },
   {
    "duration": 247,
    "start_time": "2024-10-30T04:30:37.490Z"
   },
   {
    "duration": 224,
    "start_time": "2024-10-30T04:30:37.740Z"
   },
   {
    "duration": 8,
    "start_time": "2024-10-30T04:30:37.966Z"
   },
   {
    "duration": 152,
    "start_time": "2024-10-30T04:30:37.976Z"
   },
   {
    "duration": 377,
    "start_time": "2024-10-30T04:30:38.130Z"
   },
   {
    "duration": 382,
    "start_time": "2024-10-30T04:30:38.509Z"
   },
   {
    "duration": 201,
    "start_time": "2024-10-30T04:30:38.893Z"
   },
   {
    "duration": 16,
    "start_time": "2024-10-30T04:30:39.096Z"
   },
   {
    "duration": 2,
    "start_time": "2024-10-30T04:30:39.114Z"
   },
   {
    "duration": 17,
    "start_time": "2024-10-30T04:52:02.916Z"
   },
   {
    "duration": 8,
    "start_time": "2024-10-30T04:56:00.813Z"
   },
   {
    "duration": 7,
    "start_time": "2024-10-30T05:09:54.237Z"
   },
   {
    "duration": 4,
    "start_time": "2024-10-30T05:10:25.017Z"
   },
   {
    "duration": 173,
    "start_time": "2024-10-31T05:05:57.624Z"
   },
   {
    "duration": 2497,
    "start_time": "2024-10-31T05:06:14.360Z"
   },
   {
    "duration": 210,
    "start_time": "2024-10-31T05:06:16.859Z"
   },
   {
    "duration": 26,
    "start_time": "2024-10-31T05:06:17.071Z"
   },
   {
    "duration": 44,
    "start_time": "2024-10-31T05:06:17.100Z"
   },
   {
    "duration": 32,
    "start_time": "2024-10-31T05:06:17.146Z"
   },
   {
    "duration": 45,
    "start_time": "2024-10-31T05:06:17.179Z"
   },
   {
    "duration": 8,
    "start_time": "2024-10-31T05:06:17.226Z"
   },
   {
    "duration": 15,
    "start_time": "2024-10-31T05:06:17.235Z"
   },
   {
    "duration": 9,
    "start_time": "2024-10-31T05:06:17.252Z"
   },
   {
    "duration": 4,
    "start_time": "2024-10-31T05:06:17.264Z"
   },
   {
    "duration": 6,
    "start_time": "2024-10-31T05:06:17.269Z"
   },
   {
    "duration": 5,
    "start_time": "2024-10-31T05:06:17.276Z"
   },
   {
    "duration": 45,
    "start_time": "2024-10-31T05:06:17.283Z"
   },
   {
    "duration": 32,
    "start_time": "2024-10-31T05:06:17.329Z"
   },
   {
    "duration": 10,
    "start_time": "2024-10-31T05:06:17.363Z"
   },
   {
    "duration": 17,
    "start_time": "2024-10-31T05:06:17.375Z"
   },
   {
    "duration": 50,
    "start_time": "2024-10-31T05:06:17.393Z"
   },
   {
    "duration": 6,
    "start_time": "2024-10-31T05:06:17.445Z"
   },
   {
    "duration": 17,
    "start_time": "2024-10-31T05:06:17.453Z"
   },
   {
    "duration": 7,
    "start_time": "2024-10-31T05:06:17.471Z"
   },
   {
    "duration": 9,
    "start_time": "2024-10-31T05:06:17.480Z"
   },
   {
    "duration": 58,
    "start_time": "2024-10-31T05:06:17.491Z"
   },
   {
    "duration": 8,
    "start_time": "2024-10-31T05:06:17.551Z"
   },
   {
    "duration": 8,
    "start_time": "2024-10-31T05:07:37.236Z"
   },
   {
    "duration": 7,
    "start_time": "2024-10-31T05:10:05.587Z"
   },
   {
    "duration": 5,
    "start_time": "2024-10-31T05:10:19.168Z"
   },
   {
    "duration": 7,
    "start_time": "2024-10-31T05:10:58.650Z"
   },
   {
    "duration": 26,
    "start_time": "2024-10-31T05:11:53.664Z"
   },
   {
    "duration": 8,
    "start_time": "2024-10-31T07:34:52.987Z"
   },
   {
    "duration": 214,
    "start_time": "2024-10-31T08:31:19.324Z"
   },
   {
    "duration": 806,
    "start_time": "2024-10-31T08:31:27.409Z"
   },
   {
    "duration": 153,
    "start_time": "2024-10-31T08:31:28.217Z"
   },
   {
    "duration": 26,
    "start_time": "2024-10-31T08:31:28.372Z"
   },
   {
    "duration": 52,
    "start_time": "2024-10-31T08:31:28.401Z"
   },
   {
    "duration": 33,
    "start_time": "2024-10-31T08:31:28.455Z"
   },
   {
    "duration": 49,
    "start_time": "2024-10-31T08:31:28.490Z"
   },
   {
    "duration": 7,
    "start_time": "2024-10-31T08:31:28.540Z"
   },
   {
    "duration": 5,
    "start_time": "2024-10-31T08:31:28.549Z"
   },
   {
    "duration": 16,
    "start_time": "2024-10-31T08:31:28.556Z"
   },
   {
    "duration": 8,
    "start_time": "2024-10-31T08:31:28.575Z"
   },
   {
    "duration": 41,
    "start_time": "2024-10-31T08:31:28.584Z"
   },
   {
    "duration": 5,
    "start_time": "2024-10-31T08:31:28.626Z"
   },
   {
    "duration": 5,
    "start_time": "2024-10-31T08:31:28.633Z"
   },
   {
    "duration": 5,
    "start_time": "2024-10-31T08:31:28.640Z"
   },
   {
    "duration": 4,
    "start_time": "2024-10-31T08:31:28.647Z"
   },
   {
    "duration": 28,
    "start_time": "2024-10-31T08:31:28.652Z"
   },
   {
    "duration": 44,
    "start_time": "2024-10-31T08:31:28.681Z"
   },
   {
    "duration": 32,
    "start_time": "2024-10-31T08:31:28.727Z"
   },
   {
    "duration": 16,
    "start_time": "2024-10-31T08:31:28.761Z"
   },
   {
    "duration": 46,
    "start_time": "2024-10-31T08:31:28.779Z"
   },
   {
    "duration": 7,
    "start_time": "2024-10-31T08:31:28.827Z"
   },
   {
    "duration": 18,
    "start_time": "2024-10-31T08:31:28.836Z"
   },
   {
    "duration": 8,
    "start_time": "2024-10-31T08:31:28.855Z"
   },
   {
    "duration": 10,
    "start_time": "2024-10-31T08:31:28.864Z"
   },
   {
    "duration": 54,
    "start_time": "2024-10-31T08:31:28.875Z"
   },
   {
    "duration": 8,
    "start_time": "2024-10-31T08:31:28.931Z"
   },
   {
    "duration": 12,
    "start_time": "2024-10-31T08:31:28.941Z"
   },
   {
    "duration": 27,
    "start_time": "2024-10-31T08:31:28.957Z"
   },
   {
    "duration": 53,
    "start_time": "2024-10-31T08:31:28.986Z"
   },
   {
    "duration": 39,
    "start_time": "2024-10-31T08:31:29.041Z"
   },
   {
    "duration": 20,
    "start_time": "2024-10-31T08:31:29.082Z"
   },
   {
    "duration": 24,
    "start_time": "2024-10-31T08:31:29.104Z"
   },
   {
    "duration": 10,
    "start_time": "2024-10-31T08:31:29.129Z"
   },
   {
    "duration": 15,
    "start_time": "2024-10-31T08:31:29.141Z"
   },
   {
    "duration": 40,
    "start_time": "2024-10-31T08:31:29.158Z"
   },
   {
    "duration": 294,
    "start_time": "2024-10-31T08:31:29.199Z"
   },
   {
    "duration": 218,
    "start_time": "2024-10-31T08:31:29.496Z"
   },
   {
    "duration": 13,
    "start_time": "2024-10-31T08:31:29.715Z"
   },
   {
    "duration": 143,
    "start_time": "2024-10-31T08:31:29.729Z"
   },
   {
    "duration": 359,
    "start_time": "2024-10-31T08:31:29.874Z"
   },
   {
    "duration": 372,
    "start_time": "2024-10-31T08:31:30.234Z"
   },
   {
    "duration": 130,
    "start_time": "2024-10-31T08:31:30.608Z"
   },
   {
    "duration": 792,
    "start_time": "2024-10-31T09:17:06.116Z"
   },
   {
    "duration": 163,
    "start_time": "2024-10-31T09:17:06.911Z"
   },
   {
    "duration": 26,
    "start_time": "2024-10-31T09:17:07.076Z"
   },
   {
    "duration": 46,
    "start_time": "2024-10-31T09:17:07.104Z"
   },
   {
    "duration": 33,
    "start_time": "2024-10-31T09:17:07.153Z"
   },
   {
    "duration": 49,
    "start_time": "2024-10-31T09:17:07.188Z"
   },
   {
    "duration": 7,
    "start_time": "2024-10-31T09:17:07.238Z"
   },
   {
    "duration": 6,
    "start_time": "2024-10-31T09:17:07.247Z"
   },
   {
    "duration": 16,
    "start_time": "2024-10-31T09:17:07.254Z"
   },
   {
    "duration": 8,
    "start_time": "2024-10-31T09:17:07.271Z"
   },
   {
    "duration": 6,
    "start_time": "2024-10-31T09:17:07.281Z"
   },
   {
    "duration": 35,
    "start_time": "2024-10-31T09:17:07.290Z"
   },
   {
    "duration": 5,
    "start_time": "2024-10-31T09:17:07.327Z"
   },
   {
    "duration": 4,
    "start_time": "2024-10-31T09:17:07.336Z"
   },
   {
    "duration": 5,
    "start_time": "2024-10-31T09:17:07.342Z"
   },
   {
    "duration": 29,
    "start_time": "2024-10-31T09:17:07.349Z"
   },
   {
    "duration": 8,
    "start_time": "2024-10-31T09:17:07.380Z"
   },
   {
    "duration": 61,
    "start_time": "2024-10-31T09:17:07.390Z"
   },
   {
    "duration": 17,
    "start_time": "2024-10-31T09:17:07.453Z"
   },
   {
    "duration": 27,
    "start_time": "2024-10-31T09:17:07.471Z"
   },
   {
    "duration": 33,
    "start_time": "2024-10-31T09:17:07.499Z"
   },
   {
    "duration": 20,
    "start_time": "2024-10-31T09:17:07.534Z"
   },
   {
    "duration": 7,
    "start_time": "2024-10-31T09:17:07.556Z"
   },
   {
    "duration": 10,
    "start_time": "2024-10-31T09:17:07.565Z"
   },
   {
    "duration": 49,
    "start_time": "2024-10-31T09:17:07.576Z"
   },
   {
    "duration": 11,
    "start_time": "2024-10-31T09:17:07.627Z"
   },
   {
    "duration": 14,
    "start_time": "2024-10-31T09:17:07.639Z"
   },
   {
    "duration": 28,
    "start_time": "2024-10-31T09:17:07.654Z"
   },
   {
    "duration": 57,
    "start_time": "2024-10-31T09:17:07.684Z"
   },
   {
    "duration": 39,
    "start_time": "2024-10-31T09:17:07.742Z"
   },
   {
    "duration": 21,
    "start_time": "2024-10-31T09:17:07.783Z"
   },
   {
    "duration": 23,
    "start_time": "2024-10-31T09:17:07.805Z"
   },
   {
    "duration": 11,
    "start_time": "2024-10-31T09:17:07.832Z"
   },
   {
    "duration": 16,
    "start_time": "2024-10-31T09:17:07.845Z"
   },
   {
    "duration": 61,
    "start_time": "2024-10-31T09:17:07.863Z"
   },
   {
    "duration": 281,
    "start_time": "2024-10-31T09:17:07.926Z"
   },
   {
    "duration": 219,
    "start_time": "2024-10-31T09:17:08.209Z"
   },
   {
    "duration": 9,
    "start_time": "2024-10-31T09:17:08.429Z"
   },
   {
    "duration": 139,
    "start_time": "2024-10-31T09:17:08.439Z"
   },
   {
    "duration": 359,
    "start_time": "2024-10-31T09:17:08.580Z"
   },
   {
    "duration": 375,
    "start_time": "2024-10-31T09:17:08.943Z"
   },
   {
    "duration": 128,
    "start_time": "2024-10-31T09:17:09.320Z"
   },
   {
    "duration": 8,
    "start_time": "2024-10-31T09:17:09.450Z"
   },
   {
    "duration": 6,
    "start_time": "2024-10-31T09:17:09.460Z"
   },
   {
    "duration": 820,
    "start_time": "2024-10-31T12:37:36.760Z"
   },
   {
    "duration": 206,
    "start_time": "2024-10-31T12:37:37.582Z"
   },
   {
    "duration": 27,
    "start_time": "2024-10-31T12:37:37.789Z"
   },
   {
    "duration": 39,
    "start_time": "2024-10-31T12:37:37.818Z"
   },
   {
    "duration": 33,
    "start_time": "2024-10-31T12:37:37.887Z"
   },
   {
    "duration": 20,
    "start_time": "2024-10-31T12:37:37.922Z"
   },
   {
    "duration": 8,
    "start_time": "2024-10-31T12:37:37.943Z"
   },
   {
    "duration": 36,
    "start_time": "2024-10-31T12:37:37.953Z"
   },
   {
    "duration": 16,
    "start_time": "2024-10-31T12:37:37.992Z"
   },
   {
    "duration": 8,
    "start_time": "2024-10-31T12:37:38.012Z"
   },
   {
    "duration": 7,
    "start_time": "2024-10-31T12:37:38.021Z"
   },
   {
    "duration": 5,
    "start_time": "2024-10-31T12:37:38.029Z"
   },
   {
    "duration": 5,
    "start_time": "2024-10-31T12:37:38.036Z"
   },
   {
    "duration": 5,
    "start_time": "2024-10-31T12:37:38.044Z"
   },
   {
    "duration": 5,
    "start_time": "2024-10-31T12:37:38.087Z"
   },
   {
    "duration": 31,
    "start_time": "2024-10-31T12:37:38.094Z"
   },
   {
    "duration": 12,
    "start_time": "2024-10-31T12:37:38.127Z"
   },
   {
    "duration": 62,
    "start_time": "2024-10-31T12:37:38.141Z"
   },
   {
    "duration": 16,
    "start_time": "2024-10-31T12:37:38.205Z"
   },
   {
    "duration": 32,
    "start_time": "2024-10-31T12:37:38.223Z"
   },
   {
    "duration": 6,
    "start_time": "2024-10-31T12:37:38.257Z"
   },
   {
    "duration": 38,
    "start_time": "2024-10-31T12:37:38.264Z"
   },
   {
    "duration": 8,
    "start_time": "2024-10-31T12:37:38.304Z"
   },
   {
    "duration": 10,
    "start_time": "2024-10-31T12:37:38.313Z"
   },
   {
    "duration": 25,
    "start_time": "2024-10-31T12:37:38.324Z"
   },
   {
    "duration": 37,
    "start_time": "2024-10-31T12:37:38.352Z"
   },
   {
    "duration": 12,
    "start_time": "2024-10-31T12:37:38.391Z"
   },
   {
    "duration": 27,
    "start_time": "2024-10-31T12:37:38.407Z"
   },
   {
    "duration": 31,
    "start_time": "2024-10-31T12:37:38.435Z"
   },
   {
    "duration": 39,
    "start_time": "2024-10-31T12:37:38.486Z"
   },
   {
    "duration": 21,
    "start_time": "2024-10-31T12:37:38.527Z"
   },
   {
    "duration": 7,
    "start_time": "2024-10-31T12:37:38.550Z"
   },
   {
    "duration": 34,
    "start_time": "2024-10-31T12:37:38.559Z"
   },
   {
    "duration": 17,
    "start_time": "2024-10-31T12:37:38.595Z"
   },
   {
    "duration": 42,
    "start_time": "2024-10-31T12:37:38.613Z"
   },
   {
    "duration": 290,
    "start_time": "2024-10-31T12:37:38.656Z"
   },
   {
    "duration": 231,
    "start_time": "2024-10-31T12:37:38.948Z"
   },
   {
    "duration": 12,
    "start_time": "2024-10-31T12:37:39.181Z"
   },
   {
    "duration": 146,
    "start_time": "2024-10-31T12:37:39.194Z"
   },
   {
    "duration": 363,
    "start_time": "2024-10-31T12:37:39.342Z"
   },
   {
    "duration": 381,
    "start_time": "2024-10-31T12:37:39.707Z"
   },
   {
    "duration": 135,
    "start_time": "2024-10-31T12:37:40.090Z"
   },
   {
    "duration": 8,
    "start_time": "2024-10-31T12:37:40.227Z"
   },
   {
    "duration": 6,
    "start_time": "2024-10-31T12:37:40.238Z"
   },
   {
    "duration": 14,
    "start_time": "2024-10-31T12:42:17.714Z"
   },
   {
    "duration": 11,
    "start_time": "2024-10-31T12:42:44.683Z"
   },
   {
    "duration": 12,
    "start_time": "2024-10-31T12:43:34.526Z"
   },
   {
    "duration": 13,
    "start_time": "2024-10-31T12:43:41.877Z"
   },
   {
    "duration": 6,
    "start_time": "2024-10-31T12:44:45.129Z"
   }
  ],
  "kernelspec": {
   "display_name": "Python 3 (ipykernel)",
   "language": "python",
   "name": "python3"
  },
  "language_info": {
   "codemirror_mode": {
    "name": "ipython",
    "version": 3
   },
   "file_extension": ".py",
   "mimetype": "text/x-python",
   "name": "python",
   "nbconvert_exporter": "python",
   "pygments_lexer": "ipython3",
   "version": "3.9.19"
  },
  "toc": {
   "base_numbering": 1,
   "nav_menu": {},
   "number_sections": true,
   "sideBar": true,
   "skip_h1_title": false,
   "title_cell": "Table of Contents",
   "title_sidebar": "Contents",
   "toc_cell": false,
   "toc_position": {},
   "toc_section_display": true,
   "toc_window_display": false
  }
 },
 "nbformat": 4,
 "nbformat_minor": 2
}
